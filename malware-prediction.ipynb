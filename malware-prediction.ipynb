{
 "cells": [
  {
   "cell_type": "code",
   "execution_count": 1,
   "metadata": {
    "_cell_guid": "b1076dfc-b9ad-4769-8c92-a6c4dae69d19",
    "_uuid": "8f2839f25d086af736a60e9eeb907d3b93b6e0e5"
   },
   "outputs": [
    {
     "name": "stdout",
     "output_type": "stream",
     "text": [
      "['train.csv', 'sample_submission.csv', 'test.csv']\n"
     ]
    }
   ],
   "source": [
    "# This Python 3 environment comes with many helpful analytics libraries installed\n",
    "# It is defined by the kaggle/python docker image: https://github.com/kaggle/docker-python\n",
    "# For example, here's several helpful packages to load in \n",
    "\n",
    "import numpy as np # linear algebra\n",
    "import pandas as pd # data processing, CSV file I/O (e.g. pd.read_csv)\n",
    "\n",
    "# Input data files are available in the \"../input/\" directory.\n",
    "\n",
    "# For example, running this (by clicking run or pressing Shift+Enter) will list the files in the input directory\n",
    "\n",
    "import os\n",
    "print(os.listdir(\"../input\"))\n",
    "\n",
    "# Any results you write to the current directory are saved as output."
   ]
  },
  {
   "cell_type": "markdown",
   "metadata": {
    "_uuid": "b7289e77775c1838040b714d72d6e8c34aa255f0"
   },
   "source": [
    "IMPORTING SUITABLE LIBRARIES"
   ]
  },
  {
   "cell_type": "code",
   "execution_count": 2,
   "metadata": {
    "_cell_guid": "79c7e3d0-c299-4dcb-8224-4455121ee9b0",
    "_uuid": "d629ff2d2480ee46fbb7e2d37f6b5fab8052498a"
   },
   "outputs": [
    {
     "name": "stderr",
     "output_type": "stream",
     "text": [
      "Using TensorFlow backend.\n"
     ]
    }
   ],
   "source": [
    "import pandas as pd\n",
    "import numpy as np\n",
    "import matplotlib.pyplot as plt\n",
    "import seaborn as sns\n",
    "from imblearn.over_sampling import SMOTE\n",
    "from sklearn.linear_model import LogisticRegression\n",
    "from sklearn.decomposition import PCA\n",
    "from sklearn import metrics\n",
    "from xgboost import XGBClassifier"
   ]
  },
  {
   "cell_type": "markdown",
   "metadata": {
    "_uuid": "3e1721434fae1674554ede1757f5bba603d5f7ff"
   },
   "source": [
    "IMPORTING THE DATASET"
   ]
  },
  {
   "cell_type": "code",
   "execution_count": 3,
   "metadata": {
    "_uuid": "9378e05d91e10b16fff40c8045d838b67b931123"
   },
   "outputs": [
    {
     "name": "stdout",
     "output_type": "stream",
     "text": [
      "CPU times: user 0 ns, sys: 0 ns, total: 0 ns\n",
      "Wall time: 5.72 µs\n",
      "Loading traininig data..\n",
      "Loading test data..\n"
     ]
    }
   ],
   "source": [
    "#train_data=pd.read_csv(\"../input/train.csv\",low_memory=False)\n",
    "%time\n",
    "train_data = pd.read_csv('../input/train.csv',nrows=100000,low_memory=False)\n",
    "print('Loading traininig data..')\n",
    "test_data = pd.read_csv('../input/test.csv',nrows=100000,low_memory=False)\n",
    "print('Loading test data..')\n",
    "sub_data=pd.read_csv(\"../input/sample_submission.csv\",nrows=100000,low_memory=False)\n"
   ]
  },
  {
   "cell_type": "code",
   "execution_count": 4,
   "metadata": {
    "_uuid": "c2de40470ed7a15e31d3b6d8ca1630bf98ea96fb"
   },
   "outputs": [],
   "source": [
    "#print(sub_data.shape)#test_data=pd.read_csv(\"../input/test.csv\",low_memory=False)"
   ]
  },
  {
   "cell_type": "code",
   "execution_count": 5,
   "metadata": {
    "_uuid": "dcc0635126584ad05795a4a8bdaaec3f298f69ae"
   },
   "outputs": [],
   "source": [
    "#sub_data#sumission_daata=pd.read_csv(\"../input/sample_submission_csv\",low_memory=False)"
   ]
  },
  {
   "cell_type": "code",
   "execution_count": 6,
   "metadata": {
    "_uuid": "a140e6ca04046d541c253064939d2d0326276f82"
   },
   "outputs": [],
   "source": [
    "#print(\"train data shape ={}\".format(train_data.shape))\n",
    "#print(\"test data shape ={}\".format(test_data.shape))\n"
   ]
  },
  {
   "cell_type": "code",
   "execution_count": 7,
   "metadata": {
    "_uuid": "5bcf02d7f11ccc719a912fa6b33d4acf787fb180"
   },
   "outputs": [
    {
     "data": {
      "text/html": [
       "<div>\n",
       "<style scoped>\n",
       "    .dataframe tbody tr th:only-of-type {\n",
       "        vertical-align: middle;\n",
       "    }\n",
       "\n",
       "    .dataframe tbody tr th {\n",
       "        vertical-align: top;\n",
       "    }\n",
       "\n",
       "    .dataframe thead th {\n",
       "        text-align: right;\n",
       "    }\n",
       "</style>\n",
       "<table border=\"1\" class=\"dataframe\">\n",
       "  <thead>\n",
       "    <tr style=\"text-align: right;\">\n",
       "      <th></th>\n",
       "      <th>MachineIdentifier</th>\n",
       "      <th>ProductName</th>\n",
       "      <th>EngineVersion</th>\n",
       "      <th>AppVersion</th>\n",
       "      <th>AvSigVersion</th>\n",
       "      <th>IsBeta</th>\n",
       "      <th>RtpStateBitfield</th>\n",
       "      <th>IsSxsPassiveMode</th>\n",
       "      <th>DefaultBrowsersIdentifier</th>\n",
       "      <th>AVProductStatesIdentifier</th>\n",
       "      <th>AVProductsInstalled</th>\n",
       "      <th>AVProductsEnabled</th>\n",
       "      <th>HasTpm</th>\n",
       "      <th>CountryIdentifier</th>\n",
       "      <th>CityIdentifier</th>\n",
       "      <th>OrganizationIdentifier</th>\n",
       "      <th>GeoNameIdentifier</th>\n",
       "      <th>LocaleEnglishNameIdentifier</th>\n",
       "      <th>Platform</th>\n",
       "      <th>Processor</th>\n",
       "      <th>OsVer</th>\n",
       "      <th>OsBuild</th>\n",
       "      <th>OsSuite</th>\n",
       "      <th>OsPlatformSubRelease</th>\n",
       "      <th>OsBuildLab</th>\n",
       "      <th>SkuEdition</th>\n",
       "      <th>IsProtected</th>\n",
       "      <th>AutoSampleOptIn</th>\n",
       "      <th>PuaMode</th>\n",
       "      <th>SMode</th>\n",
       "      <th>IeVerIdentifier</th>\n",
       "      <th>SmartScreen</th>\n",
       "      <th>Firewall</th>\n",
       "      <th>UacLuaenable</th>\n",
       "      <th>Census_MDC2FormFactor</th>\n",
       "      <th>Census_DeviceFamily</th>\n",
       "      <th>Census_OEMNameIdentifier</th>\n",
       "      <th>Census_OEMModelIdentifier</th>\n",
       "      <th>Census_ProcessorCoreCount</th>\n",
       "      <th>Census_ProcessorManufacturerIdentifier</th>\n",
       "      <th>...</th>\n",
       "      <th>Census_PrimaryDiskTypeName</th>\n",
       "      <th>Census_SystemVolumeTotalCapacity</th>\n",
       "      <th>Census_HasOpticalDiskDrive</th>\n",
       "      <th>Census_TotalPhysicalRAM</th>\n",
       "      <th>Census_ChassisTypeName</th>\n",
       "      <th>Census_InternalPrimaryDiagonalDisplaySizeInInches</th>\n",
       "      <th>Census_InternalPrimaryDisplayResolutionHorizontal</th>\n",
       "      <th>Census_InternalPrimaryDisplayResolutionVertical</th>\n",
       "      <th>Census_PowerPlatformRoleName</th>\n",
       "      <th>Census_InternalBatteryType</th>\n",
       "      <th>Census_InternalBatteryNumberOfCharges</th>\n",
       "      <th>Census_OSVersion</th>\n",
       "      <th>Census_OSArchitecture</th>\n",
       "      <th>Census_OSBranch</th>\n",
       "      <th>Census_OSBuildNumber</th>\n",
       "      <th>Census_OSBuildRevision</th>\n",
       "      <th>Census_OSEdition</th>\n",
       "      <th>Census_OSSkuName</th>\n",
       "      <th>Census_OSInstallTypeName</th>\n",
       "      <th>Census_OSInstallLanguageIdentifier</th>\n",
       "      <th>Census_OSUILocaleIdentifier</th>\n",
       "      <th>Census_OSWUAutoUpdateOptionsName</th>\n",
       "      <th>Census_IsPortableOperatingSystem</th>\n",
       "      <th>Census_GenuineStateName</th>\n",
       "      <th>Census_ActivationChannel</th>\n",
       "      <th>Census_IsFlightingInternal</th>\n",
       "      <th>Census_IsFlightsDisabled</th>\n",
       "      <th>Census_FlightRing</th>\n",
       "      <th>Census_ThresholdOptIn</th>\n",
       "      <th>Census_FirmwareManufacturerIdentifier</th>\n",
       "      <th>Census_FirmwareVersionIdentifier</th>\n",
       "      <th>Census_IsSecureBootEnabled</th>\n",
       "      <th>Census_IsWIMBootEnabled</th>\n",
       "      <th>Census_IsVirtualDevice</th>\n",
       "      <th>Census_IsTouchEnabled</th>\n",
       "      <th>Census_IsPenCapable</th>\n",
       "      <th>Census_IsAlwaysOnAlwaysConnectedCapable</th>\n",
       "      <th>Wdft_IsGamer</th>\n",
       "      <th>Wdft_RegionIdentifier</th>\n",
       "      <th>HasDetections</th>\n",
       "    </tr>\n",
       "  </thead>\n",
       "  <tbody>\n",
       "    <tr>\n",
       "      <th>0</th>\n",
       "      <td>0000028988387b115f69f31a3bf04f09</td>\n",
       "      <td>win8defender</td>\n",
       "      <td>1.1.15100.1</td>\n",
       "      <td>4.18.1807.18075</td>\n",
       "      <td>1.273.1735.0</td>\n",
       "      <td>0</td>\n",
       "      <td>7.0</td>\n",
       "      <td>0</td>\n",
       "      <td>NaN</td>\n",
       "      <td>53447.0</td>\n",
       "      <td>1.0</td>\n",
       "      <td>1.0</td>\n",
       "      <td>1</td>\n",
       "      <td>29</td>\n",
       "      <td>128035.0</td>\n",
       "      <td>18.0</td>\n",
       "      <td>35.0</td>\n",
       "      <td>171</td>\n",
       "      <td>windows10</td>\n",
       "      <td>x64</td>\n",
       "      <td>10.0.0.0</td>\n",
       "      <td>17134</td>\n",
       "      <td>256</td>\n",
       "      <td>rs4</td>\n",
       "      <td>17134.1.amd64fre.rs4_release.180410-1804</td>\n",
       "      <td>Pro</td>\n",
       "      <td>1.0</td>\n",
       "      <td>0</td>\n",
       "      <td>NaN</td>\n",
       "      <td>0.0</td>\n",
       "      <td>137.0</td>\n",
       "      <td>NaN</td>\n",
       "      <td>1.0</td>\n",
       "      <td>1.0</td>\n",
       "      <td>Desktop</td>\n",
       "      <td>Windows.Desktop</td>\n",
       "      <td>2668.0</td>\n",
       "      <td>9124.0</td>\n",
       "      <td>4.0</td>\n",
       "      <td>5.0</td>\n",
       "      <td>...</td>\n",
       "      <td>HDD</td>\n",
       "      <td>299451.0</td>\n",
       "      <td>0</td>\n",
       "      <td>4096.0</td>\n",
       "      <td>Desktop</td>\n",
       "      <td>18.9</td>\n",
       "      <td>1440.0</td>\n",
       "      <td>900.0</td>\n",
       "      <td>Desktop</td>\n",
       "      <td>NaN</td>\n",
       "      <td>4.294967e+09</td>\n",
       "      <td>10.0.17134.165</td>\n",
       "      <td>amd64</td>\n",
       "      <td>rs4_release</td>\n",
       "      <td>17134</td>\n",
       "      <td>165</td>\n",
       "      <td>Professional</td>\n",
       "      <td>PROFESSIONAL</td>\n",
       "      <td>UUPUpgrade</td>\n",
       "      <td>26.0</td>\n",
       "      <td>119</td>\n",
       "      <td>UNKNOWN</td>\n",
       "      <td>0</td>\n",
       "      <td>IS_GENUINE</td>\n",
       "      <td>Retail</td>\n",
       "      <td>NaN</td>\n",
       "      <td>0.0</td>\n",
       "      <td>Retail</td>\n",
       "      <td>NaN</td>\n",
       "      <td>628.0</td>\n",
       "      <td>36144.0</td>\n",
       "      <td>0</td>\n",
       "      <td>NaN</td>\n",
       "      <td>0.0</td>\n",
       "      <td>0</td>\n",
       "      <td>0</td>\n",
       "      <td>0.0</td>\n",
       "      <td>0.0</td>\n",
       "      <td>10.0</td>\n",
       "      <td>0</td>\n",
       "    </tr>\n",
       "    <tr>\n",
       "      <th>1</th>\n",
       "      <td>000007535c3f730efa9ea0b7ef1bd645</td>\n",
       "      <td>win8defender</td>\n",
       "      <td>1.1.14600.4</td>\n",
       "      <td>4.13.17134.1</td>\n",
       "      <td>1.263.48.0</td>\n",
       "      <td>0</td>\n",
       "      <td>7.0</td>\n",
       "      <td>0</td>\n",
       "      <td>NaN</td>\n",
       "      <td>53447.0</td>\n",
       "      <td>1.0</td>\n",
       "      <td>1.0</td>\n",
       "      <td>1</td>\n",
       "      <td>93</td>\n",
       "      <td>1482.0</td>\n",
       "      <td>18.0</td>\n",
       "      <td>119.0</td>\n",
       "      <td>64</td>\n",
       "      <td>windows10</td>\n",
       "      <td>x64</td>\n",
       "      <td>10.0.0.0</td>\n",
       "      <td>17134</td>\n",
       "      <td>256</td>\n",
       "      <td>rs4</td>\n",
       "      <td>17134.1.amd64fre.rs4_release.180410-1804</td>\n",
       "      <td>Pro</td>\n",
       "      <td>1.0</td>\n",
       "      <td>0</td>\n",
       "      <td>NaN</td>\n",
       "      <td>0.0</td>\n",
       "      <td>137.0</td>\n",
       "      <td>NaN</td>\n",
       "      <td>1.0</td>\n",
       "      <td>1.0</td>\n",
       "      <td>Notebook</td>\n",
       "      <td>Windows.Desktop</td>\n",
       "      <td>2668.0</td>\n",
       "      <td>91656.0</td>\n",
       "      <td>4.0</td>\n",
       "      <td>5.0</td>\n",
       "      <td>...</td>\n",
       "      <td>HDD</td>\n",
       "      <td>102385.0</td>\n",
       "      <td>0</td>\n",
       "      <td>4096.0</td>\n",
       "      <td>Notebook</td>\n",
       "      <td>13.9</td>\n",
       "      <td>1366.0</td>\n",
       "      <td>768.0</td>\n",
       "      <td>Mobile</td>\n",
       "      <td>NaN</td>\n",
       "      <td>1.000000e+00</td>\n",
       "      <td>10.0.17134.1</td>\n",
       "      <td>amd64</td>\n",
       "      <td>rs4_release</td>\n",
       "      <td>17134</td>\n",
       "      <td>1</td>\n",
       "      <td>Professional</td>\n",
       "      <td>PROFESSIONAL</td>\n",
       "      <td>IBSClean</td>\n",
       "      <td>8.0</td>\n",
       "      <td>31</td>\n",
       "      <td>UNKNOWN</td>\n",
       "      <td>0</td>\n",
       "      <td>OFFLINE</td>\n",
       "      <td>Retail</td>\n",
       "      <td>NaN</td>\n",
       "      <td>0.0</td>\n",
       "      <td>NOT_SET</td>\n",
       "      <td>NaN</td>\n",
       "      <td>628.0</td>\n",
       "      <td>57858.0</td>\n",
       "      <td>0</td>\n",
       "      <td>NaN</td>\n",
       "      <td>0.0</td>\n",
       "      <td>0</td>\n",
       "      <td>0</td>\n",
       "      <td>0.0</td>\n",
       "      <td>0.0</td>\n",
       "      <td>8.0</td>\n",
       "      <td>0</td>\n",
       "    </tr>\n",
       "    <tr>\n",
       "      <th>2</th>\n",
       "      <td>000007905a28d863f6d0d597892cd692</td>\n",
       "      <td>win8defender</td>\n",
       "      <td>1.1.15100.1</td>\n",
       "      <td>4.18.1807.18075</td>\n",
       "      <td>1.273.1341.0</td>\n",
       "      <td>0</td>\n",
       "      <td>7.0</td>\n",
       "      <td>0</td>\n",
       "      <td>NaN</td>\n",
       "      <td>53447.0</td>\n",
       "      <td>1.0</td>\n",
       "      <td>1.0</td>\n",
       "      <td>1</td>\n",
       "      <td>86</td>\n",
       "      <td>153579.0</td>\n",
       "      <td>18.0</td>\n",
       "      <td>64.0</td>\n",
       "      <td>49</td>\n",
       "      <td>windows10</td>\n",
       "      <td>x64</td>\n",
       "      <td>10.0.0.0</td>\n",
       "      <td>17134</td>\n",
       "      <td>768</td>\n",
       "      <td>rs4</td>\n",
       "      <td>17134.1.amd64fre.rs4_release.180410-1804</td>\n",
       "      <td>Home</td>\n",
       "      <td>1.0</td>\n",
       "      <td>0</td>\n",
       "      <td>NaN</td>\n",
       "      <td>0.0</td>\n",
       "      <td>137.0</td>\n",
       "      <td>RequireAdmin</td>\n",
       "      <td>1.0</td>\n",
       "      <td>1.0</td>\n",
       "      <td>Desktop</td>\n",
       "      <td>Windows.Desktop</td>\n",
       "      <td>4909.0</td>\n",
       "      <td>317701.0</td>\n",
       "      <td>4.0</td>\n",
       "      <td>5.0</td>\n",
       "      <td>...</td>\n",
       "      <td>SSD</td>\n",
       "      <td>113907.0</td>\n",
       "      <td>0</td>\n",
       "      <td>4096.0</td>\n",
       "      <td>Desktop</td>\n",
       "      <td>21.5</td>\n",
       "      <td>1920.0</td>\n",
       "      <td>1080.0</td>\n",
       "      <td>Desktop</td>\n",
       "      <td>NaN</td>\n",
       "      <td>4.294967e+09</td>\n",
       "      <td>10.0.17134.165</td>\n",
       "      <td>amd64</td>\n",
       "      <td>rs4_release</td>\n",
       "      <td>17134</td>\n",
       "      <td>165</td>\n",
       "      <td>Core</td>\n",
       "      <td>CORE</td>\n",
       "      <td>UUPUpgrade</td>\n",
       "      <td>7.0</td>\n",
       "      <td>30</td>\n",
       "      <td>FullAuto</td>\n",
       "      <td>0</td>\n",
       "      <td>IS_GENUINE</td>\n",
       "      <td>OEM:NONSLP</td>\n",
       "      <td>NaN</td>\n",
       "      <td>0.0</td>\n",
       "      <td>Retail</td>\n",
       "      <td>NaN</td>\n",
       "      <td>142.0</td>\n",
       "      <td>52682.0</td>\n",
       "      <td>0</td>\n",
       "      <td>NaN</td>\n",
       "      <td>0.0</td>\n",
       "      <td>0</td>\n",
       "      <td>0</td>\n",
       "      <td>0.0</td>\n",
       "      <td>0.0</td>\n",
       "      <td>3.0</td>\n",
       "      <td>0</td>\n",
       "    </tr>\n",
       "    <tr>\n",
       "      <th>3</th>\n",
       "      <td>00000b11598a75ea8ba1beea8459149f</td>\n",
       "      <td>win8defender</td>\n",
       "      <td>1.1.15100.1</td>\n",
       "      <td>4.18.1807.18075</td>\n",
       "      <td>1.273.1527.0</td>\n",
       "      <td>0</td>\n",
       "      <td>7.0</td>\n",
       "      <td>0</td>\n",
       "      <td>NaN</td>\n",
       "      <td>53447.0</td>\n",
       "      <td>1.0</td>\n",
       "      <td>1.0</td>\n",
       "      <td>1</td>\n",
       "      <td>88</td>\n",
       "      <td>20710.0</td>\n",
       "      <td>NaN</td>\n",
       "      <td>117.0</td>\n",
       "      <td>115</td>\n",
       "      <td>windows10</td>\n",
       "      <td>x64</td>\n",
       "      <td>10.0.0.0</td>\n",
       "      <td>17134</td>\n",
       "      <td>256</td>\n",
       "      <td>rs4</td>\n",
       "      <td>17134.1.amd64fre.rs4_release.180410-1804</td>\n",
       "      <td>Pro</td>\n",
       "      <td>1.0</td>\n",
       "      <td>0</td>\n",
       "      <td>NaN</td>\n",
       "      <td>0.0</td>\n",
       "      <td>137.0</td>\n",
       "      <td>ExistsNotSet</td>\n",
       "      <td>1.0</td>\n",
       "      <td>1.0</td>\n",
       "      <td>Desktop</td>\n",
       "      <td>Windows.Desktop</td>\n",
       "      <td>1443.0</td>\n",
       "      <td>275890.0</td>\n",
       "      <td>4.0</td>\n",
       "      <td>5.0</td>\n",
       "      <td>...</td>\n",
       "      <td>UNKNOWN</td>\n",
       "      <td>227116.0</td>\n",
       "      <td>0</td>\n",
       "      <td>4096.0</td>\n",
       "      <td>MiniTower</td>\n",
       "      <td>18.5</td>\n",
       "      <td>1366.0</td>\n",
       "      <td>768.0</td>\n",
       "      <td>Desktop</td>\n",
       "      <td>NaN</td>\n",
       "      <td>4.294967e+09</td>\n",
       "      <td>10.0.17134.228</td>\n",
       "      <td>amd64</td>\n",
       "      <td>rs4_release</td>\n",
       "      <td>17134</td>\n",
       "      <td>228</td>\n",
       "      <td>Professional</td>\n",
       "      <td>PROFESSIONAL</td>\n",
       "      <td>UUPUpgrade</td>\n",
       "      <td>17.0</td>\n",
       "      <td>64</td>\n",
       "      <td>FullAuto</td>\n",
       "      <td>0</td>\n",
       "      <td>IS_GENUINE</td>\n",
       "      <td>OEM:NONSLP</td>\n",
       "      <td>NaN</td>\n",
       "      <td>0.0</td>\n",
       "      <td>Retail</td>\n",
       "      <td>NaN</td>\n",
       "      <td>355.0</td>\n",
       "      <td>20050.0</td>\n",
       "      <td>0</td>\n",
       "      <td>NaN</td>\n",
       "      <td>0.0</td>\n",
       "      <td>0</td>\n",
       "      <td>0</td>\n",
       "      <td>0.0</td>\n",
       "      <td>0.0</td>\n",
       "      <td>3.0</td>\n",
       "      <td>1</td>\n",
       "    </tr>\n",
       "    <tr>\n",
       "      <th>4</th>\n",
       "      <td>000014a5f00daa18e76b81417eeb99fc</td>\n",
       "      <td>win8defender</td>\n",
       "      <td>1.1.15100.1</td>\n",
       "      <td>4.18.1807.18075</td>\n",
       "      <td>1.273.1379.0</td>\n",
       "      <td>0</td>\n",
       "      <td>7.0</td>\n",
       "      <td>0</td>\n",
       "      <td>NaN</td>\n",
       "      <td>53447.0</td>\n",
       "      <td>1.0</td>\n",
       "      <td>1.0</td>\n",
       "      <td>1</td>\n",
       "      <td>18</td>\n",
       "      <td>37376.0</td>\n",
       "      <td>NaN</td>\n",
       "      <td>277.0</td>\n",
       "      <td>75</td>\n",
       "      <td>windows10</td>\n",
       "      <td>x64</td>\n",
       "      <td>10.0.0.0</td>\n",
       "      <td>17134</td>\n",
       "      <td>768</td>\n",
       "      <td>rs4</td>\n",
       "      <td>17134.1.amd64fre.rs4_release.180410-1804</td>\n",
       "      <td>Home</td>\n",
       "      <td>1.0</td>\n",
       "      <td>0</td>\n",
       "      <td>NaN</td>\n",
       "      <td>0.0</td>\n",
       "      <td>137.0</td>\n",
       "      <td>RequireAdmin</td>\n",
       "      <td>1.0</td>\n",
       "      <td>1.0</td>\n",
       "      <td>Notebook</td>\n",
       "      <td>Windows.Desktop</td>\n",
       "      <td>1443.0</td>\n",
       "      <td>331929.0</td>\n",
       "      <td>4.0</td>\n",
       "      <td>5.0</td>\n",
       "      <td>...</td>\n",
       "      <td>HDD</td>\n",
       "      <td>101900.0</td>\n",
       "      <td>0</td>\n",
       "      <td>6144.0</td>\n",
       "      <td>Portable</td>\n",
       "      <td>14.0</td>\n",
       "      <td>1366.0</td>\n",
       "      <td>768.0</td>\n",
       "      <td>Mobile</td>\n",
       "      <td>lion</td>\n",
       "      <td>0.000000e+00</td>\n",
       "      <td>10.0.17134.191</td>\n",
       "      <td>amd64</td>\n",
       "      <td>rs4_release</td>\n",
       "      <td>17134</td>\n",
       "      <td>191</td>\n",
       "      <td>Core</td>\n",
       "      <td>CORE</td>\n",
       "      <td>Update</td>\n",
       "      <td>8.0</td>\n",
       "      <td>31</td>\n",
       "      <td>FullAuto</td>\n",
       "      <td>0</td>\n",
       "      <td>IS_GENUINE</td>\n",
       "      <td>Retail</td>\n",
       "      <td>0.0</td>\n",
       "      <td>0.0</td>\n",
       "      <td>Retail</td>\n",
       "      <td>0.0</td>\n",
       "      <td>355.0</td>\n",
       "      <td>19844.0</td>\n",
       "      <td>0</td>\n",
       "      <td>0.0</td>\n",
       "      <td>0.0</td>\n",
       "      <td>0</td>\n",
       "      <td>0</td>\n",
       "      <td>0.0</td>\n",
       "      <td>0.0</td>\n",
       "      <td>1.0</td>\n",
       "      <td>1</td>\n",
       "    </tr>\n",
       "  </tbody>\n",
       "</table>\n",
       "</div>"
      ],
      "text/plain": [
       "                  MachineIdentifier      ...      HasDetections\n",
       "0  0000028988387b115f69f31a3bf04f09      ...                  0\n",
       "1  000007535c3f730efa9ea0b7ef1bd645      ...                  0\n",
       "2  000007905a28d863f6d0d597892cd692      ...                  0\n",
       "3  00000b11598a75ea8ba1beea8459149f      ...                  1\n",
       "4  000014a5f00daa18e76b81417eeb99fc      ...                  1\n",
       "\n",
       "[5 rows x 83 columns]"
      ]
     },
     "execution_count": 7,
     "metadata": {},
     "output_type": "execute_result"
    }
   ],
   "source": [
    "train_data.head()"
   ]
  },
  {
   "cell_type": "code",
   "execution_count": 8,
   "metadata": {
    "_uuid": "f170e573181986c5d39256781be62080ac6e0a53"
   },
   "outputs": [
    {
     "data": {
      "text/html": [
       "<div>\n",
       "<style scoped>\n",
       "    .dataframe tbody tr th:only-of-type {\n",
       "        vertical-align: middle;\n",
       "    }\n",
       "\n",
       "    .dataframe tbody tr th {\n",
       "        vertical-align: top;\n",
       "    }\n",
       "\n",
       "    .dataframe thead th {\n",
       "        text-align: right;\n",
       "    }\n",
       "</style>\n",
       "<table border=\"1\" class=\"dataframe\">\n",
       "  <thead>\n",
       "    <tr style=\"text-align: right;\">\n",
       "      <th></th>\n",
       "      <th>IsBeta</th>\n",
       "      <th>RtpStateBitfield</th>\n",
       "      <th>IsSxsPassiveMode</th>\n",
       "      <th>DefaultBrowsersIdentifier</th>\n",
       "      <th>AVProductStatesIdentifier</th>\n",
       "      <th>AVProductsInstalled</th>\n",
       "      <th>AVProductsEnabled</th>\n",
       "      <th>HasTpm</th>\n",
       "      <th>CountryIdentifier</th>\n",
       "      <th>CityIdentifier</th>\n",
       "      <th>OrganizationIdentifier</th>\n",
       "      <th>GeoNameIdentifier</th>\n",
       "      <th>LocaleEnglishNameIdentifier</th>\n",
       "      <th>OsBuild</th>\n",
       "      <th>OsSuite</th>\n",
       "      <th>IsProtected</th>\n",
       "      <th>AutoSampleOptIn</th>\n",
       "      <th>SMode</th>\n",
       "      <th>IeVerIdentifier</th>\n",
       "      <th>Firewall</th>\n",
       "      <th>UacLuaenable</th>\n",
       "      <th>Census_OEMNameIdentifier</th>\n",
       "      <th>Census_OEMModelIdentifier</th>\n",
       "      <th>Census_ProcessorCoreCount</th>\n",
       "      <th>Census_ProcessorManufacturerIdentifier</th>\n",
       "      <th>Census_ProcessorModelIdentifier</th>\n",
       "      <th>Census_PrimaryDiskTotalCapacity</th>\n",
       "      <th>Census_SystemVolumeTotalCapacity</th>\n",
       "      <th>Census_HasOpticalDiskDrive</th>\n",
       "      <th>Census_TotalPhysicalRAM</th>\n",
       "      <th>Census_InternalPrimaryDiagonalDisplaySizeInInches</th>\n",
       "      <th>Census_InternalPrimaryDisplayResolutionHorizontal</th>\n",
       "      <th>Census_InternalPrimaryDisplayResolutionVertical</th>\n",
       "      <th>Census_InternalBatteryNumberOfCharges</th>\n",
       "      <th>Census_OSBuildNumber</th>\n",
       "      <th>Census_OSBuildRevision</th>\n",
       "      <th>Census_OSInstallLanguageIdentifier</th>\n",
       "      <th>Census_OSUILocaleIdentifier</th>\n",
       "      <th>Census_IsPortableOperatingSystem</th>\n",
       "      <th>Census_IsFlightingInternal</th>\n",
       "      <th>Census_IsFlightsDisabled</th>\n",
       "      <th>Census_ThresholdOptIn</th>\n",
       "      <th>Census_FirmwareManufacturerIdentifier</th>\n",
       "      <th>Census_FirmwareVersionIdentifier</th>\n",
       "      <th>Census_IsSecureBootEnabled</th>\n",
       "      <th>Census_IsWIMBootEnabled</th>\n",
       "      <th>Census_IsVirtualDevice</th>\n",
       "      <th>Census_IsTouchEnabled</th>\n",
       "      <th>Census_IsPenCapable</th>\n",
       "      <th>Census_IsAlwaysOnAlwaysConnectedCapable</th>\n",
       "      <th>Wdft_IsGamer</th>\n",
       "      <th>Wdft_RegionIdentifier</th>\n",
       "      <th>HasDetections</th>\n",
       "    </tr>\n",
       "  </thead>\n",
       "  <tbody>\n",
       "    <tr>\n",
       "      <th>count</th>\n",
       "      <td>100000.0</td>\n",
       "      <td>99639.000000</td>\n",
       "      <td>100000.000000</td>\n",
       "      <td>4890.000000</td>\n",
       "      <td>99607.000000</td>\n",
       "      <td>99607.000000</td>\n",
       "      <td>99607.000000</td>\n",
       "      <td>100000.000000</td>\n",
       "      <td>100000.000000</td>\n",
       "      <td>96385.000000</td>\n",
       "      <td>69336.000000</td>\n",
       "      <td>99999.000000</td>\n",
       "      <td>100000.00000</td>\n",
       "      <td>100000.000000</td>\n",
       "      <td>100000.000000</td>\n",
       "      <td>99609.000000</td>\n",
       "      <td>100000.000000</td>\n",
       "      <td>94068.000000</td>\n",
       "      <td>99335.000000</td>\n",
       "      <td>98924.000000</td>\n",
       "      <td>99884.000000</td>\n",
       "      <td>98946.000000</td>\n",
       "      <td>98853.000000</td>\n",
       "      <td>99524.000000</td>\n",
       "      <td>99524.000000</td>\n",
       "      <td>99523.000000</td>\n",
       "      <td>9.939000e+04</td>\n",
       "      <td>9.939000e+04</td>\n",
       "      <td>100000.000000</td>\n",
       "      <td>99079.000000</td>\n",
       "      <td>99470.000000</td>\n",
       "      <td>99471.000000</td>\n",
       "      <td>99471.000000</td>\n",
       "      <td>9.695100e+04</td>\n",
       "      <td>100000.000000</td>\n",
       "      <td>100000.000000</td>\n",
       "      <td>99318.000000</td>\n",
       "      <td>100000.00000</td>\n",
       "      <td>100000.000000</td>\n",
       "      <td>16837.0</td>\n",
       "      <td>98187.0</td>\n",
       "      <td>36262.000000</td>\n",
       "      <td>97912.000000</td>\n",
       "      <td>98167.000000</td>\n",
       "      <td>100000.000000</td>\n",
       "      <td>36341.0</td>\n",
       "      <td>99815.000000</td>\n",
       "      <td>100000.000000</td>\n",
       "      <td>100000.00000</td>\n",
       "      <td>99157.000000</td>\n",
       "      <td>96585.000000</td>\n",
       "      <td>96585.000000</td>\n",
       "      <td>100000.000000</td>\n",
       "    </tr>\n",
       "    <tr>\n",
       "      <th>mean</th>\n",
       "      <td>0.0</td>\n",
       "      <td>6.845643</td>\n",
       "      <td>0.017630</td>\n",
       "      <td>1637.011247</td>\n",
       "      <td>47876.296023</td>\n",
       "      <td>1.322809</td>\n",
       "      <td>1.019989</td>\n",
       "      <td>0.987270</td>\n",
       "      <td>108.188050</td>\n",
       "      <td>81072.575307</td>\n",
       "      <td>24.887028</td>\n",
       "      <td>169.911139</td>\n",
       "      <td>123.11554</td>\n",
       "      <td>15720.155240</td>\n",
       "      <td>574.456210</td>\n",
       "      <td>0.944864</td>\n",
       "      <td>0.000030</td>\n",
       "      <td>0.000351</td>\n",
       "      <td>126.596869</td>\n",
       "      <td>0.977326</td>\n",
       "      <td>0.996216</td>\n",
       "      <td>2216.715077</td>\n",
       "      <td>239080.053564</td>\n",
       "      <td>3.988646</td>\n",
       "      <td>4.530555</td>\n",
       "      <td>2370.564201</td>\n",
       "      <td>5.129477e+05</td>\n",
       "      <td>3.771285e+05</td>\n",
       "      <td>0.075850</td>\n",
       "      <td>6112.640307</td>\n",
       "      <td>16.704980</td>\n",
       "      <td>1548.223864</td>\n",
       "      <td>897.919283</td>\n",
       "      <td>1.128907e+09</td>\n",
       "      <td>15834.706150</td>\n",
       "      <td>969.985240</td>\n",
       "      <td>14.622234</td>\n",
       "      <td>60.50777</td>\n",
       "      <td>0.000770</td>\n",
       "      <td>0.0</td>\n",
       "      <td>0.0</td>\n",
       "      <td>0.000359</td>\n",
       "      <td>401.715397</td>\n",
       "      <td>33056.529618</td>\n",
       "      <td>0.484990</td>\n",
       "      <td>0.0</td>\n",
       "      <td>0.006642</td>\n",
       "      <td>0.125420</td>\n",
       "      <td>0.03715</td>\n",
       "      <td>0.057515</td>\n",
       "      <td>0.281607</td>\n",
       "      <td>7.850960</td>\n",
       "      <td>0.499280</td>\n",
       "    </tr>\n",
       "    <tr>\n",
       "      <th>std</th>\n",
       "      <td>0.0</td>\n",
       "      <td>1.025645</td>\n",
       "      <td>0.131603</td>\n",
       "      <td>999.936760</td>\n",
       "      <td>14023.317478</td>\n",
       "      <td>0.519449</td>\n",
       "      <td>0.162839</td>\n",
       "      <td>0.112107</td>\n",
       "      <td>62.989406</td>\n",
       "      <td>48941.678952</td>\n",
       "      <td>5.642835</td>\n",
       "      <td>89.276001</td>\n",
       "      <td>69.53964</td>\n",
       "      <td>2192.122715</td>\n",
       "      <td>248.253105</td>\n",
       "      <td>0.228246</td>\n",
       "      <td>0.005477</td>\n",
       "      <td>0.018727</td>\n",
       "      <td>42.648675</td>\n",
       "      <td>0.148863</td>\n",
       "      <td>0.341617</td>\n",
       "      <td>1317.845445</td>\n",
       "      <td>72048.827406</td>\n",
       "      <td>2.064072</td>\n",
       "      <td>1.288238</td>\n",
       "      <td>841.604643</td>\n",
       "      <td>3.629911e+05</td>\n",
       "      <td>3.315180e+05</td>\n",
       "      <td>0.264759</td>\n",
       "      <td>5126.889792</td>\n",
       "      <td>5.997297</td>\n",
       "      <td>365.064440</td>\n",
       "      <td>213.345332</td>\n",
       "      <td>1.890562e+09</td>\n",
       "      <td>1960.625235</td>\n",
       "      <td>2921.356273</td>\n",
       "      <td>10.205771</td>\n",
       "      <td>45.02255</td>\n",
       "      <td>0.027738</td>\n",
       "      <td>0.0</td>\n",
       "      <td>0.0</td>\n",
       "      <td>0.018931</td>\n",
       "      <td>221.674626</td>\n",
       "      <td>21224.208041</td>\n",
       "      <td>0.499777</td>\n",
       "      <td>0.0</td>\n",
       "      <td>0.081230</td>\n",
       "      <td>0.331196</td>\n",
       "      <td>0.18913</td>\n",
       "      <td>0.232825</td>\n",
       "      <td>0.449785</td>\n",
       "      <td>4.565716</td>\n",
       "      <td>0.500002</td>\n",
       "    </tr>\n",
       "    <tr>\n",
       "      <th>min</th>\n",
       "      <td>0.0</td>\n",
       "      <td>0.000000</td>\n",
       "      <td>0.000000</td>\n",
       "      <td>1.000000</td>\n",
       "      <td>39.000000</td>\n",
       "      <td>1.000000</td>\n",
       "      <td>0.000000</td>\n",
       "      <td>0.000000</td>\n",
       "      <td>1.000000</td>\n",
       "      <td>7.000000</td>\n",
       "      <td>1.000000</td>\n",
       "      <td>1.000000</td>\n",
       "      <td>1.00000</td>\n",
       "      <td>7600.000000</td>\n",
       "      <td>16.000000</td>\n",
       "      <td>0.000000</td>\n",
       "      <td>0.000000</td>\n",
       "      <td>0.000000</td>\n",
       "      <td>1.000000</td>\n",
       "      <td>0.000000</td>\n",
       "      <td>0.000000</td>\n",
       "      <td>74.000000</td>\n",
       "      <td>23.000000</td>\n",
       "      <td>1.000000</td>\n",
       "      <td>1.000000</td>\n",
       "      <td>10.000000</td>\n",
       "      <td>1.068000e+04</td>\n",
       "      <td>1.012900e+04</td>\n",
       "      <td>0.000000</td>\n",
       "      <td>512.000000</td>\n",
       "      <td>4.900000</td>\n",
       "      <td>-1.000000</td>\n",
       "      <td>-1.000000</td>\n",
       "      <td>0.000000e+00</td>\n",
       "      <td>10240.000000</td>\n",
       "      <td>0.000000</td>\n",
       "      <td>1.000000</td>\n",
       "      <td>5.00000</td>\n",
       "      <td>0.000000</td>\n",
       "      <td>0.0</td>\n",
       "      <td>0.0</td>\n",
       "      <td>0.000000</td>\n",
       "      <td>9.000000</td>\n",
       "      <td>5.000000</td>\n",
       "      <td>0.000000</td>\n",
       "      <td>0.0</td>\n",
       "      <td>0.000000</td>\n",
       "      <td>0.000000</td>\n",
       "      <td>0.00000</td>\n",
       "      <td>0.000000</td>\n",
       "      <td>0.000000</td>\n",
       "      <td>1.000000</td>\n",
       "      <td>0.000000</td>\n",
       "    </tr>\n",
       "    <tr>\n",
       "      <th>25%</th>\n",
       "      <td>0.0</td>\n",
       "      <td>7.000000</td>\n",
       "      <td>0.000000</td>\n",
       "      <td>788.000000</td>\n",
       "      <td>49480.000000</td>\n",
       "      <td>1.000000</td>\n",
       "      <td>1.000000</td>\n",
       "      <td>1.000000</td>\n",
       "      <td>51.000000</td>\n",
       "      <td>36303.000000</td>\n",
       "      <td>18.000000</td>\n",
       "      <td>89.000000</td>\n",
       "      <td>74.00000</td>\n",
       "      <td>15063.000000</td>\n",
       "      <td>256.000000</td>\n",
       "      <td>1.000000</td>\n",
       "      <td>0.000000</td>\n",
       "      <td>0.000000</td>\n",
       "      <td>111.000000</td>\n",
       "      <td>1.000000</td>\n",
       "      <td>1.000000</td>\n",
       "      <td>1443.000000</td>\n",
       "      <td>189586.000000</td>\n",
       "      <td>2.000000</td>\n",
       "      <td>5.000000</td>\n",
       "      <td>1998.000000</td>\n",
       "      <td>2.384750e+05</td>\n",
       "      <td>1.207430e+05</td>\n",
       "      <td>0.000000</td>\n",
       "      <td>4096.000000</td>\n",
       "      <td>13.900000</td>\n",
       "      <td>1366.000000</td>\n",
       "      <td>768.000000</td>\n",
       "      <td>0.000000e+00</td>\n",
       "      <td>15063.000000</td>\n",
       "      <td>165.000000</td>\n",
       "      <td>8.000000</td>\n",
       "      <td>31.00000</td>\n",
       "      <td>0.000000</td>\n",
       "      <td>0.0</td>\n",
       "      <td>0.0</td>\n",
       "      <td>0.000000</td>\n",
       "      <td>142.000000</td>\n",
       "      <td>13154.000000</td>\n",
       "      <td>0.000000</td>\n",
       "      <td>0.0</td>\n",
       "      <td>0.000000</td>\n",
       "      <td>0.000000</td>\n",
       "      <td>0.00000</td>\n",
       "      <td>0.000000</td>\n",
       "      <td>0.000000</td>\n",
       "      <td>3.000000</td>\n",
       "      <td>0.000000</td>\n",
       "    </tr>\n",
       "    <tr>\n",
       "      <th>50%</th>\n",
       "      <td>0.0</td>\n",
       "      <td>7.000000</td>\n",
       "      <td>0.000000</td>\n",
       "      <td>1632.000000</td>\n",
       "      <td>53447.000000</td>\n",
       "      <td>1.000000</td>\n",
       "      <td>1.000000</td>\n",
       "      <td>1.000000</td>\n",
       "      <td>97.000000</td>\n",
       "      <td>82373.000000</td>\n",
       "      <td>27.000000</td>\n",
       "      <td>181.000000</td>\n",
       "      <td>88.00000</td>\n",
       "      <td>16299.000000</td>\n",
       "      <td>768.000000</td>\n",
       "      <td>1.000000</td>\n",
       "      <td>0.000000</td>\n",
       "      <td>0.000000</td>\n",
       "      <td>117.000000</td>\n",
       "      <td>1.000000</td>\n",
       "      <td>1.000000</td>\n",
       "      <td>2102.000000</td>\n",
       "      <td>246974.000000</td>\n",
       "      <td>4.000000</td>\n",
       "      <td>5.000000</td>\n",
       "      <td>2500.000000</td>\n",
       "      <td>4.769400e+05</td>\n",
       "      <td>2.494340e+05</td>\n",
       "      <td>0.000000</td>\n",
       "      <td>4096.000000</td>\n",
       "      <td>15.500000</td>\n",
       "      <td>1366.000000</td>\n",
       "      <td>768.000000</td>\n",
       "      <td>0.000000e+00</td>\n",
       "      <td>16299.000000</td>\n",
       "      <td>285.000000</td>\n",
       "      <td>9.000000</td>\n",
       "      <td>34.00000</td>\n",
       "      <td>0.000000</td>\n",
       "      <td>0.0</td>\n",
       "      <td>0.0</td>\n",
       "      <td>0.000000</td>\n",
       "      <td>500.000000</td>\n",
       "      <td>33070.000000</td>\n",
       "      <td>0.000000</td>\n",
       "      <td>0.0</td>\n",
       "      <td>0.000000</td>\n",
       "      <td>0.000000</td>\n",
       "      <td>0.00000</td>\n",
       "      <td>0.000000</td>\n",
       "      <td>0.000000</td>\n",
       "      <td>10.000000</td>\n",
       "      <td>0.000000</td>\n",
       "    </tr>\n",
       "    <tr>\n",
       "      <th>75%</th>\n",
       "      <td>0.0</td>\n",
       "      <td>7.000000</td>\n",
       "      <td>0.000000</td>\n",
       "      <td>2290.000000</td>\n",
       "      <td>53447.000000</td>\n",
       "      <td>2.000000</td>\n",
       "      <td>1.000000</td>\n",
       "      <td>1.000000</td>\n",
       "      <td>162.000000</td>\n",
       "      <td>123627.000000</td>\n",
       "      <td>27.000000</td>\n",
       "      <td>267.000000</td>\n",
       "      <td>182.00000</td>\n",
       "      <td>17134.000000</td>\n",
       "      <td>768.000000</td>\n",
       "      <td>1.000000</td>\n",
       "      <td>0.000000</td>\n",
       "      <td>0.000000</td>\n",
       "      <td>137.000000</td>\n",
       "      <td>1.000000</td>\n",
       "      <td>1.000000</td>\n",
       "      <td>2668.000000</td>\n",
       "      <td>304861.000000</td>\n",
       "      <td>4.000000</td>\n",
       "      <td>5.000000</td>\n",
       "      <td>2874.000000</td>\n",
       "      <td>9.538690e+05</td>\n",
       "      <td>4.759680e+05</td>\n",
       "      <td>0.000000</td>\n",
       "      <td>8192.000000</td>\n",
       "      <td>17.300000</td>\n",
       "      <td>1920.000000</td>\n",
       "      <td>1080.000000</td>\n",
       "      <td>4.294967e+09</td>\n",
       "      <td>17134.000000</td>\n",
       "      <td>547.000000</td>\n",
       "      <td>20.000000</td>\n",
       "      <td>92.00000</td>\n",
       "      <td>0.000000</td>\n",
       "      <td>0.0</td>\n",
       "      <td>0.0</td>\n",
       "      <td>0.000000</td>\n",
       "      <td>556.000000</td>\n",
       "      <td>52458.000000</td>\n",
       "      <td>1.000000</td>\n",
       "      <td>0.0</td>\n",
       "      <td>0.000000</td>\n",
       "      <td>0.000000</td>\n",
       "      <td>0.00000</td>\n",
       "      <td>0.000000</td>\n",
       "      <td>1.000000</td>\n",
       "      <td>11.000000</td>\n",
       "      <td>1.000000</td>\n",
       "    </tr>\n",
       "    <tr>\n",
       "      <th>max</th>\n",
       "      <td>0.0</td>\n",
       "      <td>8.000000</td>\n",
       "      <td>1.000000</td>\n",
       "      <td>3195.000000</td>\n",
       "      <td>70486.000000</td>\n",
       "      <td>5.000000</td>\n",
       "      <td>4.000000</td>\n",
       "      <td>1.000000</td>\n",
       "      <td>222.000000</td>\n",
       "      <td>167953.000000</td>\n",
       "      <td>52.000000</td>\n",
       "      <td>295.000000</td>\n",
       "      <td>283.00000</td>\n",
       "      <td>18237.000000</td>\n",
       "      <td>784.000000</td>\n",
       "      <td>1.000000</td>\n",
       "      <td>1.000000</td>\n",
       "      <td>1.000000</td>\n",
       "      <td>429.000000</td>\n",
       "      <td>1.000000</td>\n",
       "      <td>48.000000</td>\n",
       "      <td>6144.000000</td>\n",
       "      <td>345494.000000</td>\n",
       "      <td>80.000000</td>\n",
       "      <td>10.000000</td>\n",
       "      <td>4471.000000</td>\n",
       "      <td>2.289266e+07</td>\n",
       "      <td>2.289204e+07</td>\n",
       "      <td>1.000000</td>\n",
       "      <td>524288.000000</td>\n",
       "      <td>142.000000</td>\n",
       "      <td>5760.000000</td>\n",
       "      <td>3000.000000</td>\n",
       "      <td>4.294967e+09</td>\n",
       "      <td>18242.000000</td>\n",
       "      <td>17976.000000</td>\n",
       "      <td>39.000000</td>\n",
       "      <td>161.00000</td>\n",
       "      <td>1.000000</td>\n",
       "      <td>0.0</td>\n",
       "      <td>0.0</td>\n",
       "      <td>1.000000</td>\n",
       "      <td>1083.000000</td>\n",
       "      <td>72091.000000</td>\n",
       "      <td>1.000000</td>\n",
       "      <td>0.0</td>\n",
       "      <td>1.000000</td>\n",
       "      <td>1.000000</td>\n",
       "      <td>1.00000</td>\n",
       "      <td>1.000000</td>\n",
       "      <td>1.000000</td>\n",
       "      <td>15.000000</td>\n",
       "      <td>1.000000</td>\n",
       "    </tr>\n",
       "  </tbody>\n",
       "</table>\n",
       "</div>"
      ],
      "text/plain": [
       "         IsBeta      ...        HasDetections\n",
       "count  100000.0      ...        100000.000000\n",
       "mean        0.0      ...             0.499280\n",
       "std         0.0      ...             0.500002\n",
       "min         0.0      ...             0.000000\n",
       "25%         0.0      ...             0.000000\n",
       "50%         0.0      ...             0.000000\n",
       "75%         0.0      ...             1.000000\n",
       "max         0.0      ...             1.000000\n",
       "\n",
       "[8 rows x 53 columns]"
      ]
     },
     "execution_count": 8,
     "metadata": {},
     "output_type": "execute_result"
    }
   ],
   "source": [
    "train_data.describe()"
   ]
  },
  {
   "cell_type": "code",
   "execution_count": 9,
   "metadata": {
    "_uuid": "172e3d8dfc3a3f327d544285ecc863322eda4f82"
   },
   "outputs": [
    {
     "name": "stdout",
     "output_type": "stream",
     "text": [
      "<class 'pandas.core.frame.DataFrame'>\n",
      "RangeIndex: 100000 entries, 0 to 99999\n",
      "Data columns (total 83 columns):\n",
      "MachineIdentifier                                    100000 non-null object\n",
      "ProductName                                          100000 non-null object\n",
      "EngineVersion                                        100000 non-null object\n",
      "AppVersion                                           100000 non-null object\n",
      "AvSigVersion                                         100000 non-null object\n",
      "IsBeta                                               100000 non-null int64\n",
      "RtpStateBitfield                                     99639 non-null float64\n",
      "IsSxsPassiveMode                                     100000 non-null int64\n",
      "DefaultBrowsersIdentifier                            4890 non-null float64\n",
      "AVProductStatesIdentifier                            99607 non-null float64\n",
      "AVProductsInstalled                                  99607 non-null float64\n",
      "AVProductsEnabled                                    99607 non-null float64\n",
      "HasTpm                                               100000 non-null int64\n",
      "CountryIdentifier                                    100000 non-null int64\n",
      "CityIdentifier                                       96385 non-null float64\n",
      "OrganizationIdentifier                               69336 non-null float64\n",
      "GeoNameIdentifier                                    99999 non-null float64\n",
      "LocaleEnglishNameIdentifier                          100000 non-null int64\n",
      "Platform                                             100000 non-null object\n",
      "Processor                                            100000 non-null object\n",
      "OsVer                                                100000 non-null object\n",
      "OsBuild                                              100000 non-null int64\n",
      "OsSuite                                              100000 non-null int64\n",
      "OsPlatformSubRelease                                 100000 non-null object\n",
      "OsBuildLab                                           99999 non-null object\n",
      "SkuEdition                                           100000 non-null object\n",
      "IsProtected                                          99609 non-null float64\n",
      "AutoSampleOptIn                                      100000 non-null int64\n",
      "PuaMode                                              31 non-null object\n",
      "SMode                                                94068 non-null float64\n",
      "IeVerIdentifier                                      99335 non-null float64\n",
      "SmartScreen                                          64269 non-null object\n",
      "Firewall                                             98924 non-null float64\n",
      "UacLuaenable                                         99884 non-null float64\n",
      "Census_MDC2FormFactor                                100000 non-null object\n",
      "Census_DeviceFamily                                  100000 non-null object\n",
      "Census_OEMNameIdentifier                             98946 non-null float64\n",
      "Census_OEMModelIdentifier                            98853 non-null float64\n",
      "Census_ProcessorCoreCount                            99524 non-null float64\n",
      "Census_ProcessorManufacturerIdentifier               99524 non-null float64\n",
      "Census_ProcessorModelIdentifier                      99523 non-null float64\n",
      "Census_ProcessorClass                                427 non-null object\n",
      "Census_PrimaryDiskTotalCapacity                      99390 non-null float64\n",
      "Census_PrimaryDiskTypeName                           99839 non-null object\n",
      "Census_SystemVolumeTotalCapacity                     99390 non-null float64\n",
      "Census_HasOpticalDiskDrive                           100000 non-null int64\n",
      "Census_TotalPhysicalRAM                              99079 non-null float64\n",
      "Census_ChassisTypeName                               99994 non-null object\n",
      "Census_InternalPrimaryDiagonalDisplaySizeInInches    99470 non-null float64\n",
      "Census_InternalPrimaryDisplayResolutionHorizontal    99471 non-null float64\n",
      "Census_InternalPrimaryDisplayResolutionVertical      99471 non-null float64\n",
      "Census_PowerPlatformRoleName                         100000 non-null object\n",
      "Census_InternalBatteryType                           28760 non-null object\n",
      "Census_InternalBatteryNumberOfCharges                96951 non-null float64\n",
      "Census_OSVersion                                     100000 non-null object\n",
      "Census_OSArchitecture                                100000 non-null object\n",
      "Census_OSBranch                                      100000 non-null object\n",
      "Census_OSBuildNumber                                 100000 non-null int64\n",
      "Census_OSBuildRevision                               100000 non-null int64\n",
      "Census_OSEdition                                     100000 non-null object\n",
      "Census_OSSkuName                                     100000 non-null object\n",
      "Census_OSInstallTypeName                             100000 non-null object\n",
      "Census_OSInstallLanguageIdentifier                   99318 non-null float64\n",
      "Census_OSUILocaleIdentifier                          100000 non-null int64\n",
      "Census_OSWUAutoUpdateOptionsName                     100000 non-null object\n",
      "Census_IsPortableOperatingSystem                     100000 non-null int64\n",
      "Census_GenuineStateName                              100000 non-null object\n",
      "Census_ActivationChannel                             100000 non-null object\n",
      "Census_IsFlightingInternal                           16837 non-null float64\n",
      "Census_IsFlightsDisabled                             98187 non-null float64\n",
      "Census_FlightRing                                    100000 non-null object\n",
      "Census_ThresholdOptIn                                36262 non-null float64\n",
      "Census_FirmwareManufacturerIdentifier                97912 non-null float64\n",
      "Census_FirmwareVersionIdentifier                     98167 non-null float64\n",
      "Census_IsSecureBootEnabled                           100000 non-null int64\n",
      "Census_IsWIMBootEnabled                              36341 non-null float64\n",
      "Census_IsVirtualDevice                               99815 non-null float64\n",
      "Census_IsTouchEnabled                                100000 non-null int64\n",
      "Census_IsPenCapable                                  100000 non-null int64\n",
      "Census_IsAlwaysOnAlwaysConnectedCapable              99157 non-null float64\n",
      "Wdft_IsGamer                                         96585 non-null float64\n",
      "Wdft_RegionIdentifier                                96585 non-null float64\n",
      "HasDetections                                        100000 non-null int64\n",
      "dtypes: float64(36), int64(17), object(30)\n",
      "memory usage: 63.3+ MB\n"
     ]
    }
   ],
   "source": [
    "train_data.info()"
   ]
  },
  {
   "cell_type": "code",
   "execution_count": 10,
   "metadata": {
    "_uuid": "54c89bef07925dabebeb64b88bc2587d83ff90af"
   },
   "outputs": [
    {
     "data": {
      "text/plain": [
       "Index(['MachineIdentifier', 'ProductName', 'EngineVersion', 'AppVersion',\n",
       "       'AvSigVersion', 'IsBeta', 'RtpStateBitfield', 'IsSxsPassiveMode',\n",
       "       'DefaultBrowsersIdentifier', 'AVProductStatesIdentifier',\n",
       "       'AVProductsInstalled', 'AVProductsEnabled', 'HasTpm',\n",
       "       'CountryIdentifier', 'CityIdentifier', 'OrganizationIdentifier',\n",
       "       'GeoNameIdentifier', 'LocaleEnglishNameIdentifier', 'Platform',\n",
       "       'Processor', 'OsVer', 'OsBuild', 'OsSuite', 'OsPlatformSubRelease',\n",
       "       'OsBuildLab', 'SkuEdition', 'IsProtected', 'AutoSampleOptIn', 'PuaMode',\n",
       "       'SMode', 'IeVerIdentifier', 'SmartScreen', 'Firewall', 'UacLuaenable',\n",
       "       'Census_MDC2FormFactor', 'Census_DeviceFamily',\n",
       "       'Census_OEMNameIdentifier', 'Census_OEMModelIdentifier',\n",
       "       'Census_ProcessorCoreCount', 'Census_ProcessorManufacturerIdentifier',\n",
       "       'Census_ProcessorModelIdentifier', 'Census_ProcessorClass',\n",
       "       'Census_PrimaryDiskTotalCapacity', 'Census_PrimaryDiskTypeName',\n",
       "       'Census_SystemVolumeTotalCapacity', 'Census_HasOpticalDiskDrive',\n",
       "       'Census_TotalPhysicalRAM', 'Census_ChassisTypeName',\n",
       "       'Census_InternalPrimaryDiagonalDisplaySizeInInches',\n",
       "       'Census_InternalPrimaryDisplayResolutionHorizontal',\n",
       "       'Census_InternalPrimaryDisplayResolutionVertical',\n",
       "       'Census_PowerPlatformRoleName', 'Census_InternalBatteryType',\n",
       "       'Census_InternalBatteryNumberOfCharges', 'Census_OSVersion',\n",
       "       'Census_OSArchitecture', 'Census_OSBranch', 'Census_OSBuildNumber',\n",
       "       'Census_OSBuildRevision', 'Census_OSEdition', 'Census_OSSkuName',\n",
       "       'Census_OSInstallTypeName', 'Census_OSInstallLanguageIdentifier',\n",
       "       'Census_OSUILocaleIdentifier', 'Census_OSWUAutoUpdateOptionsName',\n",
       "       'Census_IsPortableOperatingSystem', 'Census_GenuineStateName',\n",
       "       'Census_ActivationChannel', 'Census_IsFlightingInternal',\n",
       "       'Census_IsFlightsDisabled', 'Census_FlightRing',\n",
       "       'Census_ThresholdOptIn', 'Census_FirmwareManufacturerIdentifier',\n",
       "       'Census_FirmwareVersionIdentifier', 'Census_IsSecureBootEnabled',\n",
       "       'Census_IsWIMBootEnabled', 'Census_IsVirtualDevice',\n",
       "       'Census_IsTouchEnabled', 'Census_IsPenCapable',\n",
       "       'Census_IsAlwaysOnAlwaysConnectedCapable', 'Wdft_IsGamer',\n",
       "       'Wdft_RegionIdentifier', 'HasDetections'],\n",
       "      dtype='object')"
      ]
     },
     "execution_count": 10,
     "metadata": {},
     "output_type": "execute_result"
    }
   ],
   "source": [
    "train_data.columns"
   ]
  },
  {
   "cell_type": "code",
   "execution_count": 11,
   "metadata": {
    "_uuid": "194f1d612f2d7f2203b8d28b7843a730269db022"
   },
   "outputs": [
    {
     "data": {
      "text/plain": [
       "array([0, 1])"
      ]
     },
     "execution_count": 11,
     "metadata": {},
     "output_type": "execute_result"
    }
   ],
   "source": [
    "train_data.HasDetections.unique()"
   ]
  },
  {
   "cell_type": "code",
   "execution_count": 12,
   "metadata": {
    "_uuid": "38457b10ffb05ba3693d299f800c2260486b804c"
   },
   "outputs": [],
   "source": [
    "data=test_data.drop([\"MachineIdentifier\"],axis=1)"
   ]
  },
  {
   "cell_type": "code",
   "execution_count": 13,
   "metadata": {
    "_uuid": "0e0e559aed7759ed74ae38510c29aa85bd411fb8"
   },
   "outputs": [],
   "source": [
    "#for i,j in train_data.groupby([\"HasDetections\"]):\n",
    "#    print(i,j)"
   ]
  },
  {
   "cell_type": "code",
   "execution_count": 14,
   "metadata": {
    "_uuid": "019a69a002f7ab295d177aaf57c4727b7ccaa7ec"
   },
   "outputs": [
    {
     "data": {
      "text/plain": [
       "<matplotlib.axes._subplots.AxesSubplot at 0x7f8e95e0fa90>"
      ]
     },
     "execution_count": 14,
     "metadata": {},
     "output_type": "execute_result"
    },
    {
     "data": {
      "image/png": "[encoded data removed]",
      "text/plain": [
       "<Figure size 432x288 with 1 Axes>"
      ]
     },
     "metadata": {},
     "output_type": "display_data"
    }
   ],
   "source": [
    "sns.countplot(train_data.HasDetections)"
   ]
  },
  {
   "cell_type": "code",
   "execution_count": 15,
   "metadata": {
    "_uuid": "8116c6b875d38745573a87be47275bf43cc3b8b3"
   },
   "outputs": [
    {
     "data": {
      "text/html": [
       "<div>\n",
       "<style scoped>\n",
       "    .dataframe tbody tr th:only-of-type {\n",
       "        vertical-align: middle;\n",
       "    }\n",
       "\n",
       "    .dataframe tbody tr th {\n",
       "        vertical-align: top;\n",
       "    }\n",
       "\n",
       "    .dataframe thead th {\n",
       "        text-align: right;\n",
       "    }\n",
       "</style>\n",
       "<table border=\"1\" class=\"dataframe\">\n",
       "  <thead>\n",
       "    <tr style=\"text-align: right;\">\n",
       "      <th></th>\n",
       "      <th>ProductName</th>\n",
       "      <th>EngineVersion</th>\n",
       "      <th>AppVersion</th>\n",
       "      <th>AvSigVersion</th>\n",
       "      <th>IsBeta</th>\n",
       "      <th>RtpStateBitfield</th>\n",
       "      <th>IsSxsPassiveMode</th>\n",
       "      <th>DefaultBrowsersIdentifier</th>\n",
       "      <th>AVProductStatesIdentifier</th>\n",
       "      <th>AVProductsInstalled</th>\n",
       "      <th>AVProductsEnabled</th>\n",
       "      <th>HasTpm</th>\n",
       "      <th>CountryIdentifier</th>\n",
       "      <th>CityIdentifier</th>\n",
       "      <th>OrganizationIdentifier</th>\n",
       "      <th>GeoNameIdentifier</th>\n",
       "      <th>LocaleEnglishNameIdentifier</th>\n",
       "      <th>Platform</th>\n",
       "      <th>Processor</th>\n",
       "      <th>OsVer</th>\n",
       "      <th>OsBuild</th>\n",
       "      <th>OsSuite</th>\n",
       "      <th>OsPlatformSubRelease</th>\n",
       "      <th>OsBuildLab</th>\n",
       "      <th>SkuEdition</th>\n",
       "      <th>IsProtected</th>\n",
       "      <th>AutoSampleOptIn</th>\n",
       "      <th>PuaMode</th>\n",
       "      <th>SMode</th>\n",
       "      <th>IeVerIdentifier</th>\n",
       "      <th>SmartScreen</th>\n",
       "      <th>Firewall</th>\n",
       "      <th>UacLuaenable</th>\n",
       "      <th>Census_MDC2FormFactor</th>\n",
       "      <th>Census_DeviceFamily</th>\n",
       "      <th>Census_OEMNameIdentifier</th>\n",
       "      <th>Census_OEMModelIdentifier</th>\n",
       "      <th>Census_ProcessorCoreCount</th>\n",
       "      <th>Census_ProcessorManufacturerIdentifier</th>\n",
       "      <th>Census_ProcessorModelIdentifier</th>\n",
       "      <th>...</th>\n",
       "      <th>Census_PrimaryDiskTotalCapacity</th>\n",
       "      <th>Census_PrimaryDiskTypeName</th>\n",
       "      <th>Census_SystemVolumeTotalCapacity</th>\n",
       "      <th>Census_HasOpticalDiskDrive</th>\n",
       "      <th>Census_TotalPhysicalRAM</th>\n",
       "      <th>Census_ChassisTypeName</th>\n",
       "      <th>Census_InternalPrimaryDiagonalDisplaySizeInInches</th>\n",
       "      <th>Census_InternalPrimaryDisplayResolutionHorizontal</th>\n",
       "      <th>Census_InternalPrimaryDisplayResolutionVertical</th>\n",
       "      <th>Census_PowerPlatformRoleName</th>\n",
       "      <th>Census_InternalBatteryType</th>\n",
       "      <th>Census_InternalBatteryNumberOfCharges</th>\n",
       "      <th>Census_OSVersion</th>\n",
       "      <th>Census_OSArchitecture</th>\n",
       "      <th>Census_OSBranch</th>\n",
       "      <th>Census_OSBuildNumber</th>\n",
       "      <th>Census_OSBuildRevision</th>\n",
       "      <th>Census_OSEdition</th>\n",
       "      <th>Census_OSSkuName</th>\n",
       "      <th>Census_OSInstallTypeName</th>\n",
       "      <th>Census_OSInstallLanguageIdentifier</th>\n",
       "      <th>Census_OSUILocaleIdentifier</th>\n",
       "      <th>Census_OSWUAutoUpdateOptionsName</th>\n",
       "      <th>Census_IsPortableOperatingSystem</th>\n",
       "      <th>Census_GenuineStateName</th>\n",
       "      <th>Census_ActivationChannel</th>\n",
       "      <th>Census_IsFlightingInternal</th>\n",
       "      <th>Census_IsFlightsDisabled</th>\n",
       "      <th>Census_FlightRing</th>\n",
       "      <th>Census_ThresholdOptIn</th>\n",
       "      <th>Census_FirmwareManufacturerIdentifier</th>\n",
       "      <th>Census_FirmwareVersionIdentifier</th>\n",
       "      <th>Census_IsSecureBootEnabled</th>\n",
       "      <th>Census_IsWIMBootEnabled</th>\n",
       "      <th>Census_IsVirtualDevice</th>\n",
       "      <th>Census_IsTouchEnabled</th>\n",
       "      <th>Census_IsPenCapable</th>\n",
       "      <th>Census_IsAlwaysOnAlwaysConnectedCapable</th>\n",
       "      <th>Wdft_IsGamer</th>\n",
       "      <th>Wdft_RegionIdentifier</th>\n",
       "    </tr>\n",
       "  </thead>\n",
       "  <tbody>\n",
       "    <tr>\n",
       "      <th>0</th>\n",
       "      <td>win8defender</td>\n",
       "      <td>1.1.15400.5</td>\n",
       "      <td>4.18.1810.5</td>\n",
       "      <td>1.281.501.0</td>\n",
       "      <td>0</td>\n",
       "      <td>7.0</td>\n",
       "      <td>0</td>\n",
       "      <td>NaN</td>\n",
       "      <td>53447.0</td>\n",
       "      <td>1.0</td>\n",
       "      <td>1.0</td>\n",
       "      <td>1</td>\n",
       "      <td>43</td>\n",
       "      <td>58552.0</td>\n",
       "      <td>18.0</td>\n",
       "      <td>53.0</td>\n",
       "      <td>42</td>\n",
       "      <td>windows10</td>\n",
       "      <td>x64</td>\n",
       "      <td>10.0.0.0</td>\n",
       "      <td>15063</td>\n",
       "      <td>768</td>\n",
       "      <td>rs2</td>\n",
       "      <td>15063.0.amd64fre.rs2_release.170317-1834</td>\n",
       "      <td>Home</td>\n",
       "      <td>1.0</td>\n",
       "      <td>0</td>\n",
       "      <td>NaN</td>\n",
       "      <td>NaN</td>\n",
       "      <td>108.0</td>\n",
       "      <td>NaN</td>\n",
       "      <td>1.0</td>\n",
       "      <td>1.0</td>\n",
       "      <td>Notebook</td>\n",
       "      <td>Windows.Desktop</td>\n",
       "      <td>2689.0</td>\n",
       "      <td>30661.0</td>\n",
       "      <td>4.0</td>\n",
       "      <td>5.0</td>\n",
       "      <td>3063.0</td>\n",
       "      <td>...</td>\n",
       "      <td>488386.0</td>\n",
       "      <td>SSD</td>\n",
       "      <td>123179.0</td>\n",
       "      <td>0</td>\n",
       "      <td>8192.0</td>\n",
       "      <td>Notebook</td>\n",
       "      <td>15.5</td>\n",
       "      <td>1920.0</td>\n",
       "      <td>1080.0</td>\n",
       "      <td>Mobile</td>\n",
       "      <td>NaN</td>\n",
       "      <td>8.0</td>\n",
       "      <td>10.0.15063.1387</td>\n",
       "      <td>amd64</td>\n",
       "      <td>rs2_release</td>\n",
       "      <td>15063</td>\n",
       "      <td>1387</td>\n",
       "      <td>Core</td>\n",
       "      <td>CORE</td>\n",
       "      <td>Reset</td>\n",
       "      <td>37.0</td>\n",
       "      <td>158</td>\n",
       "      <td>AutoInstallAndRebootAtMaintenanceTime</td>\n",
       "      <td>0</td>\n",
       "      <td>IS_GENUINE</td>\n",
       "      <td>OEM:DM</td>\n",
       "      <td>NaN</td>\n",
       "      <td>0.0</td>\n",
       "      <td>Retail</td>\n",
       "      <td>NaN</td>\n",
       "      <td>807.0</td>\n",
       "      <td>8554.0</td>\n",
       "      <td>1</td>\n",
       "      <td>NaN</td>\n",
       "      <td>0.0</td>\n",
       "      <td>0</td>\n",
       "      <td>0</td>\n",
       "      <td>0.0</td>\n",
       "      <td>0.0</td>\n",
       "      <td>7.0</td>\n",
       "    </tr>\n",
       "    <tr>\n",
       "      <th>1</th>\n",
       "      <td>win8defender</td>\n",
       "      <td>1.1.15400.4</td>\n",
       "      <td>4.18.1809.2</td>\n",
       "      <td>1.279.301.0</td>\n",
       "      <td>0</td>\n",
       "      <td>7.0</td>\n",
       "      <td>0</td>\n",
       "      <td>NaN</td>\n",
       "      <td>53447.0</td>\n",
       "      <td>1.0</td>\n",
       "      <td>1.0</td>\n",
       "      <td>1</td>\n",
       "      <td>68</td>\n",
       "      <td>71395.0</td>\n",
       "      <td>NaN</td>\n",
       "      <td>276.0</td>\n",
       "      <td>74</td>\n",
       "      <td>windows10</td>\n",
       "      <td>x64</td>\n",
       "      <td>10.0.0.0</td>\n",
       "      <td>16299</td>\n",
       "      <td>768</td>\n",
       "      <td>rs3</td>\n",
       "      <td>16299.431.amd64fre.rs3_release_svc_escrow.1805...</td>\n",
       "      <td>Home</td>\n",
       "      <td>1.0</td>\n",
       "      <td>0</td>\n",
       "      <td>NaN</td>\n",
       "      <td>NaN</td>\n",
       "      <td>117.0</td>\n",
       "      <td>RequireAdmin</td>\n",
       "      <td>1.0</td>\n",
       "      <td>1.0</td>\n",
       "      <td>Notebook</td>\n",
       "      <td>Windows.Desktop</td>\n",
       "      <td>2206.0</td>\n",
       "      <td>242491.0</td>\n",
       "      <td>4.0</td>\n",
       "      <td>5.0</td>\n",
       "      <td>3410.0</td>\n",
       "      <td>...</td>\n",
       "      <td>1907729.0</td>\n",
       "      <td>HDD</td>\n",
       "      <td>1882352.0</td>\n",
       "      <td>0</td>\n",
       "      <td>8192.0</td>\n",
       "      <td>Notebook</td>\n",
       "      <td>15.5</td>\n",
       "      <td>1366.0</td>\n",
       "      <td>768.0</td>\n",
       "      <td>Mobile</td>\n",
       "      <td>NaN</td>\n",
       "      <td>0.0</td>\n",
       "      <td>10.0.16299.611</td>\n",
       "      <td>amd64</td>\n",
       "      <td>rs3_release_svc_escrow</td>\n",
       "      <td>16299</td>\n",
       "      <td>611</td>\n",
       "      <td>Core</td>\n",
       "      <td>CORE</td>\n",
       "      <td>UUPUpgrade</td>\n",
       "      <td>7.0</td>\n",
       "      <td>30</td>\n",
       "      <td>AutoInstallAndRebootAtMaintenanceTime</td>\n",
       "      <td>0</td>\n",
       "      <td>IS_GENUINE</td>\n",
       "      <td>Retail</td>\n",
       "      <td>NaN</td>\n",
       "      <td>0.0</td>\n",
       "      <td>Retail</td>\n",
       "      <td>NaN</td>\n",
       "      <td>554.0</td>\n",
       "      <td>33105.0</td>\n",
       "      <td>1</td>\n",
       "      <td>NaN</td>\n",
       "      <td>0.0</td>\n",
       "      <td>0</td>\n",
       "      <td>0</td>\n",
       "      <td>0.0</td>\n",
       "      <td>1.0</td>\n",
       "      <td>12.0</td>\n",
       "    </tr>\n",
       "    <tr>\n",
       "      <th>2</th>\n",
       "      <td>win8defender</td>\n",
       "      <td>1.1.15300.6</td>\n",
       "      <td>4.18.1809.2</td>\n",
       "      <td>1.277.230.0</td>\n",
       "      <td>0</td>\n",
       "      <td>7.0</td>\n",
       "      <td>0</td>\n",
       "      <td>NaN</td>\n",
       "      <td>49480.0</td>\n",
       "      <td>2.0</td>\n",
       "      <td>1.0</td>\n",
       "      <td>1</td>\n",
       "      <td>201</td>\n",
       "      <td>66202.0</td>\n",
       "      <td>NaN</td>\n",
       "      <td>267.0</td>\n",
       "      <td>251</td>\n",
       "      <td>windows10</td>\n",
       "      <td>x64</td>\n",
       "      <td>10.0.0.0</td>\n",
       "      <td>14393</td>\n",
       "      <td>768</td>\n",
       "      <td>rs1</td>\n",
       "      <td>14393.2189.amd64fre.rs1_release.180329-1711</td>\n",
       "      <td>Home</td>\n",
       "      <td>1.0</td>\n",
       "      <td>0</td>\n",
       "      <td>NaN</td>\n",
       "      <td>NaN</td>\n",
       "      <td>98.0</td>\n",
       "      <td>RequireAdmin</td>\n",
       "      <td>1.0</td>\n",
       "      <td>1.0</td>\n",
       "      <td>Notebook</td>\n",
       "      <td>Windows.Desktop</td>\n",
       "      <td>585.0</td>\n",
       "      <td>189533.0</td>\n",
       "      <td>2.0</td>\n",
       "      <td>5.0</td>\n",
       "      <td>2097.0</td>\n",
       "      <td>...</td>\n",
       "      <td>29820.0</td>\n",
       "      <td>SSD</td>\n",
       "      <td>28678.0</td>\n",
       "      <td>0</td>\n",
       "      <td>4096.0</td>\n",
       "      <td>Notebook</td>\n",
       "      <td>13.9</td>\n",
       "      <td>1280.0</td>\n",
       "      <td>720.0</td>\n",
       "      <td>Mobile</td>\n",
       "      <td>NaN</td>\n",
       "      <td>0.0</td>\n",
       "      <td>10.0.14393.2189</td>\n",
       "      <td>amd64</td>\n",
       "      <td>rs1_release</td>\n",
       "      <td>14393</td>\n",
       "      <td>2189</td>\n",
       "      <td>CoreSingleLanguage</td>\n",
       "      <td>CORE_SINGLELANGUAGE</td>\n",
       "      <td>Other</td>\n",
       "      <td>35.0</td>\n",
       "      <td>148</td>\n",
       "      <td>UNKNOWN</td>\n",
       "      <td>0</td>\n",
       "      <td>IS_GENUINE</td>\n",
       "      <td>OEM:DM</td>\n",
       "      <td>NaN</td>\n",
       "      <td>0.0</td>\n",
       "      <td>Retail</td>\n",
       "      <td>NaN</td>\n",
       "      <td>556.0</td>\n",
       "      <td>63396.0</td>\n",
       "      <td>1</td>\n",
       "      <td>NaN</td>\n",
       "      <td>0.0</td>\n",
       "      <td>0</td>\n",
       "      <td>0</td>\n",
       "      <td>0.0</td>\n",
       "      <td>1.0</td>\n",
       "      <td>11.0</td>\n",
       "    </tr>\n",
       "    <tr>\n",
       "      <th>3</th>\n",
       "      <td>win8defender</td>\n",
       "      <td>1.1.15400.5</td>\n",
       "      <td>4.18.1810.5</td>\n",
       "      <td>1.281.664.0</td>\n",
       "      <td>0</td>\n",
       "      <td>7.0</td>\n",
       "      <td>0</td>\n",
       "      <td>NaN</td>\n",
       "      <td>42160.0</td>\n",
       "      <td>2.0</td>\n",
       "      <td>1.0</td>\n",
       "      <td>1</td>\n",
       "      <td>29</td>\n",
       "      <td>120917.0</td>\n",
       "      <td>NaN</td>\n",
       "      <td>35.0</td>\n",
       "      <td>171</td>\n",
       "      <td>windows10</td>\n",
       "      <td>x64</td>\n",
       "      <td>10.0.0.0</td>\n",
       "      <td>16299</td>\n",
       "      <td>768</td>\n",
       "      <td>rs3</td>\n",
       "      <td>16299.15.amd64fre.rs3_release.170928-1534</td>\n",
       "      <td>Home</td>\n",
       "      <td>1.0</td>\n",
       "      <td>0</td>\n",
       "      <td>NaN</td>\n",
       "      <td>NaN</td>\n",
       "      <td>117.0</td>\n",
       "      <td>RequireAdmin</td>\n",
       "      <td>1.0</td>\n",
       "      <td>1.0</td>\n",
       "      <td>Notebook</td>\n",
       "      <td>Windows.Desktop</td>\n",
       "      <td>2668.0</td>\n",
       "      <td>171228.0</td>\n",
       "      <td>2.0</td>\n",
       "      <td>5.0</td>\n",
       "      <td>1985.0</td>\n",
       "      <td>...</td>\n",
       "      <td>476940.0</td>\n",
       "      <td>HDD</td>\n",
       "      <td>439345.0</td>\n",
       "      <td>0</td>\n",
       "      <td>4096.0</td>\n",
       "      <td>Notebook</td>\n",
       "      <td>14.0</td>\n",
       "      <td>1366.0</td>\n",
       "      <td>768.0</td>\n",
       "      <td>Mobile</td>\n",
       "      <td>li-i</td>\n",
       "      <td>0.0</td>\n",
       "      <td>10.0.16299.371</td>\n",
       "      <td>amd64</td>\n",
       "      <td>rs3_release</td>\n",
       "      <td>16299</td>\n",
       "      <td>371</td>\n",
       "      <td>CoreSingleLanguage</td>\n",
       "      <td>CORE_SINGLELANGUAGE</td>\n",
       "      <td>Upgrade</td>\n",
       "      <td>26.0</td>\n",
       "      <td>119</td>\n",
       "      <td>Notify</td>\n",
       "      <td>0</td>\n",
       "      <td>IS_GENUINE</td>\n",
       "      <td>OEM:DM</td>\n",
       "      <td>NaN</td>\n",
       "      <td>0.0</td>\n",
       "      <td>Retail</td>\n",
       "      <td>0.0</td>\n",
       "      <td>628.0</td>\n",
       "      <td>26320.0</td>\n",
       "      <td>1</td>\n",
       "      <td>0.0</td>\n",
       "      <td>0.0</td>\n",
       "      <td>0</td>\n",
       "      <td>0</td>\n",
       "      <td>0.0</td>\n",
       "      <td>0.0</td>\n",
       "      <td>10.0</td>\n",
       "    </tr>\n",
       "    <tr>\n",
       "      <th>4</th>\n",
       "      <td>win8defender</td>\n",
       "      <td>1.1.15400.4</td>\n",
       "      <td>4.18.1809.2</td>\n",
       "      <td>1.279.236.0</td>\n",
       "      <td>0</td>\n",
       "      <td>7.0</td>\n",
       "      <td>0</td>\n",
       "      <td>NaN</td>\n",
       "      <td>53447.0</td>\n",
       "      <td>1.0</td>\n",
       "      <td>1.0</td>\n",
       "      <td>1</td>\n",
       "      <td>171</td>\n",
       "      <td>124736.0</td>\n",
       "      <td>18.0</td>\n",
       "      <td>211.0</td>\n",
       "      <td>182</td>\n",
       "      <td>windows10</td>\n",
       "      <td>x64</td>\n",
       "      <td>10.0.0.0</td>\n",
       "      <td>16299</td>\n",
       "      <td>768</td>\n",
       "      <td>rs3</td>\n",
       "      <td>16299.15.amd64fre.rs3_release.170928-1534</td>\n",
       "      <td>Home</td>\n",
       "      <td>1.0</td>\n",
       "      <td>0</td>\n",
       "      <td>NaN</td>\n",
       "      <td>NaN</td>\n",
       "      <td>117.0</td>\n",
       "      <td>RequireAdmin</td>\n",
       "      <td>1.0</td>\n",
       "      <td>1.0</td>\n",
       "      <td>Notebook</td>\n",
       "      <td>Windows.Desktop</td>\n",
       "      <td>585.0</td>\n",
       "      <td>189538.0</td>\n",
       "      <td>4.0</td>\n",
       "      <td>5.0</td>\n",
       "      <td>3394.0</td>\n",
       "      <td>...</td>\n",
       "      <td>476940.0</td>\n",
       "      <td>HDD</td>\n",
       "      <td>461506.0</td>\n",
       "      <td>1</td>\n",
       "      <td>2048.0</td>\n",
       "      <td>Notebook</td>\n",
       "      <td>15.5</td>\n",
       "      <td>1366.0</td>\n",
       "      <td>768.0</td>\n",
       "      <td>Mobile</td>\n",
       "      <td>NaN</td>\n",
       "      <td>0.0</td>\n",
       "      <td>10.0.16299.371</td>\n",
       "      <td>amd64</td>\n",
       "      <td>rs3_release</td>\n",
       "      <td>16299</td>\n",
       "      <td>371</td>\n",
       "      <td>CoreSingleLanguage</td>\n",
       "      <td>CORE_SINGLELANGUAGE</td>\n",
       "      <td>Update</td>\n",
       "      <td>29.0</td>\n",
       "      <td>125</td>\n",
       "      <td>UNKNOWN</td>\n",
       "      <td>0</td>\n",
       "      <td>IS_GENUINE</td>\n",
       "      <td>Retail</td>\n",
       "      <td>NaN</td>\n",
       "      <td>0.0</td>\n",
       "      <td>Retail</td>\n",
       "      <td>NaN</td>\n",
       "      <td>556.0</td>\n",
       "      <td>63269.0</td>\n",
       "      <td>1</td>\n",
       "      <td>NaN</td>\n",
       "      <td>0.0</td>\n",
       "      <td>0</td>\n",
       "      <td>0</td>\n",
       "      <td>0.0</td>\n",
       "      <td>1.0</td>\n",
       "      <td>3.0</td>\n",
       "    </tr>\n",
       "  </tbody>\n",
       "</table>\n",
       "</div>"
      ],
      "text/plain": [
       "    ProductName          ...          Wdft_RegionIdentifier\n",
       "0  win8defender          ...                            7.0\n",
       "1  win8defender          ...                           12.0\n",
       "2  win8defender          ...                           11.0\n",
       "3  win8defender          ...                           10.0\n",
       "4  win8defender          ...                            3.0\n",
       "\n",
       "[5 rows x 81 columns]"
      ]
     },
     "execution_count": 15,
     "metadata": {},
     "output_type": "execute_result"
    }
   ],
   "source": [
    "data.head()"
   ]
  },
  {
   "cell_type": "code",
   "execution_count": 16,
   "metadata": {
    "_uuid": "b6c33592e4502d07790c43446d5151e4393d77ec"
   },
   "outputs": [
    {
     "data": {
      "text/plain": [
       "Text(0.5,1,'SmartScreen counts')"
      ]
     },
     "execution_count": 16,
     "metadata": {},
     "output_type": "execute_result"
    },
    {
     "data": {
      "image/png": "[encoded data removed]",
      "text/plain": [
       "<Figure size 576x432 with 1 Axes>"
      ]
     },
     "metadata": {},
     "output_type": "display_data"
    }
   ],
   "source": [
    "sns.set(rc={'figure.figsize':(8, 6)})\n",
    "sns.countplot(x=\"SmartScreen\", hue=\"IsProtected\",  palette=\"PRGn\", data=data)\n",
    "plt.title(\"SmartScreen counts\")"
   ]
  },
  {
   "cell_type": "code",
   "execution_count": 17,
   "metadata": {
    "_uuid": "647bbd7c5b7057a79f64376de47b2715f19ac4ad"
   },
   "outputs": [
    {
     "name": "stdout",
     "output_type": "stream",
     "text": [
      "['windows10' 'windows8' 'windows2016' 'windows7']\n"
     ]
    },
    {
     "name": "stderr",
     "output_type": "stream",
     "text": [
      "/opt/conda/lib/python3.6/site-packages/scipy/stats/stats.py:1713: FutureWarning: Using a non-tuple sequence for multidimensional indexing is deprecated; use `arr[tuple(seq)]` instead of `arr[seq]`. In the future this will be interpreted as an array index, `arr[np.array(seq)]`, which will result either in an error or a different result.\n",
      "  return np.add.reduce(sorted[indexer] * weights, axis=axis) / sumval\n"
     ]
    },
    {
     "data": {
      "text/plain": [
       "<matplotlib.axes._subplots.AxesSubplot at 0x7f8e90951d68>"
      ]
     },
     "execution_count": 17,
     "metadata": {},
     "output_type": "execute_result"
    },
    {
     "data": {
      "image/png": "[encoded data removed]",
      "text/plain": [
       "<Figure size 576x432 with 1 Axes>"
      ]
     },
     "metadata": {},
     "output_type": "display_data"
    }
   ],
   "source": [
    "print(data.Platform.unique())\n",
    "sns.barplot(x=data[\"Platform\"][:1000],y=data[\"IeVerIdentifier\"][:1000])"
   ]
  },
  {
   "cell_type": "code",
   "execution_count": 18,
   "metadata": {
    "_uuid": "2f4779187aa3ad393eefefbe2c188911bf41f351"
   },
   "outputs": [
    {
     "data": {
      "text/html": [
       "<div>\n",
       "<style scoped>\n",
       "    .dataframe tbody tr th:only-of-type {\n",
       "        vertical-align: middle;\n",
       "    }\n",
       "\n",
       "    .dataframe tbody tr th {\n",
       "        vertical-align: top;\n",
       "    }\n",
       "\n",
       "    .dataframe thead th {\n",
       "        text-align: right;\n",
       "    }\n",
       "</style>\n",
       "<table border=\"1\" class=\"dataframe\">\n",
       "  <thead>\n",
       "    <tr style=\"text-align: right;\">\n",
       "      <th></th>\n",
       "      <th>ProductName</th>\n",
       "      <th>EngineVersion</th>\n",
       "      <th>AppVersion</th>\n",
       "      <th>AvSigVersion</th>\n",
       "      <th>IsBeta</th>\n",
       "      <th>RtpStateBitfield</th>\n",
       "      <th>IsSxsPassiveMode</th>\n",
       "      <th>DefaultBrowsersIdentifier</th>\n",
       "      <th>AVProductStatesIdentifier</th>\n",
       "      <th>AVProductsInstalled</th>\n",
       "      <th>AVProductsEnabled</th>\n",
       "      <th>HasTpm</th>\n",
       "      <th>CountryIdentifier</th>\n",
       "      <th>CityIdentifier</th>\n",
       "      <th>OrganizationIdentifier</th>\n",
       "      <th>GeoNameIdentifier</th>\n",
       "      <th>LocaleEnglishNameIdentifier</th>\n",
       "      <th>Platform</th>\n",
       "      <th>Processor</th>\n",
       "      <th>OsVer</th>\n",
       "      <th>OsBuild</th>\n",
       "      <th>OsSuite</th>\n",
       "      <th>OsPlatformSubRelease</th>\n",
       "      <th>OsBuildLab</th>\n",
       "      <th>SkuEdition</th>\n",
       "      <th>IsProtected</th>\n",
       "      <th>AutoSampleOptIn</th>\n",
       "      <th>PuaMode</th>\n",
       "      <th>SMode</th>\n",
       "      <th>IeVerIdentifier</th>\n",
       "      <th>SmartScreen</th>\n",
       "      <th>Firewall</th>\n",
       "      <th>UacLuaenable</th>\n",
       "      <th>Census_MDC2FormFactor</th>\n",
       "      <th>Census_DeviceFamily</th>\n",
       "      <th>Census_OEMNameIdentifier</th>\n",
       "      <th>Census_OEMModelIdentifier</th>\n",
       "      <th>Census_ProcessorCoreCount</th>\n",
       "      <th>Census_ProcessorManufacturerIdentifier</th>\n",
       "      <th>Census_ProcessorModelIdentifier</th>\n",
       "      <th>...</th>\n",
       "      <th>Census_PrimaryDiskTotalCapacity</th>\n",
       "      <th>Census_PrimaryDiskTypeName</th>\n",
       "      <th>Census_SystemVolumeTotalCapacity</th>\n",
       "      <th>Census_HasOpticalDiskDrive</th>\n",
       "      <th>Census_TotalPhysicalRAM</th>\n",
       "      <th>Census_ChassisTypeName</th>\n",
       "      <th>Census_InternalPrimaryDiagonalDisplaySizeInInches</th>\n",
       "      <th>Census_InternalPrimaryDisplayResolutionHorizontal</th>\n",
       "      <th>Census_InternalPrimaryDisplayResolutionVertical</th>\n",
       "      <th>Census_PowerPlatformRoleName</th>\n",
       "      <th>Census_InternalBatteryType</th>\n",
       "      <th>Census_InternalBatteryNumberOfCharges</th>\n",
       "      <th>Census_OSVersion</th>\n",
       "      <th>Census_OSArchitecture</th>\n",
       "      <th>Census_OSBranch</th>\n",
       "      <th>Census_OSBuildNumber</th>\n",
       "      <th>Census_OSBuildRevision</th>\n",
       "      <th>Census_OSEdition</th>\n",
       "      <th>Census_OSSkuName</th>\n",
       "      <th>Census_OSInstallTypeName</th>\n",
       "      <th>Census_OSInstallLanguageIdentifier</th>\n",
       "      <th>Census_OSUILocaleIdentifier</th>\n",
       "      <th>Census_OSWUAutoUpdateOptionsName</th>\n",
       "      <th>Census_IsPortableOperatingSystem</th>\n",
       "      <th>Census_GenuineStateName</th>\n",
       "      <th>Census_ActivationChannel</th>\n",
       "      <th>Census_IsFlightingInternal</th>\n",
       "      <th>Census_IsFlightsDisabled</th>\n",
       "      <th>Census_FlightRing</th>\n",
       "      <th>Census_ThresholdOptIn</th>\n",
       "      <th>Census_FirmwareManufacturerIdentifier</th>\n",
       "      <th>Census_FirmwareVersionIdentifier</th>\n",
       "      <th>Census_IsSecureBootEnabled</th>\n",
       "      <th>Census_IsWIMBootEnabled</th>\n",
       "      <th>Census_IsVirtualDevice</th>\n",
       "      <th>Census_IsTouchEnabled</th>\n",
       "      <th>Census_IsPenCapable</th>\n",
       "      <th>Census_IsAlwaysOnAlwaysConnectedCapable</th>\n",
       "      <th>Wdft_IsGamer</th>\n",
       "      <th>Wdft_RegionIdentifier</th>\n",
       "    </tr>\n",
       "  </thead>\n",
       "  <tbody>\n",
       "    <tr>\n",
       "      <th>0</th>\n",
       "      <td>win8defender</td>\n",
       "      <td>1.1.15400.5</td>\n",
       "      <td>4.18.1810.5</td>\n",
       "      <td>1.281.501.0</td>\n",
       "      <td>0</td>\n",
       "      <td>7.0</td>\n",
       "      <td>0</td>\n",
       "      <td>NaN</td>\n",
       "      <td>53447.0</td>\n",
       "      <td>1.0</td>\n",
       "      <td>1.0</td>\n",
       "      <td>1</td>\n",
       "      <td>43</td>\n",
       "      <td>58552.0</td>\n",
       "      <td>18.0</td>\n",
       "      <td>53.0</td>\n",
       "      <td>42</td>\n",
       "      <td>windows10</td>\n",
       "      <td>x64</td>\n",
       "      <td>10.0.0.0</td>\n",
       "      <td>15063</td>\n",
       "      <td>768</td>\n",
       "      <td>rs2</td>\n",
       "      <td>15063.0.amd64fre.rs2_release.170317-1834</td>\n",
       "      <td>Home</td>\n",
       "      <td>1.0</td>\n",
       "      <td>0</td>\n",
       "      <td>NaN</td>\n",
       "      <td>NaN</td>\n",
       "      <td>108.0</td>\n",
       "      <td>NaN</td>\n",
       "      <td>1.0</td>\n",
       "      <td>1.0</td>\n",
       "      <td>Notebook</td>\n",
       "      <td>Windows.Desktop</td>\n",
       "      <td>2689.0</td>\n",
       "      <td>30661.0</td>\n",
       "      <td>4.0</td>\n",
       "      <td>5.0</td>\n",
       "      <td>3063.0</td>\n",
       "      <td>...</td>\n",
       "      <td>488386.0</td>\n",
       "      <td>SSD</td>\n",
       "      <td>123179.0</td>\n",
       "      <td>0</td>\n",
       "      <td>8192.0</td>\n",
       "      <td>Notebook</td>\n",
       "      <td>15.5</td>\n",
       "      <td>1920.0</td>\n",
       "      <td>1080.0</td>\n",
       "      <td>Mobile</td>\n",
       "      <td>NaN</td>\n",
       "      <td>8.0</td>\n",
       "      <td>10.0.15063.1387</td>\n",
       "      <td>amd64</td>\n",
       "      <td>rs2_release</td>\n",
       "      <td>15063</td>\n",
       "      <td>1387</td>\n",
       "      <td>Core</td>\n",
       "      <td>CORE</td>\n",
       "      <td>Reset</td>\n",
       "      <td>37.0</td>\n",
       "      <td>158</td>\n",
       "      <td>AutoInstallAndRebootAtMaintenanceTime</td>\n",
       "      <td>0</td>\n",
       "      <td>IS_GENUINE</td>\n",
       "      <td>OEM:DM</td>\n",
       "      <td>NaN</td>\n",
       "      <td>0.0</td>\n",
       "      <td>Retail</td>\n",
       "      <td>NaN</td>\n",
       "      <td>807.0</td>\n",
       "      <td>8554.0</td>\n",
       "      <td>1</td>\n",
       "      <td>NaN</td>\n",
       "      <td>0.0</td>\n",
       "      <td>0</td>\n",
       "      <td>0</td>\n",
       "      <td>0.0</td>\n",
       "      <td>0.0</td>\n",
       "      <td>7.0</td>\n",
       "    </tr>\n",
       "    <tr>\n",
       "      <th>1</th>\n",
       "      <td>win8defender</td>\n",
       "      <td>1.1.15400.4</td>\n",
       "      <td>4.18.1809.2</td>\n",
       "      <td>1.279.301.0</td>\n",
       "      <td>0</td>\n",
       "      <td>7.0</td>\n",
       "      <td>0</td>\n",
       "      <td>NaN</td>\n",
       "      <td>53447.0</td>\n",
       "      <td>1.0</td>\n",
       "      <td>1.0</td>\n",
       "      <td>1</td>\n",
       "      <td>68</td>\n",
       "      <td>71395.0</td>\n",
       "      <td>NaN</td>\n",
       "      <td>276.0</td>\n",
       "      <td>74</td>\n",
       "      <td>windows10</td>\n",
       "      <td>x64</td>\n",
       "      <td>10.0.0.0</td>\n",
       "      <td>16299</td>\n",
       "      <td>768</td>\n",
       "      <td>rs3</td>\n",
       "      <td>16299.431.amd64fre.rs3_release_svc_escrow.1805...</td>\n",
       "      <td>Home</td>\n",
       "      <td>1.0</td>\n",
       "      <td>0</td>\n",
       "      <td>NaN</td>\n",
       "      <td>NaN</td>\n",
       "      <td>117.0</td>\n",
       "      <td>RequireAdmin</td>\n",
       "      <td>1.0</td>\n",
       "      <td>1.0</td>\n",
       "      <td>Notebook</td>\n",
       "      <td>Windows.Desktop</td>\n",
       "      <td>2206.0</td>\n",
       "      <td>242491.0</td>\n",
       "      <td>4.0</td>\n",
       "      <td>5.0</td>\n",
       "      <td>3410.0</td>\n",
       "      <td>...</td>\n",
       "      <td>1907729.0</td>\n",
       "      <td>HDD</td>\n",
       "      <td>1882352.0</td>\n",
       "      <td>0</td>\n",
       "      <td>8192.0</td>\n",
       "      <td>Notebook</td>\n",
       "      <td>15.5</td>\n",
       "      <td>1366.0</td>\n",
       "      <td>768.0</td>\n",
       "      <td>Mobile</td>\n",
       "      <td>NaN</td>\n",
       "      <td>0.0</td>\n",
       "      <td>10.0.16299.611</td>\n",
       "      <td>amd64</td>\n",
       "      <td>rs3_release_svc_escrow</td>\n",
       "      <td>16299</td>\n",
       "      <td>611</td>\n",
       "      <td>Core</td>\n",
       "      <td>CORE</td>\n",
       "      <td>UUPUpgrade</td>\n",
       "      <td>7.0</td>\n",
       "      <td>30</td>\n",
       "      <td>AutoInstallAndRebootAtMaintenanceTime</td>\n",
       "      <td>0</td>\n",
       "      <td>IS_GENUINE</td>\n",
       "      <td>Retail</td>\n",
       "      <td>NaN</td>\n",
       "      <td>0.0</td>\n",
       "      <td>Retail</td>\n",
       "      <td>NaN</td>\n",
       "      <td>554.0</td>\n",
       "      <td>33105.0</td>\n",
       "      <td>1</td>\n",
       "      <td>NaN</td>\n",
       "      <td>0.0</td>\n",
       "      <td>0</td>\n",
       "      <td>0</td>\n",
       "      <td>0.0</td>\n",
       "      <td>1.0</td>\n",
       "      <td>12.0</td>\n",
       "    </tr>\n",
       "    <tr>\n",
       "      <th>2</th>\n",
       "      <td>win8defender</td>\n",
       "      <td>1.1.15300.6</td>\n",
       "      <td>4.18.1809.2</td>\n",
       "      <td>1.277.230.0</td>\n",
       "      <td>0</td>\n",
       "      <td>7.0</td>\n",
       "      <td>0</td>\n",
       "      <td>NaN</td>\n",
       "      <td>49480.0</td>\n",
       "      <td>2.0</td>\n",
       "      <td>1.0</td>\n",
       "      <td>1</td>\n",
       "      <td>201</td>\n",
       "      <td>66202.0</td>\n",
       "      <td>NaN</td>\n",
       "      <td>267.0</td>\n",
       "      <td>251</td>\n",
       "      <td>windows10</td>\n",
       "      <td>x64</td>\n",
       "      <td>10.0.0.0</td>\n",
       "      <td>14393</td>\n",
       "      <td>768</td>\n",
       "      <td>rs1</td>\n",
       "      <td>14393.2189.amd64fre.rs1_release.180329-1711</td>\n",
       "      <td>Home</td>\n",
       "      <td>1.0</td>\n",
       "      <td>0</td>\n",
       "      <td>NaN</td>\n",
       "      <td>NaN</td>\n",
       "      <td>98.0</td>\n",
       "      <td>RequireAdmin</td>\n",
       "      <td>1.0</td>\n",
       "      <td>1.0</td>\n",
       "      <td>Notebook</td>\n",
       "      <td>Windows.Desktop</td>\n",
       "      <td>585.0</td>\n",
       "      <td>189533.0</td>\n",
       "      <td>2.0</td>\n",
       "      <td>5.0</td>\n",
       "      <td>2097.0</td>\n",
       "      <td>...</td>\n",
       "      <td>29820.0</td>\n",
       "      <td>SSD</td>\n",
       "      <td>28678.0</td>\n",
       "      <td>0</td>\n",
       "      <td>4096.0</td>\n",
       "      <td>Notebook</td>\n",
       "      <td>13.9</td>\n",
       "      <td>1280.0</td>\n",
       "      <td>720.0</td>\n",
       "      <td>Mobile</td>\n",
       "      <td>NaN</td>\n",
       "      <td>0.0</td>\n",
       "      <td>10.0.14393.2189</td>\n",
       "      <td>amd64</td>\n",
       "      <td>rs1_release</td>\n",
       "      <td>14393</td>\n",
       "      <td>2189</td>\n",
       "      <td>CoreSingleLanguage</td>\n",
       "      <td>CORE_SINGLELANGUAGE</td>\n",
       "      <td>Other</td>\n",
       "      <td>35.0</td>\n",
       "      <td>148</td>\n",
       "      <td>UNKNOWN</td>\n",
       "      <td>0</td>\n",
       "      <td>IS_GENUINE</td>\n",
       "      <td>OEM:DM</td>\n",
       "      <td>NaN</td>\n",
       "      <td>0.0</td>\n",
       "      <td>Retail</td>\n",
       "      <td>NaN</td>\n",
       "      <td>556.0</td>\n",
       "      <td>63396.0</td>\n",
       "      <td>1</td>\n",
       "      <td>NaN</td>\n",
       "      <td>0.0</td>\n",
       "      <td>0</td>\n",
       "      <td>0</td>\n",
       "      <td>0.0</td>\n",
       "      <td>1.0</td>\n",
       "      <td>11.0</td>\n",
       "    </tr>\n",
       "    <tr>\n",
       "      <th>3</th>\n",
       "      <td>win8defender</td>\n",
       "      <td>1.1.15400.5</td>\n",
       "      <td>4.18.1810.5</td>\n",
       "      <td>1.281.664.0</td>\n",
       "      <td>0</td>\n",
       "      <td>7.0</td>\n",
       "      <td>0</td>\n",
       "      <td>NaN</td>\n",
       "      <td>42160.0</td>\n",
       "      <td>2.0</td>\n",
       "      <td>1.0</td>\n",
       "      <td>1</td>\n",
       "      <td>29</td>\n",
       "      <td>120917.0</td>\n",
       "      <td>NaN</td>\n",
       "      <td>35.0</td>\n",
       "      <td>171</td>\n",
       "      <td>windows10</td>\n",
       "      <td>x64</td>\n",
       "      <td>10.0.0.0</td>\n",
       "      <td>16299</td>\n",
       "      <td>768</td>\n",
       "      <td>rs3</td>\n",
       "      <td>16299.15.amd64fre.rs3_release.170928-1534</td>\n",
       "      <td>Home</td>\n",
       "      <td>1.0</td>\n",
       "      <td>0</td>\n",
       "      <td>NaN</td>\n",
       "      <td>NaN</td>\n",
       "      <td>117.0</td>\n",
       "      <td>RequireAdmin</td>\n",
       "      <td>1.0</td>\n",
       "      <td>1.0</td>\n",
       "      <td>Notebook</td>\n",
       "      <td>Windows.Desktop</td>\n",
       "      <td>2668.0</td>\n",
       "      <td>171228.0</td>\n",
       "      <td>2.0</td>\n",
       "      <td>5.0</td>\n",
       "      <td>1985.0</td>\n",
       "      <td>...</td>\n",
       "      <td>476940.0</td>\n",
       "      <td>HDD</td>\n",
       "      <td>439345.0</td>\n",
       "      <td>0</td>\n",
       "      <td>4096.0</td>\n",
       "      <td>Notebook</td>\n",
       "      <td>14.0</td>\n",
       "      <td>1366.0</td>\n",
       "      <td>768.0</td>\n",
       "      <td>Mobile</td>\n",
       "      <td>li-i</td>\n",
       "      <td>0.0</td>\n",
       "      <td>10.0.16299.371</td>\n",
       "      <td>amd64</td>\n",
       "      <td>rs3_release</td>\n",
       "      <td>16299</td>\n",
       "      <td>371</td>\n",
       "      <td>CoreSingleLanguage</td>\n",
       "      <td>CORE_SINGLELANGUAGE</td>\n",
       "      <td>Upgrade</td>\n",
       "      <td>26.0</td>\n",
       "      <td>119</td>\n",
       "      <td>Notify</td>\n",
       "      <td>0</td>\n",
       "      <td>IS_GENUINE</td>\n",
       "      <td>OEM:DM</td>\n",
       "      <td>NaN</td>\n",
       "      <td>0.0</td>\n",
       "      <td>Retail</td>\n",
       "      <td>0.0</td>\n",
       "      <td>628.0</td>\n",
       "      <td>26320.0</td>\n",
       "      <td>1</td>\n",
       "      <td>0.0</td>\n",
       "      <td>0.0</td>\n",
       "      <td>0</td>\n",
       "      <td>0</td>\n",
       "      <td>0.0</td>\n",
       "      <td>0.0</td>\n",
       "      <td>10.0</td>\n",
       "    </tr>\n",
       "    <tr>\n",
       "      <th>4</th>\n",
       "      <td>win8defender</td>\n",
       "      <td>1.1.15400.4</td>\n",
       "      <td>4.18.1809.2</td>\n",
       "      <td>1.279.236.0</td>\n",
       "      <td>0</td>\n",
       "      <td>7.0</td>\n",
       "      <td>0</td>\n",
       "      <td>NaN</td>\n",
       "      <td>53447.0</td>\n",
       "      <td>1.0</td>\n",
       "      <td>1.0</td>\n",
       "      <td>1</td>\n",
       "      <td>171</td>\n",
       "      <td>124736.0</td>\n",
       "      <td>18.0</td>\n",
       "      <td>211.0</td>\n",
       "      <td>182</td>\n",
       "      <td>windows10</td>\n",
       "      <td>x64</td>\n",
       "      <td>10.0.0.0</td>\n",
       "      <td>16299</td>\n",
       "      <td>768</td>\n",
       "      <td>rs3</td>\n",
       "      <td>16299.15.amd64fre.rs3_release.170928-1534</td>\n",
       "      <td>Home</td>\n",
       "      <td>1.0</td>\n",
       "      <td>0</td>\n",
       "      <td>NaN</td>\n",
       "      <td>NaN</td>\n",
       "      <td>117.0</td>\n",
       "      <td>RequireAdmin</td>\n",
       "      <td>1.0</td>\n",
       "      <td>1.0</td>\n",
       "      <td>Notebook</td>\n",
       "      <td>Windows.Desktop</td>\n",
       "      <td>585.0</td>\n",
       "      <td>189538.0</td>\n",
       "      <td>4.0</td>\n",
       "      <td>5.0</td>\n",
       "      <td>3394.0</td>\n",
       "      <td>...</td>\n",
       "      <td>476940.0</td>\n",
       "      <td>HDD</td>\n",
       "      <td>461506.0</td>\n",
       "      <td>1</td>\n",
       "      <td>2048.0</td>\n",
       "      <td>Notebook</td>\n",
       "      <td>15.5</td>\n",
       "      <td>1366.0</td>\n",
       "      <td>768.0</td>\n",
       "      <td>Mobile</td>\n",
       "      <td>NaN</td>\n",
       "      <td>0.0</td>\n",
       "      <td>10.0.16299.371</td>\n",
       "      <td>amd64</td>\n",
       "      <td>rs3_release</td>\n",
       "      <td>16299</td>\n",
       "      <td>371</td>\n",
       "      <td>CoreSingleLanguage</td>\n",
       "      <td>CORE_SINGLELANGUAGE</td>\n",
       "      <td>Update</td>\n",
       "      <td>29.0</td>\n",
       "      <td>125</td>\n",
       "      <td>UNKNOWN</td>\n",
       "      <td>0</td>\n",
       "      <td>IS_GENUINE</td>\n",
       "      <td>Retail</td>\n",
       "      <td>NaN</td>\n",
       "      <td>0.0</td>\n",
       "      <td>Retail</td>\n",
       "      <td>NaN</td>\n",
       "      <td>556.0</td>\n",
       "      <td>63269.0</td>\n",
       "      <td>1</td>\n",
       "      <td>NaN</td>\n",
       "      <td>0.0</td>\n",
       "      <td>0</td>\n",
       "      <td>0</td>\n",
       "      <td>0.0</td>\n",
       "      <td>1.0</td>\n",
       "      <td>3.0</td>\n",
       "    </tr>\n",
       "  </tbody>\n",
       "</table>\n",
       "</div>"
      ],
      "text/plain": [
       "    ProductName          ...          Wdft_RegionIdentifier\n",
       "0  win8defender          ...                            7.0\n",
       "1  win8defender          ...                           12.0\n",
       "2  win8defender          ...                           11.0\n",
       "3  win8defender          ...                           10.0\n",
       "4  win8defender          ...                            3.0\n",
       "\n",
       "[5 rows x 81 columns]"
      ]
     },
     "execution_count": 18,
     "metadata": {},
     "output_type": "execute_result"
    }
   ],
   "source": [
    "data.head()"
   ]
  },
  {
   "cell_type": "code",
   "execution_count": 19,
   "metadata": {
    "_uuid": "59e4ca5bffe44fcc7ace871b9501be0acc081a4f"
   },
   "outputs": [
    {
     "data": {
      "text/plain": [
       "array([ 1.,  0., nan])"
      ]
     },
     "execution_count": 19,
     "metadata": {},
     "output_type": "execute_result"
    }
   ],
   "source": [
    "data.IsProtected.unique()"
   ]
  },
  {
   "cell_type": "code",
   "execution_count": 20,
   "metadata": {
    "_uuid": "45de52523b3d32546ff0fbd097aaeb0df48b1817"
   },
   "outputs": [
    {
     "data": {
      "text/plain": [
       "<matplotlib.axes._subplots.AxesSubplot at 0x7f8e9084cba8>"
      ]
     },
     "execution_count": 20,
     "metadata": {},
     "output_type": "execute_result"
    },
    {
     "data": {
      "image/png": "[encoded data removed]",
      "text/plain": [
       "<Figure size 576x432 with 1 Axes>"
      ]
     },
     "metadata": {},
     "output_type": "display_data"
    }
   ],
   "source": [
    "sns.countplot(x=\"OsVer\",hue=\"IsProtected\",data=data)"
   ]
  },
  {
   "cell_type": "code",
   "execution_count": 21,
   "metadata": {
    "_uuid": "f137eeb7b79e82d9dc1e19eafa23c5b1987ba754"
   },
   "outputs": [
    {
     "name": "stderr",
     "output_type": "stream",
     "text": [
      "/opt/conda/lib/python3.6/site-packages/scipy/stats/stats.py:1713: FutureWarning: Using a non-tuple sequence for multidimensional indexing is deprecated; use `arr[tuple(seq)]` instead of `arr[seq]`. In the future this will be interpreted as an array index, `arr[np.array(seq)]`, which will result either in an error or a different result.\n",
      "  return np.add.reduce(sorted[indexer] * weights, axis=axis) / sumval\n"
     ]
    },
    {
     "ename": "ValueError",
     "evalue": "cannot convert float NaN to integer",
     "output_type": "error",
     "traceback": [
      "\u001b[0;31m---------------------------------------------------------------------------\u001b[0m",
      "\u001b[0;31mValueError\u001b[0m                                Traceback (most recent call last)",
      "\u001b[0;32m<ipython-input-21-e904074e2c3a>\u001b[0m in \u001b[0;36m<module>\u001b[0;34m()\u001b[0m\n\u001b[0;32m----> 1\u001b[0;31m \u001b[0msns\u001b[0m\u001b[0;34m.\u001b[0m\u001b[0mdistplot\u001b[0m\u001b[0;34m(\u001b[0m\u001b[0mdata\u001b[0m\u001b[0;34m.\u001b[0m\u001b[0mCensus_SystemVolumeTotalCapacity\u001b[0m\u001b[0;34m)\u001b[0m\u001b[0;34m\u001b[0m\u001b[0m\n\u001b[0m",
      "\u001b[0;32m/opt/conda/lib/python3.6/site-packages/seaborn/distributions.py\u001b[0m in \u001b[0;36mdistplot\u001b[0;34m(a, bins, hist, kde, rug, fit, hist_kws, kde_kws, rug_kws, fit_kws, color, vertical, norm_hist, axlabel, label, ax)\u001b[0m\n\u001b[1;32m    213\u001b[0m     \u001b[0;32mif\u001b[0m \u001b[0mhist\u001b[0m\u001b[0;34m:\u001b[0m\u001b[0;34m\u001b[0m\u001b[0m\n\u001b[1;32m    214\u001b[0m         \u001b[0;32mif\u001b[0m \u001b[0mbins\u001b[0m \u001b[0;32mis\u001b[0m \u001b[0;32mNone\u001b[0m\u001b[0;34m:\u001b[0m\u001b[0;34m\u001b[0m\u001b[0m\n\u001b[0;32m--> 215\u001b[0;31m             \u001b[0mbins\u001b[0m \u001b[0;34m=\u001b[0m \u001b[0mmin\u001b[0m\u001b[0;34m(\u001b[0m\u001b[0m_freedman_diaconis_bins\u001b[0m\u001b[0;34m(\u001b[0m\u001b[0ma\u001b[0m\u001b[0;34m)\u001b[0m\u001b[0;34m,\u001b[0m \u001b[0;36m50\u001b[0m\u001b[0;34m)\u001b[0m\u001b[0;34m\u001b[0m\u001b[0m\n\u001b[0m\u001b[1;32m    216\u001b[0m         \u001b[0mhist_kws\u001b[0m\u001b[0;34m.\u001b[0m\u001b[0msetdefault\u001b[0m\u001b[0;34m(\u001b[0m\u001b[0;34m\"alpha\"\u001b[0m\u001b[0;34m,\u001b[0m \u001b[0;36m0.4\u001b[0m\u001b[0;34m)\u001b[0m\u001b[0;34m\u001b[0m\u001b[0m\n\u001b[1;32m    217\u001b[0m         \u001b[0;32mif\u001b[0m \u001b[0mLooseVersion\u001b[0m\u001b[0;34m(\u001b[0m\u001b[0mmpl\u001b[0m\u001b[0;34m.\u001b[0m\u001b[0m__version__\u001b[0m\u001b[0;34m)\u001b[0m \u001b[0;34m<\u001b[0m \u001b[0mLooseVersion\u001b[0m\u001b[0;34m(\u001b[0m\u001b[0;34m\"2.2\"\u001b[0m\u001b[0;34m)\u001b[0m\u001b[0;34m:\u001b[0m\u001b[0;34m\u001b[0m\u001b[0m\n",
      "\u001b[0;32m/opt/conda/lib/python3.6/site-packages/seaborn/distributions.py\u001b[0m in \u001b[0;36m_freedman_diaconis_bins\u001b[0;34m(a)\u001b[0m\n\u001b[1;32m     37\u001b[0m         \u001b[0;32mreturn\u001b[0m \u001b[0mint\u001b[0m\u001b[0;34m(\u001b[0m\u001b[0mnp\u001b[0m\u001b[0;34m.\u001b[0m\u001b[0msqrt\u001b[0m\u001b[0;34m(\u001b[0m\u001b[0ma\u001b[0m\u001b[0;34m.\u001b[0m\u001b[0msize\u001b[0m\u001b[0;34m)\u001b[0m\u001b[0;34m)\u001b[0m\u001b[0;34m\u001b[0m\u001b[0m\n\u001b[1;32m     38\u001b[0m     \u001b[0;32melse\u001b[0m\u001b[0;34m:\u001b[0m\u001b[0;34m\u001b[0m\u001b[0m\n\u001b[0;32m---> 39\u001b[0;31m         \u001b[0;32mreturn\u001b[0m \u001b[0mint\u001b[0m\u001b[0;34m(\u001b[0m\u001b[0mnp\u001b[0m\u001b[0;34m.\u001b[0m\u001b[0mceil\u001b[0m\u001b[0;34m(\u001b[0m\u001b[0;34m(\u001b[0m\u001b[0ma\u001b[0m\u001b[0;34m.\u001b[0m\u001b[0mmax\u001b[0m\u001b[0;34m(\u001b[0m\u001b[0;34m)\u001b[0m \u001b[0;34m-\u001b[0m \u001b[0ma\u001b[0m\u001b[0;34m.\u001b[0m\u001b[0mmin\u001b[0m\u001b[0;34m(\u001b[0m\u001b[0;34m)\u001b[0m\u001b[0;34m)\u001b[0m \u001b[0;34m/\u001b[0m \u001b[0mh\u001b[0m\u001b[0;34m)\u001b[0m\u001b[0;34m)\u001b[0m\u001b[0;34m\u001b[0m\u001b[0m\n\u001b[0m\u001b[1;32m     40\u001b[0m \u001b[0;34m\u001b[0m\u001b[0m\n\u001b[1;32m     41\u001b[0m \u001b[0;34m\u001b[0m\u001b[0m\n",
      "\u001b[0;31mValueError\u001b[0m: cannot convert float NaN to integer"
     ]
    },
    {
     "data": {
      "image/png": "[encoded data removed]",
      "text/plain": [
       "<Figure size 576x432 with 1 Axes>"
      ]
     },
     "metadata": {},
     "output_type": "display_data"
    }
   ],
   "source": [
    "sns.distplot(data.Census_SystemVolumeTotalCapacity)"
   ]
  },
  {
   "cell_type": "code",
   "execution_count": 22,
   "metadata": {
    "_uuid": "6d3df5ed697966811c3d3eab9fc72bf3753a98fc"
   },
   "outputs": [
    {
     "data": {
      "text/plain": [
       "<matplotlib.axes._subplots.AxesSubplot at 0x7f8e907697b8>"
      ]
     },
     "execution_count": 22,
     "metadata": {},
     "output_type": "execute_result"
    },
    {
     "data": {
      "image/png": "[encoded data removed]",
      "text/plain": [
       "<Figure size 576x432 with 1 Axes>"
      ]
     },
     "metadata": {},
     "output_type": "display_data"
    }
   ],
   "source": [
    "sns.countplot(x=\"Census_PrimaryDiskTypeName\",hue=\"IsProtected\",data=data)"
   ]
  },
  {
   "cell_type": "code",
   "execution_count": 23,
   "metadata": {
    "_uuid": "37f4b99cd5dd8a3759a5b4d12922591e6e6e4688"
   },
   "outputs": [
    {
     "data": {
      "text/plain": [
       "<matplotlib.axes._subplots.AxesSubplot at 0x7f8e90721e48>"
      ]
     },
     "execution_count": 23,
     "metadata": {},
     "output_type": "execute_result"
    },
    {
     "data": {
      "image/png": "[encoded data removed]",
      "text/plain": [
       "<Figure size 576x432 with 1 Axes>"
      ]
     },
     "metadata": {},
     "output_type": "display_data"
    }
   ],
   "source": [
    "sns.countplot(x=\"Census_OSInstallTypeName\",hue=\"IsProtected\",data=data)#Census_OSInstallTypeName"
   ]
  },
  {
   "cell_type": "code",
   "execution_count": 24,
   "metadata": {
    "_uuid": "4207d88653d5d8d13ba006e0dccc8e8483f5fd20"
   },
   "outputs": [
    {
     "data": {
      "text/plain": [
       "<matplotlib.axes._subplots.AxesSubplot at 0x7f8e906c7eb8>"
      ]
     },
     "execution_count": 24,
     "metadata": {},
     "output_type": "execute_result"
    },
    {
     "data": {
      "image/png": "[encoded data removed]",
      "text/plain": [
       "<Figure size 576x432 with 1 Axes>"
      ]
     },
     "metadata": {},
     "output_type": "display_data"
    }
   ],
   "source": [
    "sns.countplot(x=\"Census_PowerPlatformRoleName\",hue=\"IsProtected\",data=data)"
   ]
  },
  {
   "cell_type": "code",
   "execution_count": 25,
   "metadata": {
    "_uuid": "5f7c08fe99744f2d807c48b202bb3b6d382317a1"
   },
   "outputs": [
    {
     "data": {
      "text/plain": [
       "<matplotlib.axes._subplots.AxesSubplot at 0x7f8e906345c0>"
      ]
     },
     "execution_count": 25,
     "metadata": {},
     "output_type": "execute_result"
    },
    {
     "data": {
      "image/png": "[encoded data removed]",
      "text/plain": [
       "<Figure size 576x432 with 1 Axes>"
      ]
     },
     "metadata": {},
     "output_type": "display_data"
    }
   ],
   "source": [
    "sns.countplot(x=\"Platform\",hue=\"Census_OSArchitecture\",data=data)"
   ]
  },
  {
   "cell_type": "code",
   "execution_count": 26,
   "metadata": {
    "_uuid": "de941d324c6419a8b6922c00637b20c93a93b8fb"
   },
   "outputs": [
    {
     "data": {
      "text/plain": [
       "\"data['EngineVersion_2'] = df['EngineVersion'].apply(lambda x: x.split('.')[2]).astype('category')\\n['EngineVersion_3'] = df['EngineVersion'].apply(lambda x: x.split('.')[3]).astype('category')\\n\\ndf['AppVersion_1'] = df['AppVersion'].apply(lambda x: x.split('.')[1]).astype('category')\\ndf['AppVersion_2'] = df['AppVersion'].apply(lambda x: x.split('.')[2]).astype('category')\\ndf['AppVersion_3'] = df['AppVersion'].apply(lambda x: x.split('.')[3]).astype('category')\\n\\ndf['AvSigVersion_0'] = df['AvSigVersion'].apply(lambda x: x.split('.')[0]).astype('category')\\ndf['AvSigVersion_1'] = df['AvSigVersion'].apply(lambda x: x.split('.')[1]).astype('category')\\ndf['AvSigVersion_2'] = df['AvSigVersion'].apply(lambda x: x.split('.')[2]).astype('category')\\n\\ndf['OsBuildLab_0'] = df['OsBuildLab'].apply(lambda x: x.split('.')[0]).astype('category')\\ndf['OsBuildLab_1'] = df['OsBuildLab'].apply(lambda x: x.split('.')[1]).astype('category')\\ndf['OsBuildLab_2'] = df['OsBuildLab'].apply(lambda x: x.split('.')[2]).astype('category')\\ndf['OsBuildLab_3'] = df['OsBuildLab'].apply(lambda x: x.split('.')[3]).astype('category')\""
      ]
     },
     "execution_count": 26,
     "metadata": {},
     "output_type": "execute_result"
    }
   ],
   "source": [
    "    \"\"\"data['EngineVersion_2'] = df['EngineVersion'].apply(lambda x: x.split('.')[2]).astype('category')\n",
    "    ['EngineVersion_3'] = df['EngineVersion'].apply(lambda x: x.split('.')[3]).astype('category')\n",
    "\n",
    "    df['AppVersion_1'] = df['AppVersion'].apply(lambda x: x.split('.')[1]).astype('category')\n",
    "    df['AppVersion_2'] = df['AppVersion'].apply(lambda x: x.split('.')[2]).astype('category')\n",
    "    df['AppVersion_3'] = df['AppVersion'].apply(lambda x: x.split('.')[3]).astype('category')\n",
    "\n",
    "    df['AvSigVersion_0'] = df['AvSigVersion'].apply(lambda x: x.split('.')[0]).astype('category')\n",
    "    df['AvSigVersion_1'] = df['AvSigVersion'].apply(lambda x: x.split('.')[1]).astype('category')\n",
    "    df['AvSigVersion_2'] = df['AvSigVersion'].apply(lambda x: x.split('.')[2]).astype('category')\n",
    "\n",
    "    df['OsBuildLab_0'] = df['OsBuildLab'].apply(lambda x: x.split('.')[0]).astype('category')\n",
    "    df['OsBuildLab_1'] = df['OsBuildLab'].apply(lambda x: x.split('.')[1]).astype('category')\n",
    "    df['OsBuildLab_2'] = df['OsBuildLab'].apply(lambda x: x.split('.')[2]).astype('category')\n",
    "    df['OsBuildLab_3'] = df['OsBuildLab'].apply(lambda x: x.split('.')[3]).astype('category')\"\"\""
   ]
  },
  {
   "cell_type": "code",
   "execution_count": 27,
   "metadata": {
    "_uuid": "7c54af80bd23a3434559b9412f0fa3c47465b966"
   },
   "outputs": [
    {
     "data": {
      "text/plain": [
       "ProductName                                    0\n",
       "EngineVersion                                  0\n",
       "AppVersion                                     0\n",
       "AvSigVersion                                   0\n",
       "IsBeta                                         0\n",
       "RtpStateBitfield                             443\n",
       "IsSxsPassiveMode                               0\n",
       "DefaultBrowsersIdentifier                  96174\n",
       "AVProductStatesIdentifier                    310\n",
       "AVProductsInstalled                          310\n",
       "AVProductsEnabled                            310\n",
       "HasTpm                                         0\n",
       "CountryIdentifier                              0\n",
       "CityIdentifier                              2451\n",
       "OrganizationIdentifier                     31766\n",
       "GeoNameIdentifier                              1\n",
       "LocaleEnglishNameIdentifier                    0\n",
       "Platform                                       0\n",
       "Processor                                      0\n",
       "OsVer                                          0\n",
       "OsBuild                                        0\n",
       "OsSuite                                        0\n",
       "OsPlatformSubRelease                           0\n",
       "OsBuildLab                                     0\n",
       "SkuEdition                                     0\n",
       "IsProtected                                  309\n",
       "AutoSampleOptIn                                0\n",
       "PuaMode                                    99971\n",
       "SMode                                      74325\n",
       "IeVerIdentifier                              650\n",
       "                                           ...  \n",
       "Census_InternalBatteryType                 75941\n",
       "Census_InternalBatteryNumberOfCharges       3116\n",
       "Census_OSVersion                               0\n",
       "Census_OSArchitecture                          0\n",
       "Census_OSBranch                                0\n",
       "Census_OSBuildNumber                           0\n",
       "Census_OSBuildRevision                         0\n",
       "Census_OSEdition                               0\n",
       "Census_OSSkuName                               0\n",
       "Census_OSInstallTypeName                       0\n",
       "Census_OSInstallLanguageIdentifier           751\n",
       "Census_OSUILocaleIdentifier                    0\n",
       "Census_OSWUAutoUpdateOptionsName               0\n",
       "Census_IsPortableOperatingSystem               0\n",
       "Census_GenuineStateName                        0\n",
       "Census_ActivationChannel                       0\n",
       "Census_IsFlightingInternal                 84842\n",
       "Census_IsFlightsDisabled                    1611\n",
       "Census_FlightRing                              0\n",
       "Census_ThresholdOptIn                      70198\n",
       "Census_FirmwareManufacturerIdentifier       2532\n",
       "Census_FirmwareVersionIdentifier            2279\n",
       "Census_IsSecureBootEnabled                     0\n",
       "Census_IsWIMBootEnabled                    70116\n",
       "Census_IsVirtualDevice                       203\n",
       "Census_IsTouchEnabled                          0\n",
       "Census_IsPenCapable                            0\n",
       "Census_IsAlwaysOnAlwaysConnectedCapable     1167\n",
       "Wdft_IsGamer                                3874\n",
       "Wdft_RegionIdentifier                       3874\n",
       "Length: 81, dtype: int64"
      ]
     },
     "execution_count": 27,
     "metadata": {},
     "output_type": "execute_result"
    }
   ],
   "source": [
    "data.isnull().sum()"
   ]
  },
  {
   "cell_type": "code",
   "execution_count": 28,
   "metadata": {
    "_uuid": "bb41f1034684900e14e19df3cd4a5842bba00d4c"
   },
   "outputs": [],
   "source": [
    "def percent(data):\n",
    "    area=[]\n",
    "    percent_missing =data.isnull().sum() * 100 / len(data)\n",
    "    print(percent_missing)\n",
    "    for i in range(len(percent_missing)):\n",
    "        if(percent_missing[i]>20):\n",
    "            area.append(i)\n",
    "    return(area)"
   ]
  },
  {
   "cell_type": "code",
   "execution_count": 29,
   "metadata": {
    "_uuid": "bdfa63228aca4a5651deb9a516ba8cffea8e580b"
   },
   "outputs": [
    {
     "name": "stdout",
     "output_type": "stream",
     "text": [
      "ProductName                                 0.000\n",
      "EngineVersion                               0.000\n",
      "AppVersion                                  0.000\n",
      "AvSigVersion                                0.000\n",
      "IsBeta                                      0.000\n",
      "RtpStateBitfield                            0.443\n",
      "IsSxsPassiveMode                            0.000\n",
      "DefaultBrowsersIdentifier                  96.174\n",
      "AVProductStatesIdentifier                   0.310\n",
      "AVProductsInstalled                         0.310\n",
      "AVProductsEnabled                           0.310\n",
      "HasTpm                                      0.000\n",
      "CountryIdentifier                           0.000\n",
      "CityIdentifier                              2.451\n",
      "OrganizationIdentifier                     31.766\n",
      "GeoNameIdentifier                           0.001\n",
      "LocaleEnglishNameIdentifier                 0.000\n",
      "Platform                                    0.000\n",
      "Processor                                   0.000\n",
      "OsVer                                       0.000\n",
      "OsBuild                                     0.000\n",
      "OsSuite                                     0.000\n",
      "OsPlatformSubRelease                        0.000\n",
      "OsBuildLab                                  0.000\n",
      "SkuEdition                                  0.000\n",
      "IsProtected                                 0.309\n",
      "AutoSampleOptIn                             0.000\n",
      "PuaMode                                    99.971\n",
      "SMode                                      74.325\n",
      "IeVerIdentifier                             0.650\n",
      "                                            ...  \n",
      "Census_InternalBatteryType                 75.941\n",
      "Census_InternalBatteryNumberOfCharges       3.116\n",
      "Census_OSVersion                            0.000\n",
      "Census_OSArchitecture                       0.000\n",
      "Census_OSBranch                             0.000\n",
      "Census_OSBuildNumber                        0.000\n",
      "Census_OSBuildRevision                      0.000\n",
      "Census_OSEdition                            0.000\n",
      "Census_OSSkuName                            0.000\n",
      "Census_OSInstallTypeName                    0.000\n",
      "Census_OSInstallLanguageIdentifier          0.751\n",
      "Census_OSUILocaleIdentifier                 0.000\n",
      "Census_OSWUAutoUpdateOptionsName            0.000\n",
      "Census_IsPortableOperatingSystem            0.000\n",
      "Census_GenuineStateName                     0.000\n",
      "Census_ActivationChannel                    0.000\n",
      "Census_IsFlightingInternal                 84.842\n",
      "Census_IsFlightsDisabled                    1.611\n",
      "Census_FlightRing                           0.000\n",
      "Census_ThresholdOptIn                      70.198\n",
      "Census_FirmwareManufacturerIdentifier       2.532\n",
      "Census_FirmwareVersionIdentifier            2.279\n",
      "Census_IsSecureBootEnabled                  0.000\n",
      "Census_IsWIMBootEnabled                    70.116\n",
      "Census_IsVirtualDevice                      0.203\n",
      "Census_IsTouchEnabled                       0.000\n",
      "Census_IsPenCapable                         0.000\n",
      "Census_IsAlwaysOnAlwaysConnectedCapable     1.167\n",
      "Wdft_IsGamer                                3.874\n",
      "Wdft_RegionIdentifier                       3.874\n",
      "Length: 81, dtype: float64\n"
     ]
    }
   ],
   "source": [
    "a=percent(data)"
   ]
  },
  {
   "cell_type": "code",
   "execution_count": 30,
   "metadata": {
    "_uuid": "f67127642ae825971f32b8a1c778053bc0ca0cb6"
   },
   "outputs": [
    {
     "name": "stdout",
     "output_type": "stream",
     "text": [
      "DefaultBrowsersIdentifier\n",
      "OrganizationIdentifier\n",
      "PuaMode\n",
      "SMode\n",
      "SmartScreen\n",
      "Census_ProcessorClass\n",
      "Census_InternalBatteryType\n",
      "Census_IsFlightingInternal\n",
      "Census_ThresholdOptIn\n",
      "Census_IsWIMBootEnabled\n"
     ]
    }
   ],
   "source": [
    "# Printing out the missing values columns \n",
    "col=data.columns.tolist()\n",
    "for i in a:\n",
    "    print(col[i])    "
   ]
  },
  {
   "cell_type": "code",
   "execution_count": 31,
   "metadata": {
    "_uuid": "7a2e685834faf6c54cd75414df4790500e798b1d"
   },
   "outputs": [],
   "source": [
    "data=data.drop([\"DefaultBrowsersIdentifier\",\"OrganizationIdentifier\",\"PuaMode\",\"SMode\",\"SmartScreen\",\"Census_ProcessorClass\",\"Census_InternalBatteryType\",\"Census_IsFlightingInternal\",\"Census_ThresholdOptIn\",\"Census_IsWIMBootEnabled\"],axis=1)"
   ]
  },
  {
   "cell_type": "code",
   "execution_count": 32,
   "metadata": {
    "_uuid": "8d2126efe4c98fc3f7e6301a649624d593bcabc2"
   },
   "outputs": [
    {
     "name": "stdout",
     "output_type": "stream",
     "text": [
      "(100000, 71)\n"
     ]
    }
   ],
   "source": [
    "print(data.shape)\n",
    "data=data.fillna(method=\"ffill\")"
   ]
  },
  {
   "cell_type": "code",
   "execution_count": 33,
   "metadata": {
    "_uuid": "ac4ab55dc385de3af8c98bffab794c186228f4eb"
   },
   "outputs": [
    {
     "data": {
      "text/html": [
       "<div>\n",
       "<style scoped>\n",
       "    .dataframe tbody tr th:only-of-type {\n",
       "        vertical-align: middle;\n",
       "    }\n",
       "\n",
       "    .dataframe tbody tr th {\n",
       "        vertical-align: top;\n",
       "    }\n",
       "\n",
       "    .dataframe thead th {\n",
       "        text-align: right;\n",
       "    }\n",
       "</style>\n",
       "<table border=\"1\" class=\"dataframe\">\n",
       "  <thead>\n",
       "    <tr style=\"text-align: right;\">\n",
       "      <th></th>\n",
       "      <th>ProductName</th>\n",
       "      <th>EngineVersion</th>\n",
       "      <th>AppVersion</th>\n",
       "      <th>AvSigVersion</th>\n",
       "      <th>IsBeta</th>\n",
       "      <th>RtpStateBitfield</th>\n",
       "      <th>IsSxsPassiveMode</th>\n",
       "      <th>AVProductStatesIdentifier</th>\n",
       "      <th>AVProductsInstalled</th>\n",
       "      <th>AVProductsEnabled</th>\n",
       "      <th>HasTpm</th>\n",
       "      <th>CountryIdentifier</th>\n",
       "      <th>CityIdentifier</th>\n",
       "      <th>GeoNameIdentifier</th>\n",
       "      <th>LocaleEnglishNameIdentifier</th>\n",
       "      <th>Platform</th>\n",
       "      <th>Processor</th>\n",
       "      <th>OsVer</th>\n",
       "      <th>OsBuild</th>\n",
       "      <th>OsSuite</th>\n",
       "      <th>OsPlatformSubRelease</th>\n",
       "      <th>OsBuildLab</th>\n",
       "      <th>SkuEdition</th>\n",
       "      <th>IsProtected</th>\n",
       "      <th>AutoSampleOptIn</th>\n",
       "      <th>IeVerIdentifier</th>\n",
       "      <th>Firewall</th>\n",
       "      <th>UacLuaenable</th>\n",
       "      <th>Census_MDC2FormFactor</th>\n",
       "      <th>Census_DeviceFamily</th>\n",
       "      <th>Census_OEMNameIdentifier</th>\n",
       "      <th>Census_OEMModelIdentifier</th>\n",
       "      <th>Census_ProcessorCoreCount</th>\n",
       "      <th>Census_ProcessorManufacturerIdentifier</th>\n",
       "      <th>Census_ProcessorModelIdentifier</th>\n",
       "      <th>Census_PrimaryDiskTotalCapacity</th>\n",
       "      <th>Census_PrimaryDiskTypeName</th>\n",
       "      <th>Census_SystemVolumeTotalCapacity</th>\n",
       "      <th>Census_HasOpticalDiskDrive</th>\n",
       "      <th>Census_TotalPhysicalRAM</th>\n",
       "      <th>Census_ChassisTypeName</th>\n",
       "      <th>Census_InternalPrimaryDiagonalDisplaySizeInInches</th>\n",
       "      <th>Census_InternalPrimaryDisplayResolutionHorizontal</th>\n",
       "      <th>Census_InternalPrimaryDisplayResolutionVertical</th>\n",
       "      <th>Census_PowerPlatformRoleName</th>\n",
       "      <th>Census_InternalBatteryNumberOfCharges</th>\n",
       "      <th>Census_OSVersion</th>\n",
       "      <th>Census_OSArchitecture</th>\n",
       "      <th>Census_OSBranch</th>\n",
       "      <th>Census_OSBuildNumber</th>\n",
       "      <th>Census_OSBuildRevision</th>\n",
       "      <th>Census_OSEdition</th>\n",
       "      <th>Census_OSSkuName</th>\n",
       "      <th>Census_OSInstallTypeName</th>\n",
       "      <th>Census_OSInstallLanguageIdentifier</th>\n",
       "      <th>Census_OSUILocaleIdentifier</th>\n",
       "      <th>Census_OSWUAutoUpdateOptionsName</th>\n",
       "      <th>Census_IsPortableOperatingSystem</th>\n",
       "      <th>Census_GenuineStateName</th>\n",
       "      <th>Census_ActivationChannel</th>\n",
       "      <th>Census_IsFlightsDisabled</th>\n",
       "      <th>Census_FlightRing</th>\n",
       "      <th>Census_FirmwareManufacturerIdentifier</th>\n",
       "      <th>Census_FirmwareVersionIdentifier</th>\n",
       "      <th>Census_IsSecureBootEnabled</th>\n",
       "      <th>Census_IsVirtualDevice</th>\n",
       "      <th>Census_IsTouchEnabled</th>\n",
       "      <th>Census_IsPenCapable</th>\n",
       "      <th>Census_IsAlwaysOnAlwaysConnectedCapable</th>\n",
       "      <th>Wdft_IsGamer</th>\n",
       "      <th>Wdft_RegionIdentifier</th>\n",
       "    </tr>\n",
       "  </thead>\n",
       "  <tbody>\n",
       "    <tr>\n",
       "      <th>0</th>\n",
       "      <td>win8defender</td>\n",
       "      <td>1.1.15400.5</td>\n",
       "      <td>4.18.1810.5</td>\n",
       "      <td>1.281.501.0</td>\n",
       "      <td>0</td>\n",
       "      <td>7.0</td>\n",
       "      <td>0</td>\n",
       "      <td>53447.0</td>\n",
       "      <td>1.0</td>\n",
       "      <td>1.0</td>\n",
       "      <td>1</td>\n",
       "      <td>43</td>\n",
       "      <td>58552.0</td>\n",
       "      <td>53.0</td>\n",
       "      <td>42</td>\n",
       "      <td>windows10</td>\n",
       "      <td>x64</td>\n",
       "      <td>10.0.0.0</td>\n",
       "      <td>15063</td>\n",
       "      <td>768</td>\n",
       "      <td>rs2</td>\n",
       "      <td>15063.0.amd64fre.rs2_release.170317-1834</td>\n",
       "      <td>Home</td>\n",
       "      <td>1.0</td>\n",
       "      <td>0</td>\n",
       "      <td>108.0</td>\n",
       "      <td>1.0</td>\n",
       "      <td>1.0</td>\n",
       "      <td>Notebook</td>\n",
       "      <td>Windows.Desktop</td>\n",
       "      <td>2689.0</td>\n",
       "      <td>30661.0</td>\n",
       "      <td>4.0</td>\n",
       "      <td>5.0</td>\n",
       "      <td>3063.0</td>\n",
       "      <td>488386.0</td>\n",
       "      <td>SSD</td>\n",
       "      <td>123179.0</td>\n",
       "      <td>0</td>\n",
       "      <td>8192.0</td>\n",
       "      <td>Notebook</td>\n",
       "      <td>15.5</td>\n",
       "      <td>1920.0</td>\n",
       "      <td>1080.0</td>\n",
       "      <td>Mobile</td>\n",
       "      <td>8.0</td>\n",
       "      <td>10.0.15063.1387</td>\n",
       "      <td>amd64</td>\n",
       "      <td>rs2_release</td>\n",
       "      <td>15063</td>\n",
       "      <td>1387</td>\n",
       "      <td>Core</td>\n",
       "      <td>CORE</td>\n",
       "      <td>Reset</td>\n",
       "      <td>37.0</td>\n",
       "      <td>158</td>\n",
       "      <td>AutoInstallAndRebootAtMaintenanceTime</td>\n",
       "      <td>0</td>\n",
       "      <td>IS_GENUINE</td>\n",
       "      <td>OEM:DM</td>\n",
       "      <td>0.0</td>\n",
       "      <td>Retail</td>\n",
       "      <td>807.0</td>\n",
       "      <td>8554.0</td>\n",
       "      <td>1</td>\n",
       "      <td>0.0</td>\n",
       "      <td>0</td>\n",
       "      <td>0</td>\n",
       "      <td>0.0</td>\n",
       "      <td>0.0</td>\n",
       "      <td>7.0</td>\n",
       "    </tr>\n",
       "    <tr>\n",
       "      <th>1</th>\n",
       "      <td>win8defender</td>\n",
       "      <td>1.1.15400.4</td>\n",
       "      <td>4.18.1809.2</td>\n",
       "      <td>1.279.301.0</td>\n",
       "      <td>0</td>\n",
       "      <td>7.0</td>\n",
       "      <td>0</td>\n",
       "      <td>53447.0</td>\n",
       "      <td>1.0</td>\n",
       "      <td>1.0</td>\n",
       "      <td>1</td>\n",
       "      <td>68</td>\n",
       "      <td>71395.0</td>\n",
       "      <td>276.0</td>\n",
       "      <td>74</td>\n",
       "      <td>windows10</td>\n",
       "      <td>x64</td>\n",
       "      <td>10.0.0.0</td>\n",
       "      <td>16299</td>\n",
       "      <td>768</td>\n",
       "      <td>rs3</td>\n",
       "      <td>16299.431.amd64fre.rs3_release_svc_escrow.1805...</td>\n",
       "      <td>Home</td>\n",
       "      <td>1.0</td>\n",
       "      <td>0</td>\n",
       "      <td>117.0</td>\n",
       "      <td>1.0</td>\n",
       "      <td>1.0</td>\n",
       "      <td>Notebook</td>\n",
       "      <td>Windows.Desktop</td>\n",
       "      <td>2206.0</td>\n",
       "      <td>242491.0</td>\n",
       "      <td>4.0</td>\n",
       "      <td>5.0</td>\n",
       "      <td>3410.0</td>\n",
       "      <td>1907729.0</td>\n",
       "      <td>HDD</td>\n",
       "      <td>1882352.0</td>\n",
       "      <td>0</td>\n",
       "      <td>8192.0</td>\n",
       "      <td>Notebook</td>\n",
       "      <td>15.5</td>\n",
       "      <td>1366.0</td>\n",
       "      <td>768.0</td>\n",
       "      <td>Mobile</td>\n",
       "      <td>0.0</td>\n",
       "      <td>10.0.16299.611</td>\n",
       "      <td>amd64</td>\n",
       "      <td>rs3_release_svc_escrow</td>\n",
       "      <td>16299</td>\n",
       "      <td>611</td>\n",
       "      <td>Core</td>\n",
       "      <td>CORE</td>\n",
       "      <td>UUPUpgrade</td>\n",
       "      <td>7.0</td>\n",
       "      <td>30</td>\n",
       "      <td>AutoInstallAndRebootAtMaintenanceTime</td>\n",
       "      <td>0</td>\n",
       "      <td>IS_GENUINE</td>\n",
       "      <td>Retail</td>\n",
       "      <td>0.0</td>\n",
       "      <td>Retail</td>\n",
       "      <td>554.0</td>\n",
       "      <td>33105.0</td>\n",
       "      <td>1</td>\n",
       "      <td>0.0</td>\n",
       "      <td>0</td>\n",
       "      <td>0</td>\n",
       "      <td>0.0</td>\n",
       "      <td>1.0</td>\n",
       "      <td>12.0</td>\n",
       "    </tr>\n",
       "    <tr>\n",
       "      <th>2</th>\n",
       "      <td>win8defender</td>\n",
       "      <td>1.1.15300.6</td>\n",
       "      <td>4.18.1809.2</td>\n",
       "      <td>1.277.230.0</td>\n",
       "      <td>0</td>\n",
       "      <td>7.0</td>\n",
       "      <td>0</td>\n",
       "      <td>49480.0</td>\n",
       "      <td>2.0</td>\n",
       "      <td>1.0</td>\n",
       "      <td>1</td>\n",
       "      <td>201</td>\n",
       "      <td>66202.0</td>\n",
       "      <td>267.0</td>\n",
       "      <td>251</td>\n",
       "      <td>windows10</td>\n",
       "      <td>x64</td>\n",
       "      <td>10.0.0.0</td>\n",
       "      <td>14393</td>\n",
       "      <td>768</td>\n",
       "      <td>rs1</td>\n",
       "      <td>14393.2189.amd64fre.rs1_release.180329-1711</td>\n",
       "      <td>Home</td>\n",
       "      <td>1.0</td>\n",
       "      <td>0</td>\n",
       "      <td>98.0</td>\n",
       "      <td>1.0</td>\n",
       "      <td>1.0</td>\n",
       "      <td>Notebook</td>\n",
       "      <td>Windows.Desktop</td>\n",
       "      <td>585.0</td>\n",
       "      <td>189533.0</td>\n",
       "      <td>2.0</td>\n",
       "      <td>5.0</td>\n",
       "      <td>2097.0</td>\n",
       "      <td>29820.0</td>\n",
       "      <td>SSD</td>\n",
       "      <td>28678.0</td>\n",
       "      <td>0</td>\n",
       "      <td>4096.0</td>\n",
       "      <td>Notebook</td>\n",
       "      <td>13.9</td>\n",
       "      <td>1280.0</td>\n",
       "      <td>720.0</td>\n",
       "      <td>Mobile</td>\n",
       "      <td>0.0</td>\n",
       "      <td>10.0.14393.2189</td>\n",
       "      <td>amd64</td>\n",
       "      <td>rs1_release</td>\n",
       "      <td>14393</td>\n",
       "      <td>2189</td>\n",
       "      <td>CoreSingleLanguage</td>\n",
       "      <td>CORE_SINGLELANGUAGE</td>\n",
       "      <td>Other</td>\n",
       "      <td>35.0</td>\n",
       "      <td>148</td>\n",
       "      <td>UNKNOWN</td>\n",
       "      <td>0</td>\n",
       "      <td>IS_GENUINE</td>\n",
       "      <td>OEM:DM</td>\n",
       "      <td>0.0</td>\n",
       "      <td>Retail</td>\n",
       "      <td>556.0</td>\n",
       "      <td>63396.0</td>\n",
       "      <td>1</td>\n",
       "      <td>0.0</td>\n",
       "      <td>0</td>\n",
       "      <td>0</td>\n",
       "      <td>0.0</td>\n",
       "      <td>1.0</td>\n",
       "      <td>11.0</td>\n",
       "    </tr>\n",
       "    <tr>\n",
       "      <th>3</th>\n",
       "      <td>win8defender</td>\n",
       "      <td>1.1.15400.5</td>\n",
       "      <td>4.18.1810.5</td>\n",
       "      <td>1.281.664.0</td>\n",
       "      <td>0</td>\n",
       "      <td>7.0</td>\n",
       "      <td>0</td>\n",
       "      <td>42160.0</td>\n",
       "      <td>2.0</td>\n",
       "      <td>1.0</td>\n",
       "      <td>1</td>\n",
       "      <td>29</td>\n",
       "      <td>120917.0</td>\n",
       "      <td>35.0</td>\n",
       "      <td>171</td>\n",
       "      <td>windows10</td>\n",
       "      <td>x64</td>\n",
       "      <td>10.0.0.0</td>\n",
       "      <td>16299</td>\n",
       "      <td>768</td>\n",
       "      <td>rs3</td>\n",
       "      <td>16299.15.amd64fre.rs3_release.170928-1534</td>\n",
       "      <td>Home</td>\n",
       "      <td>1.0</td>\n",
       "      <td>0</td>\n",
       "      <td>117.0</td>\n",
       "      <td>1.0</td>\n",
       "      <td>1.0</td>\n",
       "      <td>Notebook</td>\n",
       "      <td>Windows.Desktop</td>\n",
       "      <td>2668.0</td>\n",
       "      <td>171228.0</td>\n",
       "      <td>2.0</td>\n",
       "      <td>5.0</td>\n",
       "      <td>1985.0</td>\n",
       "      <td>476940.0</td>\n",
       "      <td>HDD</td>\n",
       "      <td>439345.0</td>\n",
       "      <td>0</td>\n",
       "      <td>4096.0</td>\n",
       "      <td>Notebook</td>\n",
       "      <td>14.0</td>\n",
       "      <td>1366.0</td>\n",
       "      <td>768.0</td>\n",
       "      <td>Mobile</td>\n",
       "      <td>0.0</td>\n",
       "      <td>10.0.16299.371</td>\n",
       "      <td>amd64</td>\n",
       "      <td>rs3_release</td>\n",
       "      <td>16299</td>\n",
       "      <td>371</td>\n",
       "      <td>CoreSingleLanguage</td>\n",
       "      <td>CORE_SINGLELANGUAGE</td>\n",
       "      <td>Upgrade</td>\n",
       "      <td>26.0</td>\n",
       "      <td>119</td>\n",
       "      <td>Notify</td>\n",
       "      <td>0</td>\n",
       "      <td>IS_GENUINE</td>\n",
       "      <td>OEM:DM</td>\n",
       "      <td>0.0</td>\n",
       "      <td>Retail</td>\n",
       "      <td>628.0</td>\n",
       "      <td>26320.0</td>\n",
       "      <td>1</td>\n",
       "      <td>0.0</td>\n",
       "      <td>0</td>\n",
       "      <td>0</td>\n",
       "      <td>0.0</td>\n",
       "      <td>0.0</td>\n",
       "      <td>10.0</td>\n",
       "    </tr>\n",
       "    <tr>\n",
       "      <th>4</th>\n",
       "      <td>win8defender</td>\n",
       "      <td>1.1.15400.4</td>\n",
       "      <td>4.18.1809.2</td>\n",
       "      <td>1.279.236.0</td>\n",
       "      <td>0</td>\n",
       "      <td>7.0</td>\n",
       "      <td>0</td>\n",
       "      <td>53447.0</td>\n",
       "      <td>1.0</td>\n",
       "      <td>1.0</td>\n",
       "      <td>1</td>\n",
       "      <td>171</td>\n",
       "      <td>124736.0</td>\n",
       "      <td>211.0</td>\n",
       "      <td>182</td>\n",
       "      <td>windows10</td>\n",
       "      <td>x64</td>\n",
       "      <td>10.0.0.0</td>\n",
       "      <td>16299</td>\n",
       "      <td>768</td>\n",
       "      <td>rs3</td>\n",
       "      <td>16299.15.amd64fre.rs3_release.170928-1534</td>\n",
       "      <td>Home</td>\n",
       "      <td>1.0</td>\n",
       "      <td>0</td>\n",
       "      <td>117.0</td>\n",
       "      <td>1.0</td>\n",
       "      <td>1.0</td>\n",
       "      <td>Notebook</td>\n",
       "      <td>Windows.Desktop</td>\n",
       "      <td>585.0</td>\n",
       "      <td>189538.0</td>\n",
       "      <td>4.0</td>\n",
       "      <td>5.0</td>\n",
       "      <td>3394.0</td>\n",
       "      <td>476940.0</td>\n",
       "      <td>HDD</td>\n",
       "      <td>461506.0</td>\n",
       "      <td>1</td>\n",
       "      <td>2048.0</td>\n",
       "      <td>Notebook</td>\n",
       "      <td>15.5</td>\n",
       "      <td>1366.0</td>\n",
       "      <td>768.0</td>\n",
       "      <td>Mobile</td>\n",
       "      <td>0.0</td>\n",
       "      <td>10.0.16299.371</td>\n",
       "      <td>amd64</td>\n",
       "      <td>rs3_release</td>\n",
       "      <td>16299</td>\n",
       "      <td>371</td>\n",
       "      <td>CoreSingleLanguage</td>\n",
       "      <td>CORE_SINGLELANGUAGE</td>\n",
       "      <td>Update</td>\n",
       "      <td>29.0</td>\n",
       "      <td>125</td>\n",
       "      <td>UNKNOWN</td>\n",
       "      <td>0</td>\n",
       "      <td>IS_GENUINE</td>\n",
       "      <td>Retail</td>\n",
       "      <td>0.0</td>\n",
       "      <td>Retail</td>\n",
       "      <td>556.0</td>\n",
       "      <td>63269.0</td>\n",
       "      <td>1</td>\n",
       "      <td>0.0</td>\n",
       "      <td>0</td>\n",
       "      <td>0</td>\n",
       "      <td>0.0</td>\n",
       "      <td>1.0</td>\n",
       "      <td>3.0</td>\n",
       "    </tr>\n",
       "  </tbody>\n",
       "</table>\n",
       "</div>"
      ],
      "text/plain": [
       "    ProductName          ...          Wdft_RegionIdentifier\n",
       "0  win8defender          ...                            7.0\n",
       "1  win8defender          ...                           12.0\n",
       "2  win8defender          ...                           11.0\n",
       "3  win8defender          ...                           10.0\n",
       "4  win8defender          ...                            3.0\n",
       "\n",
       "[5 rows x 71 columns]"
      ]
     },
     "execution_count": 33,
     "metadata": {},
     "output_type": "execute_result"
    }
   ],
   "source": [
    "data.head()"
   ]
  },
  {
   "cell_type": "code",
   "execution_count": 34,
   "metadata": {
    "_uuid": "1591cc90bceeeacfdc4cccf9de51f408d493c58b"
   },
   "outputs": [],
   "source": [
    "#.relplot()"
   ]
  },
  {
   "cell_type": "code",
   "execution_count": 35,
   "metadata": {
    "_uuid": "e53f51dcb8b9682b961c0af225918d4f171b8008"
   },
   "outputs": [],
   "source": []
  },
  {
   "cell_type": "code",
   "execution_count": 35,
   "metadata": {
    "_uuid": "c746bc3c0839045f87e1f099eea9d2b963ded6d3"
   },
   "outputs": [],
   "source": []
  },
  {
   "cell_type": "code",
   "execution_count": 35,
   "metadata": {
    "_uuid": "e70c9574823697f069a22cdccfa24b4e8d38d759"
   },
   "outputs": [],
   "source": []
  },
  {
   "cell_type": "code",
   "execution_count": 35,
   "metadata": {
    "_uuid": "e6a720de21e604870563d9cac462780a2ebb10dd"
   },
   "outputs": [],
   "source": []
  },
  {
   "cell_type": "code",
   "execution_count": 35,
   "metadata": {
    "_uuid": "0edf96e47909a3b8d59251ea1f5f7f2ccd900306"
   },
   "outputs": [],
   "source": []
  },
  {
   "cell_type": "code",
   "execution_count": 35,
   "metadata": {
    "_uuid": "097a1dbdbf3ad6d02259b84170fdc36f3779b13a"
   },
   "outputs": [
    {
     "data": {
      "text/plain": [
       "<matplotlib.axes._subplots.AxesSubplot at 0x7f8e88034748>"
      ]
     },
     "execution_count": 35,
     "metadata": {},
     "output_type": "execute_result"
    },
    {
     "data": {
      "image/png": "[encoded data removed]",
      "text/plain": [
       "<Figure size 2160x1728 with 2 Axes>"
      ]
     },
     "metadata": {},
     "output_type": "display_data"
    }
   ],
   "source": [
    "plt.figure(figsize=(30,24))\n",
    "sns.heatmap(data.corr())\n"
   ]
  },
  {
   "cell_type": "markdown",
   "metadata": {
    "_uuid": "dd81d9607f11a89bbaced700530d9520a696a9cf"
   },
   "source": [
    "From the above diagram we can see the white patch,which defines that the columns OsSuite and Census_OSBuildNumer are highly correlated to each other,so deleting on won't affect the dataset variance"
   ]
  },
  {
   "cell_type": "code",
   "execution_count": 36,
   "metadata": {
    "_uuid": "82a7ad796eca322c0593f4290d62f9968a4f46cd"
   },
   "outputs": [],
   "source": [
    "data.drop([\"OsSuite\"],axis=1,inplace=True)"
   ]
  },
  {
   "cell_type": "code",
   "execution_count": 37,
   "metadata": {
    "_uuid": "cdae3538d988367a53ec04d3541163d21e7a413f"
   },
   "outputs": [],
   "source": [
    "y_train=data[\"IsProtected\"]"
   ]
  },
  {
   "cell_type": "code",
   "execution_count": 38,
   "metadata": {
    "_uuid": "9cf59d50f4e01490111b475cbf6d7ee1b7db6bbd"
   },
   "outputs": [
    {
     "data": {
      "text/plain": [
       "False"
      ]
     },
     "execution_count": 38,
     "metadata": {},
     "output_type": "execute_result"
    }
   ],
   "source": [
    "data.columns.is_numeric()"
   ]
  },
  {
   "cell_type": "code",
   "execution_count": 39,
   "metadata": {
    "_uuid": "3e67e74fc35a70eff56db064130cfac12c112ca1"
   },
   "outputs": [
    {
     "name": "stdout",
     "output_type": "stream",
     "text": [
      "['win8defender' 'mse']\n"
     ]
    },
    {
     "data": {
      "text/plain": [
       "<matplotlib.axes._subplots.AxesSubplot at 0x7f8e87f3ce10>"
      ]
     },
     "execution_count": 39,
     "metadata": {},
     "output_type": "execute_result"
    },
    {
     "data": {
      "image/png": "[encoded data removed]",
      "text/plain": [
       "<Figure size 576x432 with 1 Axes>"
      ]
     },
     "metadata": {},
     "output_type": "display_data"
    }
   ],
   "source": [
    "print(data.ProductName.unique())\n",
    "sns.countplot(data.ProductName)"
   ]
  },
  {
   "cell_type": "markdown",
   "metadata": {
    "_uuid": "c3ae910263f2b72cd60c6599e2082ad2a16b3199"
   },
   "source": [
    "Thus dropping the Product name column"
   ]
  },
  {
   "cell_type": "code",
   "execution_count": 40,
   "metadata": {
    "_uuid": "73525480cff2dcf4dae657a9bf918bb23271e80e"
   },
   "outputs": [],
   "source": [
    "data.drop([\"ProductName\"],axis=1,inplace=True)"
   ]
  },
  {
   "cell_type": "code",
   "execution_count": 41,
   "metadata": {
    "_uuid": "001c731e3cdc83e338e84a38c12c32ad2117d596"
   },
   "outputs": [
    {
     "data": {
      "text/plain": [
       "<matplotlib.axes._subplots.AxesSubplot at 0x7f8e86722c18>"
      ]
     },
     "execution_count": 41,
     "metadata": {},
     "output_type": "execute_result"
    },
    {
     "data": {
      "image/png": "[encoded data removed]",
      "text/plain": [
       "<Figure size 576x432 with 1 Axes>"
      ]
     },
     "metadata": {},
     "output_type": "display_data"
    }
   ],
   "source": [
    "sns.countplot(data[\"Platform\"])"
   ]
  },
  {
   "cell_type": "code",
   "execution_count": 42,
   "metadata": {
    "_uuid": "de68b180552e070cd7267077a424f1722e6f2a91"
   },
   "outputs": [
    {
     "name": "stdout",
     "output_type": "stream",
     "text": [
      "['windows10' 'windows8' 'windows2016' 'windows7']\n"
     ]
    }
   ],
   "source": [
    "print(data.Platform.unique())\n",
    "data.drop([\"Platform\",\"Census_OSInstallLanguageIdentifier\"],axis=1,inplace=True)"
   ]
  },
  {
   "cell_type": "code",
   "execution_count": 43,
   "metadata": {
    "_uuid": "d73a4451ccd0d7e0f3ca5c1542aa767614eb091c"
   },
   "outputs": [
    {
     "data": {
      "text/plain": [
       "(100000, 67)"
      ]
     },
     "execution_count": 43,
     "metadata": {},
     "output_type": "execute_result"
    }
   ],
   "source": [
    "data.shape"
   ]
  },
  {
   "cell_type": "code",
   "execution_count": 44,
   "metadata": {
    "_uuid": "2911da6a670af10f1ebf252ccf0d3c1aa3f5becb"
   },
   "outputs": [
    {
     "data": {
      "text/html": [
       "<div>\n",
       "<style scoped>\n",
       "    .dataframe tbody tr th:only-of-type {\n",
       "        vertical-align: middle;\n",
       "    }\n",
       "\n",
       "    .dataframe tbody tr th {\n",
       "        vertical-align: top;\n",
       "    }\n",
       "\n",
       "    .dataframe thead th {\n",
       "        text-align: right;\n",
       "    }\n",
       "</style>\n",
       "<table border=\"1\" class=\"dataframe\">\n",
       "  <thead>\n",
       "    <tr style=\"text-align: right;\">\n",
       "      <th></th>\n",
       "      <th>EngineVersion</th>\n",
       "      <th>AppVersion</th>\n",
       "      <th>AvSigVersion</th>\n",
       "      <th>IsBeta</th>\n",
       "      <th>RtpStateBitfield</th>\n",
       "      <th>IsSxsPassiveMode</th>\n",
       "      <th>AVProductStatesIdentifier</th>\n",
       "      <th>AVProductsInstalled</th>\n",
       "      <th>AVProductsEnabled</th>\n",
       "      <th>HasTpm</th>\n",
       "      <th>CountryIdentifier</th>\n",
       "      <th>CityIdentifier</th>\n",
       "      <th>GeoNameIdentifier</th>\n",
       "      <th>LocaleEnglishNameIdentifier</th>\n",
       "      <th>Processor</th>\n",
       "      <th>OsVer</th>\n",
       "      <th>OsBuild</th>\n",
       "      <th>OsPlatformSubRelease</th>\n",
       "      <th>OsBuildLab</th>\n",
       "      <th>SkuEdition</th>\n",
       "      <th>IsProtected</th>\n",
       "      <th>AutoSampleOptIn</th>\n",
       "      <th>IeVerIdentifier</th>\n",
       "      <th>Firewall</th>\n",
       "      <th>UacLuaenable</th>\n",
       "      <th>Census_MDC2FormFactor</th>\n",
       "      <th>Census_DeviceFamily</th>\n",
       "      <th>Census_OEMNameIdentifier</th>\n",
       "      <th>Census_OEMModelIdentifier</th>\n",
       "      <th>Census_ProcessorCoreCount</th>\n",
       "      <th>Census_ProcessorManufacturerIdentifier</th>\n",
       "      <th>Census_ProcessorModelIdentifier</th>\n",
       "      <th>Census_PrimaryDiskTotalCapacity</th>\n",
       "      <th>Census_PrimaryDiskTypeName</th>\n",
       "      <th>Census_SystemVolumeTotalCapacity</th>\n",
       "      <th>Census_HasOpticalDiskDrive</th>\n",
       "      <th>Census_TotalPhysicalRAM</th>\n",
       "      <th>Census_ChassisTypeName</th>\n",
       "      <th>Census_InternalPrimaryDiagonalDisplaySizeInInches</th>\n",
       "      <th>Census_InternalPrimaryDisplayResolutionHorizontal</th>\n",
       "      <th>Census_InternalPrimaryDisplayResolutionVertical</th>\n",
       "      <th>Census_PowerPlatformRoleName</th>\n",
       "      <th>Census_InternalBatteryNumberOfCharges</th>\n",
       "      <th>Census_OSVersion</th>\n",
       "      <th>Census_OSArchitecture</th>\n",
       "      <th>Census_OSBranch</th>\n",
       "      <th>Census_OSBuildNumber</th>\n",
       "      <th>Census_OSBuildRevision</th>\n",
       "      <th>Census_OSEdition</th>\n",
       "      <th>Census_OSSkuName</th>\n",
       "      <th>Census_OSInstallTypeName</th>\n",
       "      <th>Census_OSUILocaleIdentifier</th>\n",
       "      <th>Census_OSWUAutoUpdateOptionsName</th>\n",
       "      <th>Census_IsPortableOperatingSystem</th>\n",
       "      <th>Census_GenuineStateName</th>\n",
       "      <th>Census_ActivationChannel</th>\n",
       "      <th>Census_IsFlightsDisabled</th>\n",
       "      <th>Census_FlightRing</th>\n",
       "      <th>Census_FirmwareManufacturerIdentifier</th>\n",
       "      <th>Census_FirmwareVersionIdentifier</th>\n",
       "      <th>Census_IsSecureBootEnabled</th>\n",
       "      <th>Census_IsVirtualDevice</th>\n",
       "      <th>Census_IsTouchEnabled</th>\n",
       "      <th>Census_IsPenCapable</th>\n",
       "      <th>Census_IsAlwaysOnAlwaysConnectedCapable</th>\n",
       "      <th>Wdft_IsGamer</th>\n",
       "      <th>Wdft_RegionIdentifier</th>\n",
       "    </tr>\n",
       "  </thead>\n",
       "  <tbody>\n",
       "    <tr>\n",
       "      <th>0</th>\n",
       "      <td>1.1.15400.5</td>\n",
       "      <td>4.18.1810.5</td>\n",
       "      <td>1.281.501.0</td>\n",
       "      <td>0</td>\n",
       "      <td>7.0</td>\n",
       "      <td>0</td>\n",
       "      <td>53447.0</td>\n",
       "      <td>1.0</td>\n",
       "      <td>1.0</td>\n",
       "      <td>1</td>\n",
       "      <td>43</td>\n",
       "      <td>58552.0</td>\n",
       "      <td>53.0</td>\n",
       "      <td>42</td>\n",
       "      <td>x64</td>\n",
       "      <td>10.0.0.0</td>\n",
       "      <td>15063</td>\n",
       "      <td>rs2</td>\n",
       "      <td>15063.0.amd64fre.rs2_release.170317-1834</td>\n",
       "      <td>Home</td>\n",
       "      <td>1.0</td>\n",
       "      <td>0</td>\n",
       "      <td>108.0</td>\n",
       "      <td>1.0</td>\n",
       "      <td>1.0</td>\n",
       "      <td>Notebook</td>\n",
       "      <td>Windows.Desktop</td>\n",
       "      <td>2689.0</td>\n",
       "      <td>30661.0</td>\n",
       "      <td>4.0</td>\n",
       "      <td>5.0</td>\n",
       "      <td>3063.0</td>\n",
       "      <td>488386.0</td>\n",
       "      <td>SSD</td>\n",
       "      <td>123179.0</td>\n",
       "      <td>0</td>\n",
       "      <td>8192.0</td>\n",
       "      <td>Notebook</td>\n",
       "      <td>15.5</td>\n",
       "      <td>1920.0</td>\n",
       "      <td>1080.0</td>\n",
       "      <td>Mobile</td>\n",
       "      <td>8.0</td>\n",
       "      <td>10.0.15063.1387</td>\n",
       "      <td>amd64</td>\n",
       "      <td>rs2_release</td>\n",
       "      <td>15063</td>\n",
       "      <td>1387</td>\n",
       "      <td>Core</td>\n",
       "      <td>CORE</td>\n",
       "      <td>Reset</td>\n",
       "      <td>158</td>\n",
       "      <td>AutoInstallAndRebootAtMaintenanceTime</td>\n",
       "      <td>0</td>\n",
       "      <td>IS_GENUINE</td>\n",
       "      <td>OEM:DM</td>\n",
       "      <td>0.0</td>\n",
       "      <td>Retail</td>\n",
       "      <td>807.0</td>\n",
       "      <td>8554.0</td>\n",
       "      <td>1</td>\n",
       "      <td>0.0</td>\n",
       "      <td>0</td>\n",
       "      <td>0</td>\n",
       "      <td>0.0</td>\n",
       "      <td>0.0</td>\n",
       "      <td>7.0</td>\n",
       "    </tr>\n",
       "    <tr>\n",
       "      <th>1</th>\n",
       "      <td>1.1.15400.4</td>\n",
       "      <td>4.18.1809.2</td>\n",
       "      <td>1.279.301.0</td>\n",
       "      <td>0</td>\n",
       "      <td>7.0</td>\n",
       "      <td>0</td>\n",
       "      <td>53447.0</td>\n",
       "      <td>1.0</td>\n",
       "      <td>1.0</td>\n",
       "      <td>1</td>\n",
       "      <td>68</td>\n",
       "      <td>71395.0</td>\n",
       "      <td>276.0</td>\n",
       "      <td>74</td>\n",
       "      <td>x64</td>\n",
       "      <td>10.0.0.0</td>\n",
       "      <td>16299</td>\n",
       "      <td>rs3</td>\n",
       "      <td>16299.431.amd64fre.rs3_release_svc_escrow.1805...</td>\n",
       "      <td>Home</td>\n",
       "      <td>1.0</td>\n",
       "      <td>0</td>\n",
       "      <td>117.0</td>\n",
       "      <td>1.0</td>\n",
       "      <td>1.0</td>\n",
       "      <td>Notebook</td>\n",
       "      <td>Windows.Desktop</td>\n",
       "      <td>2206.0</td>\n",
       "      <td>242491.0</td>\n",
       "      <td>4.0</td>\n",
       "      <td>5.0</td>\n",
       "      <td>3410.0</td>\n",
       "      <td>1907729.0</td>\n",
       "      <td>HDD</td>\n",
       "      <td>1882352.0</td>\n",
       "      <td>0</td>\n",
       "      <td>8192.0</td>\n",
       "      <td>Notebook</td>\n",
       "      <td>15.5</td>\n",
       "      <td>1366.0</td>\n",
       "      <td>768.0</td>\n",
       "      <td>Mobile</td>\n",
       "      <td>0.0</td>\n",
       "      <td>10.0.16299.611</td>\n",
       "      <td>amd64</td>\n",
       "      <td>rs3_release_svc_escrow</td>\n",
       "      <td>16299</td>\n",
       "      <td>611</td>\n",
       "      <td>Core</td>\n",
       "      <td>CORE</td>\n",
       "      <td>UUPUpgrade</td>\n",
       "      <td>30</td>\n",
       "      <td>AutoInstallAndRebootAtMaintenanceTime</td>\n",
       "      <td>0</td>\n",
       "      <td>IS_GENUINE</td>\n",
       "      <td>Retail</td>\n",
       "      <td>0.0</td>\n",
       "      <td>Retail</td>\n",
       "      <td>554.0</td>\n",
       "      <td>33105.0</td>\n",
       "      <td>1</td>\n",
       "      <td>0.0</td>\n",
       "      <td>0</td>\n",
       "      <td>0</td>\n",
       "      <td>0.0</td>\n",
       "      <td>1.0</td>\n",
       "      <td>12.0</td>\n",
       "    </tr>\n",
       "    <tr>\n",
       "      <th>2</th>\n",
       "      <td>1.1.15300.6</td>\n",
       "      <td>4.18.1809.2</td>\n",
       "      <td>1.277.230.0</td>\n",
       "      <td>0</td>\n",
       "      <td>7.0</td>\n",
       "      <td>0</td>\n",
       "      <td>49480.0</td>\n",
       "      <td>2.0</td>\n",
       "      <td>1.0</td>\n",
       "      <td>1</td>\n",
       "      <td>201</td>\n",
       "      <td>66202.0</td>\n",
       "      <td>267.0</td>\n",
       "      <td>251</td>\n",
       "      <td>x64</td>\n",
       "      <td>10.0.0.0</td>\n",
       "      <td>14393</td>\n",
       "      <td>rs1</td>\n",
       "      <td>14393.2189.amd64fre.rs1_release.180329-1711</td>\n",
       "      <td>Home</td>\n",
       "      <td>1.0</td>\n",
       "      <td>0</td>\n",
       "      <td>98.0</td>\n",
       "      <td>1.0</td>\n",
       "      <td>1.0</td>\n",
       "      <td>Notebook</td>\n",
       "      <td>Windows.Desktop</td>\n",
       "      <td>585.0</td>\n",
       "      <td>189533.0</td>\n",
       "      <td>2.0</td>\n",
       "      <td>5.0</td>\n",
       "      <td>2097.0</td>\n",
       "      <td>29820.0</td>\n",
       "      <td>SSD</td>\n",
       "      <td>28678.0</td>\n",
       "      <td>0</td>\n",
       "      <td>4096.0</td>\n",
       "      <td>Notebook</td>\n",
       "      <td>13.9</td>\n",
       "      <td>1280.0</td>\n",
       "      <td>720.0</td>\n",
       "      <td>Mobile</td>\n",
       "      <td>0.0</td>\n",
       "      <td>10.0.14393.2189</td>\n",
       "      <td>amd64</td>\n",
       "      <td>rs1_release</td>\n",
       "      <td>14393</td>\n",
       "      <td>2189</td>\n",
       "      <td>CoreSingleLanguage</td>\n",
       "      <td>CORE_SINGLELANGUAGE</td>\n",
       "      <td>Other</td>\n",
       "      <td>148</td>\n",
       "      <td>UNKNOWN</td>\n",
       "      <td>0</td>\n",
       "      <td>IS_GENUINE</td>\n",
       "      <td>OEM:DM</td>\n",
       "      <td>0.0</td>\n",
       "      <td>Retail</td>\n",
       "      <td>556.0</td>\n",
       "      <td>63396.0</td>\n",
       "      <td>1</td>\n",
       "      <td>0.0</td>\n",
       "      <td>0</td>\n",
       "      <td>0</td>\n",
       "      <td>0.0</td>\n",
       "      <td>1.0</td>\n",
       "      <td>11.0</td>\n",
       "    </tr>\n",
       "    <tr>\n",
       "      <th>3</th>\n",
       "      <td>1.1.15400.5</td>\n",
       "      <td>4.18.1810.5</td>\n",
       "      <td>1.281.664.0</td>\n",
       "      <td>0</td>\n",
       "      <td>7.0</td>\n",
       "      <td>0</td>\n",
       "      <td>42160.0</td>\n",
       "      <td>2.0</td>\n",
       "      <td>1.0</td>\n",
       "      <td>1</td>\n",
       "      <td>29</td>\n",
       "      <td>120917.0</td>\n",
       "      <td>35.0</td>\n",
       "      <td>171</td>\n",
       "      <td>x64</td>\n",
       "      <td>10.0.0.0</td>\n",
       "      <td>16299</td>\n",
       "      <td>rs3</td>\n",
       "      <td>16299.15.amd64fre.rs3_release.170928-1534</td>\n",
       "      <td>Home</td>\n",
       "      <td>1.0</td>\n",
       "      <td>0</td>\n",
       "      <td>117.0</td>\n",
       "      <td>1.0</td>\n",
       "      <td>1.0</td>\n",
       "      <td>Notebook</td>\n",
       "      <td>Windows.Desktop</td>\n",
       "      <td>2668.0</td>\n",
       "      <td>171228.0</td>\n",
       "      <td>2.0</td>\n",
       "      <td>5.0</td>\n",
       "      <td>1985.0</td>\n",
       "      <td>476940.0</td>\n",
       "      <td>HDD</td>\n",
       "      <td>439345.0</td>\n",
       "      <td>0</td>\n",
       "      <td>4096.0</td>\n",
       "      <td>Notebook</td>\n",
       "      <td>14.0</td>\n",
       "      <td>1366.0</td>\n",
       "      <td>768.0</td>\n",
       "      <td>Mobile</td>\n",
       "      <td>0.0</td>\n",
       "      <td>10.0.16299.371</td>\n",
       "      <td>amd64</td>\n",
       "      <td>rs3_release</td>\n",
       "      <td>16299</td>\n",
       "      <td>371</td>\n",
       "      <td>CoreSingleLanguage</td>\n",
       "      <td>CORE_SINGLELANGUAGE</td>\n",
       "      <td>Upgrade</td>\n",
       "      <td>119</td>\n",
       "      <td>Notify</td>\n",
       "      <td>0</td>\n",
       "      <td>IS_GENUINE</td>\n",
       "      <td>OEM:DM</td>\n",
       "      <td>0.0</td>\n",
       "      <td>Retail</td>\n",
       "      <td>628.0</td>\n",
       "      <td>26320.0</td>\n",
       "      <td>1</td>\n",
       "      <td>0.0</td>\n",
       "      <td>0</td>\n",
       "      <td>0</td>\n",
       "      <td>0.0</td>\n",
       "      <td>0.0</td>\n",
       "      <td>10.0</td>\n",
       "    </tr>\n",
       "    <tr>\n",
       "      <th>4</th>\n",
       "      <td>1.1.15400.4</td>\n",
       "      <td>4.18.1809.2</td>\n",
       "      <td>1.279.236.0</td>\n",
       "      <td>0</td>\n",
       "      <td>7.0</td>\n",
       "      <td>0</td>\n",
       "      <td>53447.0</td>\n",
       "      <td>1.0</td>\n",
       "      <td>1.0</td>\n",
       "      <td>1</td>\n",
       "      <td>171</td>\n",
       "      <td>124736.0</td>\n",
       "      <td>211.0</td>\n",
       "      <td>182</td>\n",
       "      <td>x64</td>\n",
       "      <td>10.0.0.0</td>\n",
       "      <td>16299</td>\n",
       "      <td>rs3</td>\n",
       "      <td>16299.15.amd64fre.rs3_release.170928-1534</td>\n",
       "      <td>Home</td>\n",
       "      <td>1.0</td>\n",
       "      <td>0</td>\n",
       "      <td>117.0</td>\n",
       "      <td>1.0</td>\n",
       "      <td>1.0</td>\n",
       "      <td>Notebook</td>\n",
       "      <td>Windows.Desktop</td>\n",
       "      <td>585.0</td>\n",
       "      <td>189538.0</td>\n",
       "      <td>4.0</td>\n",
       "      <td>5.0</td>\n",
       "      <td>3394.0</td>\n",
       "      <td>476940.0</td>\n",
       "      <td>HDD</td>\n",
       "      <td>461506.0</td>\n",
       "      <td>1</td>\n",
       "      <td>2048.0</td>\n",
       "      <td>Notebook</td>\n",
       "      <td>15.5</td>\n",
       "      <td>1366.0</td>\n",
       "      <td>768.0</td>\n",
       "      <td>Mobile</td>\n",
       "      <td>0.0</td>\n",
       "      <td>10.0.16299.371</td>\n",
       "      <td>amd64</td>\n",
       "      <td>rs3_release</td>\n",
       "      <td>16299</td>\n",
       "      <td>371</td>\n",
       "      <td>CoreSingleLanguage</td>\n",
       "      <td>CORE_SINGLELANGUAGE</td>\n",
       "      <td>Update</td>\n",
       "      <td>125</td>\n",
       "      <td>UNKNOWN</td>\n",
       "      <td>0</td>\n",
       "      <td>IS_GENUINE</td>\n",
       "      <td>Retail</td>\n",
       "      <td>0.0</td>\n",
       "      <td>Retail</td>\n",
       "      <td>556.0</td>\n",
       "      <td>63269.0</td>\n",
       "      <td>1</td>\n",
       "      <td>0.0</td>\n",
       "      <td>0</td>\n",
       "      <td>0</td>\n",
       "      <td>0.0</td>\n",
       "      <td>1.0</td>\n",
       "      <td>3.0</td>\n",
       "    </tr>\n",
       "  </tbody>\n",
       "</table>\n",
       "</div>"
      ],
      "text/plain": [
       "  EngineVersion          ...          Wdft_RegionIdentifier\n",
       "0   1.1.15400.5          ...                            7.0\n",
       "1   1.1.15400.4          ...                           12.0\n",
       "2   1.1.15300.6          ...                           11.0\n",
       "3   1.1.15400.5          ...                           10.0\n",
       "4   1.1.15400.4          ...                            3.0\n",
       "\n",
       "[5 rows x 67 columns]"
      ]
     },
     "execution_count": 44,
     "metadata": {},
     "output_type": "execute_result"
    }
   ],
   "source": [
    "data.head()"
   ]
  },
  {
   "cell_type": "code",
   "execution_count": 45,
   "metadata": {
    "_uuid": "5fde060e0f2686c71e16a593483673a34b1b9e36"
   },
   "outputs": [],
   "source": [
    "#sump_columns_to_drop=[AutoSampleOptIn,IsBeta, \tIsSxsPassiveMode,HasTpm,Processor, \tOsVer, \tOsPlatformSubRelease,SkuEdition,OsBuildLab,AutoSampleOptIn,IsProtected,Firewall,UacLuaenable,Census_MDC2FormFactor,Census_DeviceFamily]"
   ]
  },
  {
   "cell_type": "code",
   "execution_count": 46,
   "metadata": {
    "_uuid": "9d801e94da5ed7d5379176a9471d05a9de5bfdba"
   },
   "outputs": [],
   "source": [
    "#susp_columns=[Census_ProcessorManufacturerIdentifier,Census_PrimaryDiskTypeName,Census_ChassisTypeName,Census_PowerPlatformRoleName,Census_OSArchitecture,Census_ProcessorManufacturerIdentifier,Census_PrimaryDiskTypeName,Census_ChassisTypeName,Census_PowerPlatformRoleName,Census_OSArchitecture]"
   ]
  },
  {
   "cell_type": "code",
   "execution_count": 47,
   "metadata": {
    "_uuid": "03455e7bcffa20d8974b838648c331a639565f47"
   },
   "outputs": [],
   "source": [
    "#suspicious_columns=[Census_OSBranch,Census_OSEdition,Census_OSSkuName \tCensus_OSInstallTypeName,Census_OSWUAutoUpdateOptionsName \tCensus_IsPortableOperatingSystem \tCensus_GenuineStateName \tCensus_ActivationChannel \tCensus_IsFlightsDisabled \tCensus_FlightRing,Census_IsVirtualDevice \tCensus_IsTouchEnabled \tCensus_IsPenCapable]"
   ]
  },
  {
   "cell_type": "code",
   "execution_count": 48,
   "metadata": {
    "_uuid": "1ec06d3be122cb8485239bd2278167cd8199426a"
   },
   "outputs": [],
   "source": [
    "columns11=[\"AutoSampleOptIn\",\"IsBeta\",\"IsSxsPassiveMode\",\"HasTpm\",\"Processor\",\"OsVer\",\"OsPlatformSubRelease\",\"SkuEdition\",\"OsBuildLab\",\"AutoSampleOptIn\",\"IsProtected\",\"Firewall\",\"UacLuaenable\",\"Census_MDC2FormFactor\",\"Census_DeviceFamily\",\"Census_ProcessorManufacturerIdentifier\",\"Census_PrimaryDiskTypeName\",\"Census_ChassisTypeName\",\"Census_PowerPlatformRoleName\",\"Census_OSArchitecture\",\"Census_ProcessorManufacturerIdentifier\",\"Census_PrimaryDiskTypeName\",\"Census_ChassisTypeName\",\"Census_PowerPlatformRoleName\",\"Census_OSArchitecture\",\"Census_OSBranch\",\"Census_OSEdition\",\"Census_OSSkuName\",\"Census_OSInstallTypeName\",\"Census_OSWUAutoUpdateOptionsName\",\"Census_IsPortableOperatingSystem\",\"Census_GenuineStateName\",\"Census_ActivationChannel\",\"Census_IsFlightsDisabled\",\"Census_FlightRing\",\"Census_IsVirtualDevice\",\"Census_IsTouchEnabled\",\"Census_IsPenCapable\"]"
   ]
  },
  {
   "cell_type": "code",
   "execution_count": 49,
   "metadata": {
    "_uuid": "c7b403d2dfa0dd9a53af9e945287fcfcc5a3c3ba"
   },
   "outputs": [],
   "source": [
    "#suspicious_looking_columns=[Census_OSArchitecture,Census_PrimaryDiskTypeName,Census_IsPenCapable, Census_IsTouchEnable, Census_FlightRing,Census_IsVirtualDevice,Census_IsFlightsDisabled, Census_ActivationChannel,Census_GenuineStateName,Census_IsPortableOperatingSystem] "
   ]
  },
  {
   "cell_type": "code",
   "execution_count": 50,
   "metadata": {
    "_uuid": "48fe944280926997bbace4170dffc37207dec2d1"
   },
   "outputs": [
    {
     "data": {
      "image/png": "[encoded data removed]",
      "text/plain": [
       "<Figure size 576x432 with 1 Axes>"
      ]
     },
     "metadata": {},
     "output_type": "display_data"
    }
   ],
   "source": [
    "a1l=len(columns11)\n",
    "for i in range(a1l):\n",
    "    sns.countplot(data[columns11[i]])"
   ]
  },
  {
   "cell_type": "code",
   "execution_count": 51,
   "metadata": {
    "_uuid": "5b33a61057bb9b63360b7a9572491af4ebcf31ec"
   },
   "outputs": [
    {
     "data": {
      "text/plain": [
       "<matplotlib.axes._subplots.AxesSubplot at 0x7f8e85ebfeb8>"
      ]
     },
     "execution_count": 51,
     "metadata": {},
     "output_type": "execute_result"
    },
    {
     "data": {
      "image/png": "[encoded data removed]",
      "text/plain": [
       "<Figure size 576x432 with 1 Axes>"
      ]
     },
     "metadata": {},
     "output_type": "display_data"
    }
   ],
   "source": [
    "plt.subplot(2,2,1)\n",
    "sns.countplot(data.Census_ActivationChannel)"
   ]
  },
  {
   "cell_type": "code",
   "execution_count": 52,
   "metadata": {
    "_uuid": "a06882f9f750e89320b37d35a63417689080cc87"
   },
   "outputs": [],
   "source": [
    "data.OsPlatformSubRelease.unique()\n",
    "data.OsPlatformSubRelease=data.OsPlatformSubRelease.map({'rs2':0,'rs3':1,'rs1':2, 'rs4':3,'prers5':4, 'th2':5, 'th1':6, 'windows8.1':7,'windows7':8})"
   ]
  },
  {
   "cell_type": "code",
   "execution_count": 53,
   "metadata": {
    "_uuid": "f67a7701697d867b3694d1011185631a676f9900"
   },
   "outputs": [],
   "source": [
    "data.drop([\"UacLuaenable\",\"Census_MDC2FormFactor\", \"Census_DeviceFamily\", \"Census_ProcessorManufacturerIdentifier\",\"Census_ChassisTypeName\",\"Census_PowerPlatformRoleName\"],axis=1,inplace=True)"
   ]
  },
  {
   "cell_type": "code",
   "execution_count": 54,
   "metadata": {
    "_uuid": "cc589718155711e836e45958fdb69a37145839b0"
   },
   "outputs": [],
   "source": [
    "data.drop([\"Census_IsPortableOperatingSystem\",\"Census_GenuineStateName\"],axis=1,inplace=True)"
   ]
  },
  {
   "cell_type": "code",
   "execution_count": 55,
   "metadata": {
    "_uuid": "cfc5a613f956b9219faef14d87c868c19351a2d4"
   },
   "outputs": [],
   "source": [
    "data.drop([\"Firewall\"],axis=1,inplace=True)"
   ]
  },
  {
   "cell_type": "code",
   "execution_count": 56,
   "metadata": {
    "_uuid": "a7fffc8776bf81c3d1ee977e1a3ca4b7a26b8d60"
   },
   "outputs": [
    {
     "name": "stdout",
     "output_type": "stream",
     "text": [
      "(100000, 58)\n"
     ]
    }
   ],
   "source": [
    "print(data.shape)"
   ]
  },
  {
   "cell_type": "code",
   "execution_count": 57,
   "metadata": {
    "_uuid": "2d3cd71ea03d7446db3fa83ec89c7c76cba161b4"
   },
   "outputs": [
    {
     "data": {
      "text/plain": [
       "0.0    70196\n",
       "1.0    29804\n",
       "Name: Wdft_IsGamer, dtype: int64"
      ]
     },
     "execution_count": 57,
     "metadata": {},
     "output_type": "execute_result"
    }
   ],
   "source": [
    "data.Wdft_IsGamer.value_counts()"
   ]
  },
  {
   "cell_type": "code",
   "execution_count": 58,
   "metadata": {
    "_uuid": "90366f527bbbe728a786346163b7afe9e0423aba"
   },
   "outputs": [
    {
     "data": {
      "text/plain": [
       "array(['Core', 'CoreSingleLanguage', 'Professional',\n",
       "       'CoreCountrySpecific', 'ProfessionalEducation', 'Education',\n",
       "       'Enterprise', 'ServerStandard', 'ProfessionalN', 'EnterpriseS',\n",
       "       'EducationN', 'CoreN', 'Cloud', 'ServerStandardEval',\n",
       "       'ServerDatacenterEval', 'ProfessionalWorkstation',\n",
       "       'ServerSolution', 'EnterpriseSN', 'ProfessionalEducationN',\n",
       "       'EnterpriseN'], dtype=object)"
      ]
     },
     "execution_count": 58,
     "metadata": {},
     "output_type": "execute_result"
    }
   ],
   "source": [
    "data.Census_OSEdition.unique()"
   ]
  },
  {
   "cell_type": "code",
   "execution_count": 59,
   "metadata": {
    "_uuid": "70f4e7430b3191170a1e439649078105bf532c5d"
   },
   "outputs": [
    {
     "data": {
      "text/plain": [
       "Professional               39520\n",
       "Core                       35301\n",
       "CoreSingleLanguage         20359\n",
       "CoreCountrySpecific         2245\n",
       "ProfessionalEducation        730\n",
       "Enterprise                   448\n",
       "Education                    442\n",
       "ProfessionalN                412\n",
       "EnterpriseS                  239\n",
       "ServerStandard               110\n",
       "CoreN                         61\n",
       "Cloud                         59\n",
       "ServerStandardEval            26\n",
       "ServerSolution                12\n",
       "EducationN                    12\n",
       "EnterpriseSN                  11\n",
       "ServerDatacenterEval           5\n",
       "EnterpriseN                    5\n",
       "ProfessionalEducationN         2\n",
       "ProfessionalWorkstation        1\n",
       "Name: Census_OSEdition, dtype: int64"
      ]
     },
     "execution_count": 59,
     "metadata": {},
     "output_type": "execute_result"
    }
   ],
   "source": [
    "data.Census_OSEdition.value_counts()"
   ]
  },
  {
   "cell_type": "code",
   "execution_count": 60,
   "metadata": {
    "_uuid": "5b18d5a475df4c3060134059132d9fe6c8d7066f"
   },
   "outputs": [],
   "source": [
    "data.Census_OSEdition=data.Census_OSEdition.map({\"Core\":0,\"CoreSingleLanguage\":1,\"Professional\":2,\"CoreCountrySpecific\":3,\"ProfessionalEducation\":4,\"Education\":5,\"Enterprise\":6,\"ServerStandard\":7,\"ProfessionalN\":8,\"EnterpriseS\":9,\"EducationN\":10,\"CoreN\":11,\"Cloud\":12,\"ServerStandardEval\":13,\"ServerDatacenterEval\":14,\"ProfessionalWorkstation\":15,\"ServerSolution\":16,\"EnterpriseSN\":17,\"ProfessionalEducationN\":18,\"EnterpriseN\":19})"
   ]
  },
  {
   "cell_type": "code",
   "execution_count": 61,
   "metadata": {
    "_uuid": "1426278bcb1eed89ebd54985747e29a0c8733450"
   },
   "outputs": [],
   "source": [
    "data.drop([\"EngineVersion\",\"AppVersion\",\"AvSigVersion\"],axis=1,inplace=True)"
   ]
  },
  {
   "cell_type": "code",
   "execution_count": 62,
   "metadata": {
    "_uuid": "fe9b89eae73303e09c91559ccc7da1f829feb148"
   },
   "outputs": [
    {
     "data": {
      "text/plain": [
       "(100000, 55)"
      ]
     },
     "execution_count": 62,
     "metadata": {},
     "output_type": "execute_result"
    }
   ],
   "source": [
    "data.shape"
   ]
  },
  {
   "cell_type": "code",
   "execution_count": 63,
   "metadata": {
    "_uuid": "f88346d824b04570539f1894b4099347b2f6fdf3"
   },
   "outputs": [],
   "source": [
    "data.drop([\"OsBuildLab\"],axis=1,inplace=True)"
   ]
  },
  {
   "cell_type": "markdown",
   "metadata": {
    "_uuid": "6540a08be7adc108eb63e32121f5617a8fbfd743"
   },
   "source": [
    "*DOWN BELOW WE SEE THAT THERE IS A LARGE GAP BETWEEN PROTECTED AND NOT-PROTECTED SYSTEM*"
   ]
  },
  {
   "cell_type": "code",
   "execution_count": 64,
   "metadata": {
    "_uuid": "ef1fda315640ac97a7f81a4f05add2d56c2703df"
   },
   "outputs": [
    {
     "data": {
      "text/plain": [
       "1.0    94544\n",
       "0.0     5456\n",
       "Name: IsProtected, dtype: int64"
      ]
     },
     "execution_count": 64,
     "metadata": {},
     "output_type": "execute_result"
    }
   ],
   "source": [
    "data.IsProtected.value_counts()"
   ]
  },
  {
   "cell_type": "code",
   "execution_count": 65,
   "metadata": {
    "_uuid": "1612ca9e6214c5b1243f5cdd359ff8e4fbc1d1ca"
   },
   "outputs": [
    {
     "data": {
      "text/plain": [
       "<matplotlib.axes._subplots.AxesSubplot at 0x7f8e85d969e8>"
      ]
     },
     "execution_count": 65,
     "metadata": {},
     "output_type": "execute_result"
    },
    {
     "data": {
      "image/png": "[encoded data removed]",
      "text/plain": [
       "<Figure size 576x432 with 1 Axes>"
      ]
     },
     "metadata": {},
     "output_type": "display_data"
    }
   ],
   "source": [
    "sns.countplot(data.IsProtected)"
   ]
  },
  {
   "cell_type": "code",
   "execution_count": 66,
   "metadata": {
    "_uuid": "b896ffcf7f691a050a40978f2bf98c8b7c198399"
   },
   "outputs": [],
   "source": [
    "data.drop(\"Census_OSVersion\",axis=1,inplace=True)"
   ]
  },
  {
   "cell_type": "code",
   "execution_count": 67,
   "metadata": {
    "_uuid": "8b873827edae17498d56d45dd69ca76f7cff2f44"
   },
   "outputs": [
    {
     "data": {
      "text/plain": [
       "Home               57452\n",
       "Pro                40778\n",
       "Invalid              611\n",
       "Education            419\n",
       "Enterprise           415\n",
       "Enterprise LTSB      243\n",
       "Cloud                 51\n",
       "Server                31\n",
       "Name: SkuEdition, dtype: int64"
      ]
     },
     "execution_count": 67,
     "metadata": {},
     "output_type": "execute_result"
    }
   ],
   "source": [
    "data.SkuEdition.value_counts()"
   ]
  },
  {
   "cell_type": "code",
   "execution_count": 68,
   "metadata": {
    "_uuid": "33d41181c22086d3450d6ed4f661475d5fe6613b"
   },
   "outputs": [],
   "source": [
    "data.SkuEdition=data.SkuEdition.map({\"Home\":0,\"Pro\":1,\"Invalid\":2,\"Education\":3,\"Enterprise\":4,\"Enterprise LTSB\":5,\"Cloud\":6,\"Server\":7})"
   ]
  },
  {
   "cell_type": "code",
   "execution_count": 69,
   "metadata": {
    "_uuid": "8b7e328727aac7f4950df678131ddda483494d2f"
   },
   "outputs": [
    {
     "data": {
      "text/plain": [
       "<matplotlib.axes._subplots.AxesSubplot at 0x7f8e85d53438>"
      ]
     },
     "execution_count": 69,
     "metadata": {},
     "output_type": "execute_result"
    },
    {
     "data": {
      "image/png": "[encoded data removed]",
      "text/plain": [
       "<Figure size 576x432 with 1 Axes>"
      ]
     },
     "metadata": {},
     "output_type": "display_data"
    }
   ],
   "source": [
    "sns.countplot(data.Processor)#.value_counts()"
   ]
  },
  {
   "cell_type": "code",
   "execution_count": 70,
   "metadata": {
    "_uuid": "ce44b97cc88b1e93b0d57a9e6e4abd5c7f3d3205"
   },
   "outputs": [],
   "source": [
    "data.drop(\"Processor\",axis=1,inplace=True)"
   ]
  },
  {
   "cell_type": "code",
   "execution_count": 71,
   "metadata": {
    "_uuid": "31fb52a540e7f0298adcdecd9b5a11444c8cfaa6"
   },
   "outputs": [
    {
     "data": {
      "text/plain": [
       "HDD            62514\n",
       "SSD            29952\n",
       "UNKNOWN         4920\n",
       "Unspecified     2614\n",
       "Name: Census_PrimaryDiskTypeName, dtype: int64"
      ]
     },
     "execution_count": 71,
     "metadata": {},
     "output_type": "execute_result"
    }
   ],
   "source": [
    "data.Census_PrimaryDiskTypeName.value_counts()"
   ]
  },
  {
   "cell_type": "code",
   "execution_count": 72,
   "metadata": {
    "_uuid": "a448f7fb2e9496ff280b44cdf13f1d39f2d974cc"
   },
   "outputs": [],
   "source": [
    "data.drop([\"Census_PrimaryDiskTypeName\"],axis=1,inplace=True)"
   ]
  },
  {
   "cell_type": "code",
   "execution_count": 73,
   "metadata": {
    "_uuid": "9fd8b633652809899a5f07eb5f76dbd09d86aee0"
   },
   "outputs": [
    {
     "data": {
      "text/plain": [
       "(100000, 51)"
      ]
     },
     "execution_count": 73,
     "metadata": {},
     "output_type": "execute_result"
    }
   ],
   "source": [
    "data.shape"
   ]
  },
  {
   "cell_type": "code",
   "execution_count": 74,
   "metadata": {
    "_uuid": "7c1e07ba59908e93f1ea3bdf99d1aa1550efbef6"
   },
   "outputs": [],
   "source": [
    "data.drop([\"IsSxsPassiveMode\",\"OsVer\",\"OsPlatformSubRelease\",\"SkuEdition\",\"Census_HasOpticalDiskDrive\",\"Census_InternalBatteryNumberOfCharges\",\"Census_OSBranch\",\"Census_OSWUAutoUpdateOptionsName\"],axis=1,inplace=True)"
   ]
  },
  {
   "cell_type": "code",
   "execution_count": 75,
   "metadata": {
    "_uuid": "b3ca01645ea58ccbb2b0d304e395f1b11391cd93"
   },
   "outputs": [],
   "source": [
    "data.drop([\"Census_IsVirtualDevice\",\"Census_IsTouchEnabled\",\"Census_IsPenCapable\",\"Census_IsAlwaysOnAlwaysConnectedCapable\"],axis=1,inplace=True)"
   ]
  },
  {
   "cell_type": "code",
   "execution_count": 76,
   "metadata": {
    "_uuid": "9ab03e799a84ad303231394983a59162bd13029d"
   },
   "outputs": [],
   "source": [
    "data.drop([\"Census_FlightRing\",\"Census_ActivationChannel\",\"Census_IsFlightsDisabled\"],axis=1,inplace=True)"
   ]
  },
  {
   "cell_type": "code",
   "execution_count": 77,
   "metadata": {
    "_uuid": "152e9f8a1a06b9a4542017e2e870fb2b1253520a"
   },
   "outputs": [
    {
     "data": {
      "text/plain": [
       "PROFESSIONAL                    40259\n",
       "CORE                            35301\n",
       "CORE_SINGLELANGUAGE             20355\n",
       "CORE_COUNTRYSPECIFIC             2244\n",
       "ENTERPRISE                        445\n",
       "EDUCATION                         443\n",
       "PROFESSIONAL_N                    414\n",
       "ENTERPRISE_S                      239\n",
       "STANDARD_SERVER                   110\n",
       "CORE_N                             61\n",
       "CLOUD                              56\n",
       "STANDARD_EVALUATION_SERVER         26\n",
       "EDUCATION_N                        12\n",
       "SB_SOLUTION_SERVER                 12\n",
       "ENTERPRISE_S_N                     11\n",
       "ENTERPRISE_N                        6\n",
       "DATACENTER_EVALUATION_SERVER        5\n",
       "PRO_WORKSTATION                     1\n",
       "Name: Census_OSSkuName, dtype: int64"
      ]
     },
     "execution_count": 77,
     "metadata": {},
     "output_type": "execute_result"
    }
   ],
   "source": [
    "data.Census_OSSkuName.value_counts()"
   ]
  },
  {
   "cell_type": "code",
   "execution_count": 78,
   "metadata": {
    "_uuid": "083c0248301cc3d136206e84cb1ce3ee546e4e09"
   },
   "outputs": [],
   "source": [
    "data.Census_OSSkuName=data.Census_OSSkuName.map({\"PROFESSIONAL\":0,\"CORE\":1,\"CORE_SINGLELANGUAGE\":2,\"CORE_COUNTRYSPECIFIC\":3,\"ENTERPRISE\":4,\"EDUCATION\":5,\"PROFESSIONAL_N\":6,\"ENTERPRISE_S\":7,\"STANDARD_SERVER\":8,\"CORE_N\":9,\"CLOUD\":10,\"STANDARD_EVALUATION_SERVER\":11,\"EDUCATION_N\":12,\"SB_SOLUTION_SERVER\":13,\"ENTERPRISE_S_N\":14,\"ENTERPRISE_N\":15,\"DATACENTER_EVALUATION_SERVER\":16,\"PRO_WORKSTATION\":17})     "
   ]
  },
  {
   "cell_type": "code",
   "execution_count": 79,
   "metadata": {
    "_uuid": "e614365610e4ef7e84eb5e1a4dedd39fc0843ef5"
   },
   "outputs": [
    {
     "data": {
      "text/plain": [
       "IBSClean          27015\n",
       "UUPUpgrade        23405\n",
       "Update            14148\n",
       "Upgrade           12047\n",
       "Other             10374\n",
       "Reset              7856\n",
       "Refresh            3263\n",
       "Clean               979\n",
       "CleanPCRefresh      913\n",
       "Name: Census_OSInstallTypeName, dtype: int64"
      ]
     },
     "execution_count": 79,
     "metadata": {},
     "output_type": "execute_result"
    }
   ],
   "source": [
    "data.Census_OSInstallTypeName.value_counts()"
   ]
  },
  {
   "cell_type": "code",
   "execution_count": 80,
   "metadata": {
    "_uuid": "57a85c3ad9aef9f8f989791214b3e6ad3e425aab"
   },
   "outputs": [],
   "source": [
    "data.Census_OSInstallTypeName=data.Census_OSInstallTypeName.map({\"IBSClean\":0,\"UUPUpgrade\":1,\"Update\":2,\"Upgrade\":3,\"Other\":4,\"Reset\":5,\"Refresh\":6,\"Clean\":7,\"CleanPCRefresh\":8})"
   ]
  },
  {
   "cell_type": "code",
   "execution_count": 81,
   "metadata": {
    "_uuid": "62fac501e8a066f064ecf09a32de943f298018c5"
   },
   "outputs": [
    {
     "data": {
      "text/plain": [
       "(100000, 36)"
      ]
     },
     "execution_count": 81,
     "metadata": {},
     "output_type": "execute_result"
    }
   ],
   "source": [
    "data.shape"
   ]
  },
  {
   "cell_type": "code",
   "execution_count": 82,
   "metadata": {
    "_uuid": "5d9845088d4c8fa88a4fc0d6334a1fb6ece6cf1a"
   },
   "outputs": [
    {
     "data": {
      "text/html": [
       "<div>\n",
       "<style scoped>\n",
       "    .dataframe tbody tr th:only-of-type {\n",
       "        vertical-align: middle;\n",
       "    }\n",
       "\n",
       "    .dataframe tbody tr th {\n",
       "        vertical-align: top;\n",
       "    }\n",
       "\n",
       "    .dataframe thead th {\n",
       "        text-align: right;\n",
       "    }\n",
       "</style>\n",
       "<table border=\"1\" class=\"dataframe\">\n",
       "  <thead>\n",
       "    <tr style=\"text-align: right;\">\n",
       "      <th></th>\n",
       "      <th>IsBeta</th>\n",
       "      <th>RtpStateBitfield</th>\n",
       "      <th>AVProductStatesIdentifier</th>\n",
       "      <th>AVProductsInstalled</th>\n",
       "      <th>AVProductsEnabled</th>\n",
       "      <th>HasTpm</th>\n",
       "      <th>CountryIdentifier</th>\n",
       "      <th>CityIdentifier</th>\n",
       "      <th>GeoNameIdentifier</th>\n",
       "      <th>LocaleEnglishNameIdentifier</th>\n",
       "      <th>OsBuild</th>\n",
       "      <th>IsProtected</th>\n",
       "      <th>AutoSampleOptIn</th>\n",
       "      <th>IeVerIdentifier</th>\n",
       "      <th>Census_OEMNameIdentifier</th>\n",
       "      <th>Census_OEMModelIdentifier</th>\n",
       "      <th>Census_ProcessorCoreCount</th>\n",
       "      <th>Census_ProcessorModelIdentifier</th>\n",
       "      <th>Census_PrimaryDiskTotalCapacity</th>\n",
       "      <th>Census_SystemVolumeTotalCapacity</th>\n",
       "      <th>Census_TotalPhysicalRAM</th>\n",
       "      <th>Census_InternalPrimaryDiagonalDisplaySizeInInches</th>\n",
       "      <th>Census_InternalPrimaryDisplayResolutionHorizontal</th>\n",
       "      <th>Census_InternalPrimaryDisplayResolutionVertical</th>\n",
       "      <th>Census_OSArchitecture</th>\n",
       "      <th>Census_OSBuildNumber</th>\n",
       "      <th>Census_OSBuildRevision</th>\n",
       "      <th>Census_OSEdition</th>\n",
       "      <th>Census_OSSkuName</th>\n",
       "      <th>Census_OSInstallTypeName</th>\n",
       "      <th>Census_OSUILocaleIdentifier</th>\n",
       "      <th>Census_FirmwareManufacturerIdentifier</th>\n",
       "      <th>Census_FirmwareVersionIdentifier</th>\n",
       "      <th>Census_IsSecureBootEnabled</th>\n",
       "      <th>Wdft_IsGamer</th>\n",
       "      <th>Wdft_RegionIdentifier</th>\n",
       "    </tr>\n",
       "  </thead>\n",
       "  <tbody>\n",
       "    <tr>\n",
       "      <th>0</th>\n",
       "      <td>0</td>\n",
       "      <td>7.0</td>\n",
       "      <td>53447.0</td>\n",
       "      <td>1.0</td>\n",
       "      <td>1.0</td>\n",
       "      <td>1</td>\n",
       "      <td>43</td>\n",
       "      <td>58552.0</td>\n",
       "      <td>53.0</td>\n",
       "      <td>42</td>\n",
       "      <td>15063</td>\n",
       "      <td>1.0</td>\n",
       "      <td>0</td>\n",
       "      <td>108.0</td>\n",
       "      <td>2689.0</td>\n",
       "      <td>30661.0</td>\n",
       "      <td>4.0</td>\n",
       "      <td>3063.0</td>\n",
       "      <td>488386.0</td>\n",
       "      <td>123179.0</td>\n",
       "      <td>8192.0</td>\n",
       "      <td>15.5</td>\n",
       "      <td>1920.0</td>\n",
       "      <td>1080.0</td>\n",
       "      <td>amd64</td>\n",
       "      <td>15063</td>\n",
       "      <td>1387</td>\n",
       "      <td>0</td>\n",
       "      <td>1</td>\n",
       "      <td>5</td>\n",
       "      <td>158</td>\n",
       "      <td>807.0</td>\n",
       "      <td>8554.0</td>\n",
       "      <td>1</td>\n",
       "      <td>0.0</td>\n",
       "      <td>7.0</td>\n",
       "    </tr>\n",
       "    <tr>\n",
       "      <th>1</th>\n",
       "      <td>0</td>\n",
       "      <td>7.0</td>\n",
       "      <td>53447.0</td>\n",
       "      <td>1.0</td>\n",
       "      <td>1.0</td>\n",
       "      <td>1</td>\n",
       "      <td>68</td>\n",
       "      <td>71395.0</td>\n",
       "      <td>276.0</td>\n",
       "      <td>74</td>\n",
       "      <td>16299</td>\n",
       "      <td>1.0</td>\n",
       "      <td>0</td>\n",
       "      <td>117.0</td>\n",
       "      <td>2206.0</td>\n",
       "      <td>242491.0</td>\n",
       "      <td>4.0</td>\n",
       "      <td>3410.0</td>\n",
       "      <td>1907729.0</td>\n",
       "      <td>1882352.0</td>\n",
       "      <td>8192.0</td>\n",
       "      <td>15.5</td>\n",
       "      <td>1366.0</td>\n",
       "      <td>768.0</td>\n",
       "      <td>amd64</td>\n",
       "      <td>16299</td>\n",
       "      <td>611</td>\n",
       "      <td>0</td>\n",
       "      <td>1</td>\n",
       "      <td>1</td>\n",
       "      <td>30</td>\n",
       "      <td>554.0</td>\n",
       "      <td>33105.0</td>\n",
       "      <td>1</td>\n",
       "      <td>1.0</td>\n",
       "      <td>12.0</td>\n",
       "    </tr>\n",
       "    <tr>\n",
       "      <th>2</th>\n",
       "      <td>0</td>\n",
       "      <td>7.0</td>\n",
       "      <td>49480.0</td>\n",
       "      <td>2.0</td>\n",
       "      <td>1.0</td>\n",
       "      <td>1</td>\n",
       "      <td>201</td>\n",
       "      <td>66202.0</td>\n",
       "      <td>267.0</td>\n",
       "      <td>251</td>\n",
       "      <td>14393</td>\n",
       "      <td>1.0</td>\n",
       "      <td>0</td>\n",
       "      <td>98.0</td>\n",
       "      <td>585.0</td>\n",
       "      <td>189533.0</td>\n",
       "      <td>2.0</td>\n",
       "      <td>2097.0</td>\n",
       "      <td>29820.0</td>\n",
       "      <td>28678.0</td>\n",
       "      <td>4096.0</td>\n",
       "      <td>13.9</td>\n",
       "      <td>1280.0</td>\n",
       "      <td>720.0</td>\n",
       "      <td>amd64</td>\n",
       "      <td>14393</td>\n",
       "      <td>2189</td>\n",
       "      <td>1</td>\n",
       "      <td>2</td>\n",
       "      <td>4</td>\n",
       "      <td>148</td>\n",
       "      <td>556.0</td>\n",
       "      <td>63396.0</td>\n",
       "      <td>1</td>\n",
       "      <td>1.0</td>\n",
       "      <td>11.0</td>\n",
       "    </tr>\n",
       "    <tr>\n",
       "      <th>3</th>\n",
       "      <td>0</td>\n",
       "      <td>7.0</td>\n",
       "      <td>42160.0</td>\n",
       "      <td>2.0</td>\n",
       "      <td>1.0</td>\n",
       "      <td>1</td>\n",
       "      <td>29</td>\n",
       "      <td>120917.0</td>\n",
       "      <td>35.0</td>\n",
       "      <td>171</td>\n",
       "      <td>16299</td>\n",
       "      <td>1.0</td>\n",
       "      <td>0</td>\n",
       "      <td>117.0</td>\n",
       "      <td>2668.0</td>\n",
       "      <td>171228.0</td>\n",
       "      <td>2.0</td>\n",
       "      <td>1985.0</td>\n",
       "      <td>476940.0</td>\n",
       "      <td>439345.0</td>\n",
       "      <td>4096.0</td>\n",
       "      <td>14.0</td>\n",
       "      <td>1366.0</td>\n",
       "      <td>768.0</td>\n",
       "      <td>amd64</td>\n",
       "      <td>16299</td>\n",
       "      <td>371</td>\n",
       "      <td>1</td>\n",
       "      <td>2</td>\n",
       "      <td>3</td>\n",
       "      <td>119</td>\n",
       "      <td>628.0</td>\n",
       "      <td>26320.0</td>\n",
       "      <td>1</td>\n",
       "      <td>0.0</td>\n",
       "      <td>10.0</td>\n",
       "    </tr>\n",
       "    <tr>\n",
       "      <th>4</th>\n",
       "      <td>0</td>\n",
       "      <td>7.0</td>\n",
       "      <td>53447.0</td>\n",
       "      <td>1.0</td>\n",
       "      <td>1.0</td>\n",
       "      <td>1</td>\n",
       "      <td>171</td>\n",
       "      <td>124736.0</td>\n",
       "      <td>211.0</td>\n",
       "      <td>182</td>\n",
       "      <td>16299</td>\n",
       "      <td>1.0</td>\n",
       "      <td>0</td>\n",
       "      <td>117.0</td>\n",
       "      <td>585.0</td>\n",
       "      <td>189538.0</td>\n",
       "      <td>4.0</td>\n",
       "      <td>3394.0</td>\n",
       "      <td>476940.0</td>\n",
       "      <td>461506.0</td>\n",
       "      <td>2048.0</td>\n",
       "      <td>15.5</td>\n",
       "      <td>1366.0</td>\n",
       "      <td>768.0</td>\n",
       "      <td>amd64</td>\n",
       "      <td>16299</td>\n",
       "      <td>371</td>\n",
       "      <td>1</td>\n",
       "      <td>2</td>\n",
       "      <td>2</td>\n",
       "      <td>125</td>\n",
       "      <td>556.0</td>\n",
       "      <td>63269.0</td>\n",
       "      <td>1</td>\n",
       "      <td>1.0</td>\n",
       "      <td>3.0</td>\n",
       "    </tr>\n",
       "  </tbody>\n",
       "</table>\n",
       "</div>"
      ],
      "text/plain": [
       "   IsBeta          ...            Wdft_RegionIdentifier\n",
       "0       0          ...                              7.0\n",
       "1       0          ...                             12.0\n",
       "2       0          ...                             11.0\n",
       "3       0          ...                             10.0\n",
       "4       0          ...                              3.0\n",
       "\n",
       "[5 rows x 36 columns]"
      ]
     },
     "execution_count": 82,
     "metadata": {},
     "output_type": "execute_result"
    }
   ],
   "source": [
    "data.head()"
   ]
  },
  {
   "cell_type": "code",
   "execution_count": 83,
   "metadata": {
    "_uuid": "75538fe4678ffec1a06d8fce03e08d9890e343f6"
   },
   "outputs": [
    {
     "data": {
      "image/png": "[encoded data removed]",
      "text/plain": [
       "<Figure size 576x432 with 1 Axes>"
      ]
     },
     "metadata": {},
     "output_type": "display_data"
    }
   ],
   "source": [
    "sns.countplot(data.IsBeta)\n",
    "data.drop(\"IsBeta\",axis=1,inplace=True)"
   ]
  },
  {
   "cell_type": "code",
   "execution_count": 84,
   "metadata": {
    "_uuid": "c6b5828efadd29417079011eeda72e07301dc3e9"
   },
   "outputs": [
    {
     "data": {
      "text/plain": [
       "<matplotlib.axes._subplots.AxesSubplot at 0x7f8e85c6f940>"
      ]
     },
     "execution_count": 84,
     "metadata": {},
     "output_type": "execute_result"
    },
    {
     "data": {
      "image/png": "[encoded data removed]",
      "text/plain": [
       "<Figure size 576x432 with 1 Axes>"
      ]
     },
     "metadata": {},
     "output_type": "display_data"
    }
   ],
   "source": [
    "sns.countplot(data[\"HasTpm\"])"
   ]
  },
  {
   "cell_type": "code",
   "execution_count": 85,
   "metadata": {
    "_uuid": "8dafdf4778c11fcac4eaeb922b4ce1f0e1b0fd67"
   },
   "outputs": [],
   "source": [
    "data.drop(\"HasTpm\",axis=1,inplace=True)"
   ]
  },
  {
   "cell_type": "code",
   "execution_count": 86,
   "metadata": {
    "_uuid": "a8175248ebe8af35a54bedea09be6391bed75f0b"
   },
   "outputs": [],
   "source": [
    "data.drop(\"Census_OSArchitecture\",axis=1,inplace=True)"
   ]
  },
  {
   "cell_type": "code",
   "execution_count": 87,
   "metadata": {
    "_uuid": "5f36ce211e0a0b26b34bfb2a39ca258b236744b9"
   },
   "outputs": [
    {
     "data": {
      "text/plain": [
       "0    54821\n",
       "1    45179\n",
       "Name: Census_IsSecureBootEnabled, dtype: int64"
      ]
     },
     "execution_count": 87,
     "metadata": {},
     "output_type": "execute_result"
    }
   ],
   "source": [
    "data.Census_IsSecureBootEnabled.value_counts()"
   ]
  },
  {
   "cell_type": "code",
   "execution_count": 88,
   "metadata": {
    "_uuid": "7dd3168df0678ebe51cf779fde456b2c8344a86d"
   },
   "outputs": [
    {
     "data": {
      "text/html": [
       "<div>\n",
       "<style scoped>\n",
       "    .dataframe tbody tr th:only-of-type {\n",
       "        vertical-align: middle;\n",
       "    }\n",
       "\n",
       "    .dataframe tbody tr th {\n",
       "        vertical-align: top;\n",
       "    }\n",
       "\n",
       "    .dataframe thead th {\n",
       "        text-align: right;\n",
       "    }\n",
       "</style>\n",
       "<table border=\"1\" class=\"dataframe\">\n",
       "  <thead>\n",
       "    <tr style=\"text-align: right;\">\n",
       "      <th></th>\n",
       "      <th>RtpStateBitfield</th>\n",
       "      <th>AVProductStatesIdentifier</th>\n",
       "      <th>AVProductsInstalled</th>\n",
       "      <th>AVProductsEnabled</th>\n",
       "      <th>CountryIdentifier</th>\n",
       "      <th>CityIdentifier</th>\n",
       "      <th>GeoNameIdentifier</th>\n",
       "      <th>LocaleEnglishNameIdentifier</th>\n",
       "      <th>OsBuild</th>\n",
       "      <th>IsProtected</th>\n",
       "      <th>AutoSampleOptIn</th>\n",
       "      <th>IeVerIdentifier</th>\n",
       "      <th>Census_OEMNameIdentifier</th>\n",
       "      <th>Census_OEMModelIdentifier</th>\n",
       "      <th>Census_ProcessorCoreCount</th>\n",
       "      <th>Census_ProcessorModelIdentifier</th>\n",
       "      <th>Census_PrimaryDiskTotalCapacity</th>\n",
       "      <th>Census_SystemVolumeTotalCapacity</th>\n",
       "      <th>Census_TotalPhysicalRAM</th>\n",
       "      <th>Census_InternalPrimaryDiagonalDisplaySizeInInches</th>\n",
       "      <th>Census_InternalPrimaryDisplayResolutionHorizontal</th>\n",
       "      <th>Census_InternalPrimaryDisplayResolutionVertical</th>\n",
       "      <th>Census_OSBuildNumber</th>\n",
       "      <th>Census_OSBuildRevision</th>\n",
       "      <th>Census_OSEdition</th>\n",
       "      <th>Census_OSSkuName</th>\n",
       "      <th>Census_OSInstallTypeName</th>\n",
       "      <th>Census_OSUILocaleIdentifier</th>\n",
       "      <th>Census_FirmwareManufacturerIdentifier</th>\n",
       "      <th>Census_FirmwareVersionIdentifier</th>\n",
       "      <th>Census_IsSecureBootEnabled</th>\n",
       "      <th>Wdft_IsGamer</th>\n",
       "      <th>Wdft_RegionIdentifier</th>\n",
       "    </tr>\n",
       "  </thead>\n",
       "  <tbody>\n",
       "    <tr>\n",
       "      <th>0</th>\n",
       "      <td>7.0</td>\n",
       "      <td>53447.0</td>\n",
       "      <td>1.0</td>\n",
       "      <td>1.0</td>\n",
       "      <td>43</td>\n",
       "      <td>58552.0</td>\n",
       "      <td>53.0</td>\n",
       "      <td>42</td>\n",
       "      <td>15063</td>\n",
       "      <td>1.0</td>\n",
       "      <td>0</td>\n",
       "      <td>108.0</td>\n",
       "      <td>2689.0</td>\n",
       "      <td>30661.0</td>\n",
       "      <td>4.0</td>\n",
       "      <td>3063.0</td>\n",
       "      <td>488386.0</td>\n",
       "      <td>123179.0</td>\n",
       "      <td>8192.0</td>\n",
       "      <td>15.5</td>\n",
       "      <td>1920.0</td>\n",
       "      <td>1080.0</td>\n",
       "      <td>15063</td>\n",
       "      <td>1387</td>\n",
       "      <td>0</td>\n",
       "      <td>1</td>\n",
       "      <td>5</td>\n",
       "      <td>158</td>\n",
       "      <td>807.0</td>\n",
       "      <td>8554.0</td>\n",
       "      <td>1</td>\n",
       "      <td>0.0</td>\n",
       "      <td>7.0</td>\n",
       "    </tr>\n",
       "    <tr>\n",
       "      <th>1</th>\n",
       "      <td>7.0</td>\n",
       "      <td>53447.0</td>\n",
       "      <td>1.0</td>\n",
       "      <td>1.0</td>\n",
       "      <td>68</td>\n",
       "      <td>71395.0</td>\n",
       "      <td>276.0</td>\n",
       "      <td>74</td>\n",
       "      <td>16299</td>\n",
       "      <td>1.0</td>\n",
       "      <td>0</td>\n",
       "      <td>117.0</td>\n",
       "      <td>2206.0</td>\n",
       "      <td>242491.0</td>\n",
       "      <td>4.0</td>\n",
       "      <td>3410.0</td>\n",
       "      <td>1907729.0</td>\n",
       "      <td>1882352.0</td>\n",
       "      <td>8192.0</td>\n",
       "      <td>15.5</td>\n",
       "      <td>1366.0</td>\n",
       "      <td>768.0</td>\n",
       "      <td>16299</td>\n",
       "      <td>611</td>\n",
       "      <td>0</td>\n",
       "      <td>1</td>\n",
       "      <td>1</td>\n",
       "      <td>30</td>\n",
       "      <td>554.0</td>\n",
       "      <td>33105.0</td>\n",
       "      <td>1</td>\n",
       "      <td>1.0</td>\n",
       "      <td>12.0</td>\n",
       "    </tr>\n",
       "    <tr>\n",
       "      <th>2</th>\n",
       "      <td>7.0</td>\n",
       "      <td>49480.0</td>\n",
       "      <td>2.0</td>\n",
       "      <td>1.0</td>\n",
       "      <td>201</td>\n",
       "      <td>66202.0</td>\n",
       "      <td>267.0</td>\n",
       "      <td>251</td>\n",
       "      <td>14393</td>\n",
       "      <td>1.0</td>\n",
       "      <td>0</td>\n",
       "      <td>98.0</td>\n",
       "      <td>585.0</td>\n",
       "      <td>189533.0</td>\n",
       "      <td>2.0</td>\n",
       "      <td>2097.0</td>\n",
       "      <td>29820.0</td>\n",
       "      <td>28678.0</td>\n",
       "      <td>4096.0</td>\n",
       "      <td>13.9</td>\n",
       "      <td>1280.0</td>\n",
       "      <td>720.0</td>\n",
       "      <td>14393</td>\n",
       "      <td>2189</td>\n",
       "      <td>1</td>\n",
       "      <td>2</td>\n",
       "      <td>4</td>\n",
       "      <td>148</td>\n",
       "      <td>556.0</td>\n",
       "      <td>63396.0</td>\n",
       "      <td>1</td>\n",
       "      <td>1.0</td>\n",
       "      <td>11.0</td>\n",
       "    </tr>\n",
       "    <tr>\n",
       "      <th>3</th>\n",
       "      <td>7.0</td>\n",
       "      <td>42160.0</td>\n",
       "      <td>2.0</td>\n",
       "      <td>1.0</td>\n",
       "      <td>29</td>\n",
       "      <td>120917.0</td>\n",
       "      <td>35.0</td>\n",
       "      <td>171</td>\n",
       "      <td>16299</td>\n",
       "      <td>1.0</td>\n",
       "      <td>0</td>\n",
       "      <td>117.0</td>\n",
       "      <td>2668.0</td>\n",
       "      <td>171228.0</td>\n",
       "      <td>2.0</td>\n",
       "      <td>1985.0</td>\n",
       "      <td>476940.0</td>\n",
       "      <td>439345.0</td>\n",
       "      <td>4096.0</td>\n",
       "      <td>14.0</td>\n",
       "      <td>1366.0</td>\n",
       "      <td>768.0</td>\n",
       "      <td>16299</td>\n",
       "      <td>371</td>\n",
       "      <td>1</td>\n",
       "      <td>2</td>\n",
       "      <td>3</td>\n",
       "      <td>119</td>\n",
       "      <td>628.0</td>\n",
       "      <td>26320.0</td>\n",
       "      <td>1</td>\n",
       "      <td>0.0</td>\n",
       "      <td>10.0</td>\n",
       "    </tr>\n",
       "    <tr>\n",
       "      <th>4</th>\n",
       "      <td>7.0</td>\n",
       "      <td>53447.0</td>\n",
       "      <td>1.0</td>\n",
       "      <td>1.0</td>\n",
       "      <td>171</td>\n",
       "      <td>124736.0</td>\n",
       "      <td>211.0</td>\n",
       "      <td>182</td>\n",
       "      <td>16299</td>\n",
       "      <td>1.0</td>\n",
       "      <td>0</td>\n",
       "      <td>117.0</td>\n",
       "      <td>585.0</td>\n",
       "      <td>189538.0</td>\n",
       "      <td>4.0</td>\n",
       "      <td>3394.0</td>\n",
       "      <td>476940.0</td>\n",
       "      <td>461506.0</td>\n",
       "      <td>2048.0</td>\n",
       "      <td>15.5</td>\n",
       "      <td>1366.0</td>\n",
       "      <td>768.0</td>\n",
       "      <td>16299</td>\n",
       "      <td>371</td>\n",
       "      <td>1</td>\n",
       "      <td>2</td>\n",
       "      <td>2</td>\n",
       "      <td>125</td>\n",
       "      <td>556.0</td>\n",
       "      <td>63269.0</td>\n",
       "      <td>1</td>\n",
       "      <td>1.0</td>\n",
       "      <td>3.0</td>\n",
       "    </tr>\n",
       "  </tbody>\n",
       "</table>\n",
       "</div>"
      ],
      "text/plain": [
       "   RtpStateBitfield          ...            Wdft_RegionIdentifier\n",
       "0               7.0          ...                              7.0\n",
       "1               7.0          ...                             12.0\n",
       "2               7.0          ...                             11.0\n",
       "3               7.0          ...                             10.0\n",
       "4               7.0          ...                              3.0\n",
       "\n",
       "[5 rows x 33 columns]"
      ]
     },
     "execution_count": 88,
     "metadata": {},
     "output_type": "execute_result"
    }
   ],
   "source": [
    "data.head()"
   ]
  },
  {
   "cell_type": "code",
   "execution_count": 89,
   "metadata": {
    "_uuid": "56399ee626f11315a0f47cbd8fd2e26b1953f708"
   },
   "outputs": [
    {
     "data": {
      "text/plain": [
       "1.0    74739\n",
       "2.0    23214\n",
       "3.0     1950\n",
       "4.0       90\n",
       "5.0        7\n",
       "Name: AVProductsInstalled, dtype: int64"
      ]
     },
     "execution_count": 89,
     "metadata": {},
     "output_type": "execute_result"
    }
   ],
   "source": [
    "data.AVProductsInstalled.value_counts()"
   ]
  },
  {
   "cell_type": "code",
   "execution_count": 90,
   "metadata": {
    "_uuid": "263e910e1cc28a744697fcd82b0439f1cd95981f"
   },
   "outputs": [
    {
     "name": "stdout",
     "output_type": "stream",
     "text": [
      "0    99999\n",
      "1        1\n",
      "Name: AutoSampleOptIn, dtype: int64\n"
     ]
    }
   ],
   "source": [
    "print(data.AutoSampleOptIn.value_counts())\n",
    "data.drop(\"AutoSampleOptIn\",axis=1,inplace=True)"
   ]
  },
  {
   "cell_type": "code",
   "execution_count": 91,
   "metadata": {
    "_uuid": "a9dd8450b9b4fa007459236a37700698a6e6cdcf"
   },
   "outputs": [
    {
     "data": {
      "text/plain": [
       "(100000, 32)"
      ]
     },
     "execution_count": 91,
     "metadata": {},
     "output_type": "execute_result"
    }
   ],
   "source": [
    "data.shape"
   ]
  },
  {
   "cell_type": "code",
   "execution_count": 92,
   "metadata": {
    "_uuid": "4193e270418ff51859e097481d7bfc9f6e156ff0"
   },
   "outputs": [
    {
     "data": {
      "text/html": [
       "<div>\n",
       "<style scoped>\n",
       "    .dataframe tbody tr th:only-of-type {\n",
       "        vertical-align: middle;\n",
       "    }\n",
       "\n",
       "    .dataframe tbody tr th {\n",
       "        vertical-align: top;\n",
       "    }\n",
       "\n",
       "    .dataframe thead th {\n",
       "        text-align: right;\n",
       "    }\n",
       "</style>\n",
       "<table border=\"1\" class=\"dataframe\">\n",
       "  <thead>\n",
       "    <tr style=\"text-align: right;\">\n",
       "      <th></th>\n",
       "      <th>RtpStateBitfield</th>\n",
       "      <th>AVProductStatesIdentifier</th>\n",
       "      <th>AVProductsInstalled</th>\n",
       "      <th>AVProductsEnabled</th>\n",
       "      <th>CountryIdentifier</th>\n",
       "      <th>CityIdentifier</th>\n",
       "      <th>GeoNameIdentifier</th>\n",
       "      <th>LocaleEnglishNameIdentifier</th>\n",
       "      <th>OsBuild</th>\n",
       "      <th>IsProtected</th>\n",
       "      <th>IeVerIdentifier</th>\n",
       "      <th>Census_OEMNameIdentifier</th>\n",
       "      <th>Census_OEMModelIdentifier</th>\n",
       "      <th>Census_ProcessorCoreCount</th>\n",
       "      <th>Census_ProcessorModelIdentifier</th>\n",
       "      <th>Census_PrimaryDiskTotalCapacity</th>\n",
       "      <th>Census_SystemVolumeTotalCapacity</th>\n",
       "      <th>Census_TotalPhysicalRAM</th>\n",
       "      <th>Census_InternalPrimaryDiagonalDisplaySizeInInches</th>\n",
       "      <th>Census_InternalPrimaryDisplayResolutionHorizontal</th>\n",
       "      <th>Census_InternalPrimaryDisplayResolutionVertical</th>\n",
       "      <th>Census_OSBuildNumber</th>\n",
       "      <th>Census_OSBuildRevision</th>\n",
       "      <th>Census_OSEdition</th>\n",
       "      <th>Census_OSSkuName</th>\n",
       "      <th>Census_OSInstallTypeName</th>\n",
       "      <th>Census_OSUILocaleIdentifier</th>\n",
       "      <th>Census_FirmwareManufacturerIdentifier</th>\n",
       "      <th>Census_FirmwareVersionIdentifier</th>\n",
       "      <th>Census_IsSecureBootEnabled</th>\n",
       "      <th>Wdft_IsGamer</th>\n",
       "      <th>Wdft_RegionIdentifier</th>\n",
       "    </tr>\n",
       "  </thead>\n",
       "  <tbody>\n",
       "    <tr>\n",
       "      <th>0</th>\n",
       "      <td>7.0</td>\n",
       "      <td>53447.0</td>\n",
       "      <td>1.0</td>\n",
       "      <td>1.0</td>\n",
       "      <td>43</td>\n",
       "      <td>58552.0</td>\n",
       "      <td>53.0</td>\n",
       "      <td>42</td>\n",
       "      <td>15063</td>\n",
       "      <td>1.0</td>\n",
       "      <td>108.0</td>\n",
       "      <td>2689.0</td>\n",
       "      <td>30661.0</td>\n",
       "      <td>4.0</td>\n",
       "      <td>3063.0</td>\n",
       "      <td>488386.0</td>\n",
       "      <td>123179.0</td>\n",
       "      <td>8192.0</td>\n",
       "      <td>15.5</td>\n",
       "      <td>1920.0</td>\n",
       "      <td>1080.0</td>\n",
       "      <td>15063</td>\n",
       "      <td>1387</td>\n",
       "      <td>0</td>\n",
       "      <td>1</td>\n",
       "      <td>5</td>\n",
       "      <td>158</td>\n",
       "      <td>807.0</td>\n",
       "      <td>8554.0</td>\n",
       "      <td>1</td>\n",
       "      <td>0.0</td>\n",
       "      <td>7.0</td>\n",
       "    </tr>\n",
       "    <tr>\n",
       "      <th>1</th>\n",
       "      <td>7.0</td>\n",
       "      <td>53447.0</td>\n",
       "      <td>1.0</td>\n",
       "      <td>1.0</td>\n",
       "      <td>68</td>\n",
       "      <td>71395.0</td>\n",
       "      <td>276.0</td>\n",
       "      <td>74</td>\n",
       "      <td>16299</td>\n",
       "      <td>1.0</td>\n",
       "      <td>117.0</td>\n",
       "      <td>2206.0</td>\n",
       "      <td>242491.0</td>\n",
       "      <td>4.0</td>\n",
       "      <td>3410.0</td>\n",
       "      <td>1907729.0</td>\n",
       "      <td>1882352.0</td>\n",
       "      <td>8192.0</td>\n",
       "      <td>15.5</td>\n",
       "      <td>1366.0</td>\n",
       "      <td>768.0</td>\n",
       "      <td>16299</td>\n",
       "      <td>611</td>\n",
       "      <td>0</td>\n",
       "      <td>1</td>\n",
       "      <td>1</td>\n",
       "      <td>30</td>\n",
       "      <td>554.0</td>\n",
       "      <td>33105.0</td>\n",
       "      <td>1</td>\n",
       "      <td>1.0</td>\n",
       "      <td>12.0</td>\n",
       "    </tr>\n",
       "    <tr>\n",
       "      <th>2</th>\n",
       "      <td>7.0</td>\n",
       "      <td>49480.0</td>\n",
       "      <td>2.0</td>\n",
       "      <td>1.0</td>\n",
       "      <td>201</td>\n",
       "      <td>66202.0</td>\n",
       "      <td>267.0</td>\n",
       "      <td>251</td>\n",
       "      <td>14393</td>\n",
       "      <td>1.0</td>\n",
       "      <td>98.0</td>\n",
       "      <td>585.0</td>\n",
       "      <td>189533.0</td>\n",
       "      <td>2.0</td>\n",
       "      <td>2097.0</td>\n",
       "      <td>29820.0</td>\n",
       "      <td>28678.0</td>\n",
       "      <td>4096.0</td>\n",
       "      <td>13.9</td>\n",
       "      <td>1280.0</td>\n",
       "      <td>720.0</td>\n",
       "      <td>14393</td>\n",
       "      <td>2189</td>\n",
       "      <td>1</td>\n",
       "      <td>2</td>\n",
       "      <td>4</td>\n",
       "      <td>148</td>\n",
       "      <td>556.0</td>\n",
       "      <td>63396.0</td>\n",
       "      <td>1</td>\n",
       "      <td>1.0</td>\n",
       "      <td>11.0</td>\n",
       "    </tr>\n",
       "    <tr>\n",
       "      <th>3</th>\n",
       "      <td>7.0</td>\n",
       "      <td>42160.0</td>\n",
       "      <td>2.0</td>\n",
       "      <td>1.0</td>\n",
       "      <td>29</td>\n",
       "      <td>120917.0</td>\n",
       "      <td>35.0</td>\n",
       "      <td>171</td>\n",
       "      <td>16299</td>\n",
       "      <td>1.0</td>\n",
       "      <td>117.0</td>\n",
       "      <td>2668.0</td>\n",
       "      <td>171228.0</td>\n",
       "      <td>2.0</td>\n",
       "      <td>1985.0</td>\n",
       "      <td>476940.0</td>\n",
       "      <td>439345.0</td>\n",
       "      <td>4096.0</td>\n",
       "      <td>14.0</td>\n",
       "      <td>1366.0</td>\n",
       "      <td>768.0</td>\n",
       "      <td>16299</td>\n",
       "      <td>371</td>\n",
       "      <td>1</td>\n",
       "      <td>2</td>\n",
       "      <td>3</td>\n",
       "      <td>119</td>\n",
       "      <td>628.0</td>\n",
       "      <td>26320.0</td>\n",
       "      <td>1</td>\n",
       "      <td>0.0</td>\n",
       "      <td>10.0</td>\n",
       "    </tr>\n",
       "    <tr>\n",
       "      <th>4</th>\n",
       "      <td>7.0</td>\n",
       "      <td>53447.0</td>\n",
       "      <td>1.0</td>\n",
       "      <td>1.0</td>\n",
       "      <td>171</td>\n",
       "      <td>124736.0</td>\n",
       "      <td>211.0</td>\n",
       "      <td>182</td>\n",
       "      <td>16299</td>\n",
       "      <td>1.0</td>\n",
       "      <td>117.0</td>\n",
       "      <td>585.0</td>\n",
       "      <td>189538.0</td>\n",
       "      <td>4.0</td>\n",
       "      <td>3394.0</td>\n",
       "      <td>476940.0</td>\n",
       "      <td>461506.0</td>\n",
       "      <td>2048.0</td>\n",
       "      <td>15.5</td>\n",
       "      <td>1366.0</td>\n",
       "      <td>768.0</td>\n",
       "      <td>16299</td>\n",
       "      <td>371</td>\n",
       "      <td>1</td>\n",
       "      <td>2</td>\n",
       "      <td>2</td>\n",
       "      <td>125</td>\n",
       "      <td>556.0</td>\n",
       "      <td>63269.0</td>\n",
       "      <td>1</td>\n",
       "      <td>1.0</td>\n",
       "      <td>3.0</td>\n",
       "    </tr>\n",
       "  </tbody>\n",
       "</table>\n",
       "</div>"
      ],
      "text/plain": [
       "   RtpStateBitfield          ...            Wdft_RegionIdentifier\n",
       "0               7.0          ...                              7.0\n",
       "1               7.0          ...                             12.0\n",
       "2               7.0          ...                             11.0\n",
       "3               7.0          ...                             10.0\n",
       "4               7.0          ...                              3.0\n",
       "\n",
       "[5 rows x 32 columns]"
      ]
     },
     "execution_count": 92,
     "metadata": {},
     "output_type": "execute_result"
    }
   ],
   "source": [
    "data.head()"
   ]
  },
  {
   "cell_type": "markdown",
   "metadata": {
    "_uuid": "aa1fb653cd439033ac915973698de4c560830801"
   },
   "source": [
    "**APPLYING SMOTE FOR PROCESSING DATASET**"
   ]
  },
  {
   "cell_type": "code",
   "execution_count": 93,
   "metadata": {
    "_uuid": "4b6f73488dcbd140734a20c0fa2b85c4b5c1abcb"
   },
   "outputs": [],
   "source": [
    "smt=SMOTE()"
   ]
  },
  {
   "cell_type": "code",
   "execution_count": 94,
   "metadata": {
    "_uuid": "23469174b3064c2faed5291a972456e5e592b79b"
   },
   "outputs": [],
   "source": [
    "train_X=data.drop(\"IsProtected\",axis=1)"
   ]
  },
  {
   "cell_type": "code",
   "execution_count": 95,
   "metadata": {
    "_uuid": "02a2719222e6ac15721ed156d2ad13c363f23c24"
   },
   "outputs": [],
   "source": [
    "train_y=data[\"IsProtected\"]"
   ]
  },
  {
   "cell_type": "code",
   "execution_count": 96,
   "metadata": {
    "_uuid": "e3e652406742909bd5eb6bbfe377f8091af70e98"
   },
   "outputs": [
    {
     "data": {
      "text/plain": [
       "(100000, 31)"
      ]
     },
     "execution_count": 96,
     "metadata": {},
     "output_type": "execute_result"
    }
   ],
   "source": [
    "train_X.shape"
   ]
  },
  {
   "cell_type": "code",
   "execution_count": 97,
   "metadata": {
    "_uuid": "56309c7072ecd9c30d24673bd569706f4c5c133a"
   },
   "outputs": [],
   "source": [
    "X_train,y_train=smt.fit_sample(train_X,train_y)"
   ]
  },
  {
   "cell_type": "code",
   "execution_count": 98,
   "metadata": {
    "_uuid": "af96cd6684a7d086fdd6112ea70bcb55893bc4e3"
   },
   "outputs": [
    {
     "data": {
      "text/plain": [
       "(189088, 31)"
      ]
     },
     "execution_count": 98,
     "metadata": {},
     "output_type": "execute_result"
    }
   ],
   "source": [
    "X_train.shape"
   ]
  },
  {
   "cell_type": "code",
   "execution_count": 99,
   "metadata": {
    "_uuid": "c54f924d16290e4f839bb67c816e921acf7f9bdc"
   },
   "outputs": [
    {
     "data": {
      "text/plain": [
       "(189088,)"
      ]
     },
     "execution_count": 99,
     "metadata": {},
     "output_type": "execute_result"
    }
   ],
   "source": [
    "y_train.shape"
   ]
  },
  {
   "cell_type": "code",
   "execution_count": 100,
   "metadata": {
    "_uuid": "454a367c4decbe2013da267e171debbaa4aa00f3"
   },
   "outputs": [],
   "source": [
    "from sklearn.preprocessing import StandardScaler\n",
    "sc=StandardScaler()"
   ]
  },
  {
   "cell_type": "code",
   "execution_count": 101,
   "metadata": {
    "_uuid": "dc5ca62548ee5de5f751d9701f90b492e60c9adf"
   },
   "outputs": [],
   "source": [
    "x_train=sc.fit_transform(X_train)"
   ]
  },
  {
   "cell_type": "code",
   "execution_count": 102,
   "metadata": {
    "_uuid": "4978915fecd1fd8e7eed904db9a09002cd8d9289"
   },
   "outputs": [],
   "source": [
    "pc=PCA(n_components=3)"
   ]
  },
  {
   "cell_type": "code",
   "execution_count": 103,
   "metadata": {
    "_uuid": "368e2864a2c4ce657cb0e1b088d6b97b4a9f771c"
   },
   "outputs": [],
   "source": [
    "x_train_pro=pc.fit_transform(x_train)"
   ]
  },
  {
   "cell_type": "code",
   "execution_count": 104,
   "metadata": {
    "_uuid": "86e4f6d582d5c94eb7e4f23b1c1ebce4dd3840e0"
   },
   "outputs": [
    {
     "name": "stdout",
     "output_type": "stream",
     "text": [
      "(189088, 3)\n",
      "(189088,)\n"
     ]
    }
   ],
   "source": [
    "print(x_train_pro.shape)\n",
    "print(y_train.shape)"
   ]
  },
  {
   "cell_type": "markdown",
   "metadata": {
    "_uuid": "4d17d41953c57f7b105e71007b8a0ee7d91e0f9b"
   },
   "source": [
    "*Preparing test dataset*"
   ]
  },
  {
   "cell_type": "code",
   "execution_count": 105,
   "metadata": {
    "_uuid": "c1b8b57ea1a1ad42f21e9d3372ab23fa6fadad9e"
   },
   "outputs": [
    {
     "data": {
      "text/plain": [
       "(100000, 82)"
      ]
     },
     "execution_count": 105,
     "metadata": {},
     "output_type": "execute_result"
    }
   ],
   "source": [
    "test_data.shape"
   ]
  },
  {
   "cell_type": "code",
   "execution_count": 106,
   "metadata": {
    "_uuid": "bf90faecda99c868dc6264647a03e376e4460b0d"
   },
   "outputs": [],
   "source": [
    "coll=[]\n",
    "for x in data.columns:\n",
    "    coll.append(str(x))"
   ]
  },
  {
   "cell_type": "code",
   "execution_count": 107,
   "metadata": {
    "_uuid": "3e5f0e2419652ff676d3c5b55441c04b42f2d5f4"
   },
   "outputs": [],
   "source": [
    "test_data=test_data[coll]"
   ]
  },
  {
   "cell_type": "code",
   "execution_count": 108,
   "metadata": {
    "_uuid": "72da1c26debd51f373bf0547a63db77c366f41a4"
   },
   "outputs": [
    {
     "data": {
      "text/html": [
       "<div>\n",
       "<style scoped>\n",
       "    .dataframe tbody tr th:only-of-type {\n",
       "        vertical-align: middle;\n",
       "    }\n",
       "\n",
       "    .dataframe tbody tr th {\n",
       "        vertical-align: top;\n",
       "    }\n",
       "\n",
       "    .dataframe thead th {\n",
       "        text-align: right;\n",
       "    }\n",
       "</style>\n",
       "<table border=\"1\" class=\"dataframe\">\n",
       "  <thead>\n",
       "    <tr style=\"text-align: right;\">\n",
       "      <th></th>\n",
       "      <th>RtpStateBitfield</th>\n",
       "      <th>AVProductStatesIdentifier</th>\n",
       "      <th>AVProductsInstalled</th>\n",
       "      <th>AVProductsEnabled</th>\n",
       "      <th>CountryIdentifier</th>\n",
       "      <th>CityIdentifier</th>\n",
       "      <th>GeoNameIdentifier</th>\n",
       "      <th>LocaleEnglishNameIdentifier</th>\n",
       "      <th>OsBuild</th>\n",
       "      <th>IsProtected</th>\n",
       "      <th>IeVerIdentifier</th>\n",
       "      <th>Census_OEMNameIdentifier</th>\n",
       "      <th>Census_OEMModelIdentifier</th>\n",
       "      <th>Census_ProcessorCoreCount</th>\n",
       "      <th>Census_ProcessorModelIdentifier</th>\n",
       "      <th>Census_PrimaryDiskTotalCapacity</th>\n",
       "      <th>Census_SystemVolumeTotalCapacity</th>\n",
       "      <th>Census_TotalPhysicalRAM</th>\n",
       "      <th>Census_InternalPrimaryDiagonalDisplaySizeInInches</th>\n",
       "      <th>Census_InternalPrimaryDisplayResolutionHorizontal</th>\n",
       "      <th>Census_InternalPrimaryDisplayResolutionVertical</th>\n",
       "      <th>Census_OSBuildNumber</th>\n",
       "      <th>Census_OSBuildRevision</th>\n",
       "      <th>Census_OSEdition</th>\n",
       "      <th>Census_OSSkuName</th>\n",
       "      <th>Census_OSInstallTypeName</th>\n",
       "      <th>Census_OSUILocaleIdentifier</th>\n",
       "      <th>Census_FirmwareManufacturerIdentifier</th>\n",
       "      <th>Census_FirmwareVersionIdentifier</th>\n",
       "      <th>Census_IsSecureBootEnabled</th>\n",
       "      <th>Wdft_IsGamer</th>\n",
       "      <th>Wdft_RegionIdentifier</th>\n",
       "    </tr>\n",
       "  </thead>\n",
       "  <tbody>\n",
       "    <tr>\n",
       "      <th>0</th>\n",
       "      <td>7.0</td>\n",
       "      <td>53447.0</td>\n",
       "      <td>1.0</td>\n",
       "      <td>1.0</td>\n",
       "      <td>43</td>\n",
       "      <td>58552.0</td>\n",
       "      <td>53.0</td>\n",
       "      <td>42</td>\n",
       "      <td>15063</td>\n",
       "      <td>1.0</td>\n",
       "      <td>108.0</td>\n",
       "      <td>2689.0</td>\n",
       "      <td>30661.0</td>\n",
       "      <td>4.0</td>\n",
       "      <td>3063.0</td>\n",
       "      <td>488386.0</td>\n",
       "      <td>123179.0</td>\n",
       "      <td>8192.0</td>\n",
       "      <td>15.5</td>\n",
       "      <td>1920.0</td>\n",
       "      <td>1080.0</td>\n",
       "      <td>15063</td>\n",
       "      <td>1387</td>\n",
       "      <td>Core</td>\n",
       "      <td>CORE</td>\n",
       "      <td>Reset</td>\n",
       "      <td>158</td>\n",
       "      <td>807.0</td>\n",
       "      <td>8554.0</td>\n",
       "      <td>1</td>\n",
       "      <td>0.0</td>\n",
       "      <td>7.0</td>\n",
       "    </tr>\n",
       "    <tr>\n",
       "      <th>1</th>\n",
       "      <td>7.0</td>\n",
       "      <td>53447.0</td>\n",
       "      <td>1.0</td>\n",
       "      <td>1.0</td>\n",
       "      <td>68</td>\n",
       "      <td>71395.0</td>\n",
       "      <td>276.0</td>\n",
       "      <td>74</td>\n",
       "      <td>16299</td>\n",
       "      <td>1.0</td>\n",
       "      <td>117.0</td>\n",
       "      <td>2206.0</td>\n",
       "      <td>242491.0</td>\n",
       "      <td>4.0</td>\n",
       "      <td>3410.0</td>\n",
       "      <td>1907729.0</td>\n",
       "      <td>1882352.0</td>\n",
       "      <td>8192.0</td>\n",
       "      <td>15.5</td>\n",
       "      <td>1366.0</td>\n",
       "      <td>768.0</td>\n",
       "      <td>16299</td>\n",
       "      <td>611</td>\n",
       "      <td>Core</td>\n",
       "      <td>CORE</td>\n",
       "      <td>UUPUpgrade</td>\n",
       "      <td>30</td>\n",
       "      <td>554.0</td>\n",
       "      <td>33105.0</td>\n",
       "      <td>1</td>\n",
       "      <td>1.0</td>\n",
       "      <td>12.0</td>\n",
       "    </tr>\n",
       "    <tr>\n",
       "      <th>2</th>\n",
       "      <td>7.0</td>\n",
       "      <td>49480.0</td>\n",
       "      <td>2.0</td>\n",
       "      <td>1.0</td>\n",
       "      <td>201</td>\n",
       "      <td>66202.0</td>\n",
       "      <td>267.0</td>\n",
       "      <td>251</td>\n",
       "      <td>14393</td>\n",
       "      <td>1.0</td>\n",
       "      <td>98.0</td>\n",
       "      <td>585.0</td>\n",
       "      <td>189533.0</td>\n",
       "      <td>2.0</td>\n",
       "      <td>2097.0</td>\n",
       "      <td>29820.0</td>\n",
       "      <td>28678.0</td>\n",
       "      <td>4096.0</td>\n",
       "      <td>13.9</td>\n",
       "      <td>1280.0</td>\n",
       "      <td>720.0</td>\n",
       "      <td>14393</td>\n",
       "      <td>2189</td>\n",
       "      <td>CoreSingleLanguage</td>\n",
       "      <td>CORE_SINGLELANGUAGE</td>\n",
       "      <td>Other</td>\n",
       "      <td>148</td>\n",
       "      <td>556.0</td>\n",
       "      <td>63396.0</td>\n",
       "      <td>1</td>\n",
       "      <td>1.0</td>\n",
       "      <td>11.0</td>\n",
       "    </tr>\n",
       "    <tr>\n",
       "      <th>3</th>\n",
       "      <td>7.0</td>\n",
       "      <td>42160.0</td>\n",
       "      <td>2.0</td>\n",
       "      <td>1.0</td>\n",
       "      <td>29</td>\n",
       "      <td>120917.0</td>\n",
       "      <td>35.0</td>\n",
       "      <td>171</td>\n",
       "      <td>16299</td>\n",
       "      <td>1.0</td>\n",
       "      <td>117.0</td>\n",
       "      <td>2668.0</td>\n",
       "      <td>171228.0</td>\n",
       "      <td>2.0</td>\n",
       "      <td>1985.0</td>\n",
       "      <td>476940.0</td>\n",
       "      <td>439345.0</td>\n",
       "      <td>4096.0</td>\n",
       "      <td>14.0</td>\n",
       "      <td>1366.0</td>\n",
       "      <td>768.0</td>\n",
       "      <td>16299</td>\n",
       "      <td>371</td>\n",
       "      <td>CoreSingleLanguage</td>\n",
       "      <td>CORE_SINGLELANGUAGE</td>\n",
       "      <td>Upgrade</td>\n",
       "      <td>119</td>\n",
       "      <td>628.0</td>\n",
       "      <td>26320.0</td>\n",
       "      <td>1</td>\n",
       "      <td>0.0</td>\n",
       "      <td>10.0</td>\n",
       "    </tr>\n",
       "    <tr>\n",
       "      <th>4</th>\n",
       "      <td>7.0</td>\n",
       "      <td>53447.0</td>\n",
       "      <td>1.0</td>\n",
       "      <td>1.0</td>\n",
       "      <td>171</td>\n",
       "      <td>124736.0</td>\n",
       "      <td>211.0</td>\n",
       "      <td>182</td>\n",
       "      <td>16299</td>\n",
       "      <td>1.0</td>\n",
       "      <td>117.0</td>\n",
       "      <td>585.0</td>\n",
       "      <td>189538.0</td>\n",
       "      <td>4.0</td>\n",
       "      <td>3394.0</td>\n",
       "      <td>476940.0</td>\n",
       "      <td>461506.0</td>\n",
       "      <td>2048.0</td>\n",
       "      <td>15.5</td>\n",
       "      <td>1366.0</td>\n",
       "      <td>768.0</td>\n",
       "      <td>16299</td>\n",
       "      <td>371</td>\n",
       "      <td>CoreSingleLanguage</td>\n",
       "      <td>CORE_SINGLELANGUAGE</td>\n",
       "      <td>Update</td>\n",
       "      <td>125</td>\n",
       "      <td>556.0</td>\n",
       "      <td>63269.0</td>\n",
       "      <td>1</td>\n",
       "      <td>1.0</td>\n",
       "      <td>3.0</td>\n",
       "    </tr>\n",
       "  </tbody>\n",
       "</table>\n",
       "</div>"
      ],
      "text/plain": [
       "   RtpStateBitfield          ...            Wdft_RegionIdentifier\n",
       "0               7.0          ...                              7.0\n",
       "1               7.0          ...                             12.0\n",
       "2               7.0          ...                             11.0\n",
       "3               7.0          ...                             10.0\n",
       "4               7.0          ...                              3.0\n",
       "\n",
       "[5 rows x 32 columns]"
      ]
     },
     "execution_count": 108,
     "metadata": {},
     "output_type": "execute_result"
    }
   ],
   "source": [
    "test_data.head()"
   ]
  },
  {
   "cell_type": "code",
   "execution_count": 109,
   "metadata": {
    "_uuid": "ad0da8f94a517e43e3a89f0ef79f9c1414858e45"
   },
   "outputs": [
    {
     "name": "stdout",
     "output_type": "stream",
     "text": [
      "RtpStateBitfield                                     0.443\n",
      "AVProductStatesIdentifier                            0.310\n",
      "AVProductsInstalled                                  0.310\n",
      "AVProductsEnabled                                    0.310\n",
      "CountryIdentifier                                    0.000\n",
      "CityIdentifier                                       2.451\n",
      "GeoNameIdentifier                                    0.001\n",
      "LocaleEnglishNameIdentifier                          0.000\n",
      "OsBuild                                              0.000\n",
      "IsProtected                                          0.309\n",
      "IeVerIdentifier                                      0.650\n",
      "Census_OEMNameIdentifier                             1.150\n",
      "Census_OEMModelIdentifier                            1.223\n",
      "Census_ProcessorCoreCount                            0.818\n",
      "Census_ProcessorModelIdentifier                      0.819\n",
      "Census_PrimaryDiskTotalCapacity                      0.992\n",
      "Census_SystemVolumeTotalCapacity                     0.992\n",
      "Census_TotalPhysicalRAM                              1.230\n",
      "Census_InternalPrimaryDiagonalDisplaySizeInInches    0.567\n",
      "Census_InternalPrimaryDisplayResolutionHorizontal    0.566\n",
      "Census_InternalPrimaryDisplayResolutionVertical      0.566\n",
      "Census_OSBuildNumber                                 0.000\n",
      "Census_OSBuildRevision                               0.000\n",
      "Census_OSEdition                                     0.000\n",
      "Census_OSSkuName                                     0.000\n",
      "Census_OSInstallTypeName                             0.000\n",
      "Census_OSUILocaleIdentifier                          0.000\n",
      "Census_FirmwareManufacturerIdentifier                2.532\n",
      "Census_FirmwareVersionIdentifier                     2.279\n",
      "Census_IsSecureBootEnabled                           0.000\n",
      "Wdft_IsGamer                                         3.874\n",
      "Wdft_RegionIdentifier                                3.874\n",
      "dtype: float64\n"
     ]
    },
    {
     "data": {
      "text/plain": [
       "[]"
      ]
     },
     "execution_count": 109,
     "metadata": {},
     "output_type": "execute_result"
    }
   ],
   "source": [
    "percent(test_data)"
   ]
  },
  {
   "cell_type": "code",
   "execution_count": 110,
   "metadata": {
    "_uuid": "38826d15842d1562e115f63afe4edfefef5d3772"
   },
   "outputs": [],
   "source": [
    "test_data=test_data.fillna(method=\"ffill\")"
   ]
  },
  {
   "cell_type": "code",
   "execution_count": 111,
   "metadata": {
    "_uuid": "3343cb58584698d5d46c4bc5a2749cd07e3320c8"
   },
   "outputs": [],
   "source": [
    "#test_data.Census_OSInstallTypeName=test_data.Census_OSInstallTypeName.map({\"IBSClean\":0,\"UUPUpgrade\":1,\"Update\":2,\"Upgrade\":3,\"Other\":4,\"Reset\":5,\"Refresh\":6,\"Clean\":7,\"CleanPCRefresh\":8})"
   ]
  },
  {
   "cell_type": "code",
   "execution_count": 112,
   "metadata": {
    "_uuid": "6de30ee833842374ec5d4447c1de5c84d6a7e6a3"
   },
   "outputs": [],
   "source": [
    "#test_data.Census_OSSkuName=test_data.Census_OSSkuName.map({\"PROFESSIONAL\":0,\"CORE\":1,\"CORE_SINGLELANGUAGE\":2,\"CORE_COUNTRYSPECIFIC\":3,\"ENTERPRISE\":4,\"EDUCATION\":5,\"PROFESSIONAL_N\":6,\"ENTERPRISE_S\":7,\"STANDARD_SERVER\":8,\"CORE_N\":9,\"CLOUD\":10,\"STANDARD_EVALUATION_SERVER\":11,\"EDUCATION_N\":12,\"SB_SOLUTION_SERVER\":13,\"ENTERPRISE_S_N\":14,\"ENTERPRISE_N\":15,\"DATACENTER_EVALUATION_SERVER\":16,\"PRO_WORKSTATION\":17})     "
   ]
  },
  {
   "cell_type": "code",
   "execution_count": 113,
   "metadata": {
    "_uuid": "9b653d6764f7454226d672fea835aec646abf6fd"
   },
   "outputs": [
    {
     "data": {
      "text/html": [
       "<div>\n",
       "<style scoped>\n",
       "    .dataframe tbody tr th:only-of-type {\n",
       "        vertical-align: middle;\n",
       "    }\n",
       "\n",
       "    .dataframe tbody tr th {\n",
       "        vertical-align: top;\n",
       "    }\n",
       "\n",
       "    .dataframe thead th {\n",
       "        text-align: right;\n",
       "    }\n",
       "</style>\n",
       "<table border=\"1\" class=\"dataframe\">\n",
       "  <thead>\n",
       "    <tr style=\"text-align: right;\">\n",
       "      <th></th>\n",
       "      <th>RtpStateBitfield</th>\n",
       "      <th>AVProductStatesIdentifier</th>\n",
       "      <th>AVProductsInstalled</th>\n",
       "      <th>AVProductsEnabled</th>\n",
       "      <th>CountryIdentifier</th>\n",
       "      <th>CityIdentifier</th>\n",
       "      <th>GeoNameIdentifier</th>\n",
       "      <th>LocaleEnglishNameIdentifier</th>\n",
       "      <th>OsBuild</th>\n",
       "      <th>IsProtected</th>\n",
       "      <th>IeVerIdentifier</th>\n",
       "      <th>Census_OEMNameIdentifier</th>\n",
       "      <th>Census_OEMModelIdentifier</th>\n",
       "      <th>Census_ProcessorCoreCount</th>\n",
       "      <th>Census_ProcessorModelIdentifier</th>\n",
       "      <th>Census_PrimaryDiskTotalCapacity</th>\n",
       "      <th>Census_SystemVolumeTotalCapacity</th>\n",
       "      <th>Census_TotalPhysicalRAM</th>\n",
       "      <th>Census_InternalPrimaryDiagonalDisplaySizeInInches</th>\n",
       "      <th>Census_InternalPrimaryDisplayResolutionHorizontal</th>\n",
       "      <th>Census_InternalPrimaryDisplayResolutionVertical</th>\n",
       "      <th>Census_OSBuildNumber</th>\n",
       "      <th>Census_OSBuildRevision</th>\n",
       "      <th>Census_OSEdition</th>\n",
       "      <th>Census_OSSkuName</th>\n",
       "      <th>Census_OSInstallTypeName</th>\n",
       "      <th>Census_OSUILocaleIdentifier</th>\n",
       "      <th>Census_FirmwareManufacturerIdentifier</th>\n",
       "      <th>Census_FirmwareVersionIdentifier</th>\n",
       "      <th>Census_IsSecureBootEnabled</th>\n",
       "      <th>Wdft_IsGamer</th>\n",
       "      <th>Wdft_RegionIdentifier</th>\n",
       "    </tr>\n",
       "  </thead>\n",
       "  <tbody>\n",
       "    <tr>\n",
       "      <th>0</th>\n",
       "      <td>7.0</td>\n",
       "      <td>53447.0</td>\n",
       "      <td>1.0</td>\n",
       "      <td>1.0</td>\n",
       "      <td>43</td>\n",
       "      <td>58552.0</td>\n",
       "      <td>53.0</td>\n",
       "      <td>42</td>\n",
       "      <td>15063</td>\n",
       "      <td>1.0</td>\n",
       "      <td>108.0</td>\n",
       "      <td>2689.0</td>\n",
       "      <td>30661.0</td>\n",
       "      <td>4.0</td>\n",
       "      <td>3063.0</td>\n",
       "      <td>488386.0</td>\n",
       "      <td>123179.0</td>\n",
       "      <td>8192.0</td>\n",
       "      <td>15.5</td>\n",
       "      <td>1920.0</td>\n",
       "      <td>1080.0</td>\n",
       "      <td>15063</td>\n",
       "      <td>1387</td>\n",
       "      <td>Core</td>\n",
       "      <td>CORE</td>\n",
       "      <td>Reset</td>\n",
       "      <td>158</td>\n",
       "      <td>807.0</td>\n",
       "      <td>8554.0</td>\n",
       "      <td>1</td>\n",
       "      <td>0.0</td>\n",
       "      <td>7.0</td>\n",
       "    </tr>\n",
       "    <tr>\n",
       "      <th>1</th>\n",
       "      <td>7.0</td>\n",
       "      <td>53447.0</td>\n",
       "      <td>1.0</td>\n",
       "      <td>1.0</td>\n",
       "      <td>68</td>\n",
       "      <td>71395.0</td>\n",
       "      <td>276.0</td>\n",
       "      <td>74</td>\n",
       "      <td>16299</td>\n",
       "      <td>1.0</td>\n",
       "      <td>117.0</td>\n",
       "      <td>2206.0</td>\n",
       "      <td>242491.0</td>\n",
       "      <td>4.0</td>\n",
       "      <td>3410.0</td>\n",
       "      <td>1907729.0</td>\n",
       "      <td>1882352.0</td>\n",
       "      <td>8192.0</td>\n",
       "      <td>15.5</td>\n",
       "      <td>1366.0</td>\n",
       "      <td>768.0</td>\n",
       "      <td>16299</td>\n",
       "      <td>611</td>\n",
       "      <td>Core</td>\n",
       "      <td>CORE</td>\n",
       "      <td>UUPUpgrade</td>\n",
       "      <td>30</td>\n",
       "      <td>554.0</td>\n",
       "      <td>33105.0</td>\n",
       "      <td>1</td>\n",
       "      <td>1.0</td>\n",
       "      <td>12.0</td>\n",
       "    </tr>\n",
       "    <tr>\n",
       "      <th>2</th>\n",
       "      <td>7.0</td>\n",
       "      <td>49480.0</td>\n",
       "      <td>2.0</td>\n",
       "      <td>1.0</td>\n",
       "      <td>201</td>\n",
       "      <td>66202.0</td>\n",
       "      <td>267.0</td>\n",
       "      <td>251</td>\n",
       "      <td>14393</td>\n",
       "      <td>1.0</td>\n",
       "      <td>98.0</td>\n",
       "      <td>585.0</td>\n",
       "      <td>189533.0</td>\n",
       "      <td>2.0</td>\n",
       "      <td>2097.0</td>\n",
       "      <td>29820.0</td>\n",
       "      <td>28678.0</td>\n",
       "      <td>4096.0</td>\n",
       "      <td>13.9</td>\n",
       "      <td>1280.0</td>\n",
       "      <td>720.0</td>\n",
       "      <td>14393</td>\n",
       "      <td>2189</td>\n",
       "      <td>CoreSingleLanguage</td>\n",
       "      <td>CORE_SINGLELANGUAGE</td>\n",
       "      <td>Other</td>\n",
       "      <td>148</td>\n",
       "      <td>556.0</td>\n",
       "      <td>63396.0</td>\n",
       "      <td>1</td>\n",
       "      <td>1.0</td>\n",
       "      <td>11.0</td>\n",
       "    </tr>\n",
       "    <tr>\n",
       "      <th>3</th>\n",
       "      <td>7.0</td>\n",
       "      <td>42160.0</td>\n",
       "      <td>2.0</td>\n",
       "      <td>1.0</td>\n",
       "      <td>29</td>\n",
       "      <td>120917.0</td>\n",
       "      <td>35.0</td>\n",
       "      <td>171</td>\n",
       "      <td>16299</td>\n",
       "      <td>1.0</td>\n",
       "      <td>117.0</td>\n",
       "      <td>2668.0</td>\n",
       "      <td>171228.0</td>\n",
       "      <td>2.0</td>\n",
       "      <td>1985.0</td>\n",
       "      <td>476940.0</td>\n",
       "      <td>439345.0</td>\n",
       "      <td>4096.0</td>\n",
       "      <td>14.0</td>\n",
       "      <td>1366.0</td>\n",
       "      <td>768.0</td>\n",
       "      <td>16299</td>\n",
       "      <td>371</td>\n",
       "      <td>CoreSingleLanguage</td>\n",
       "      <td>CORE_SINGLELANGUAGE</td>\n",
       "      <td>Upgrade</td>\n",
       "      <td>119</td>\n",
       "      <td>628.0</td>\n",
       "      <td>26320.0</td>\n",
       "      <td>1</td>\n",
       "      <td>0.0</td>\n",
       "      <td>10.0</td>\n",
       "    </tr>\n",
       "    <tr>\n",
       "      <th>4</th>\n",
       "      <td>7.0</td>\n",
       "      <td>53447.0</td>\n",
       "      <td>1.0</td>\n",
       "      <td>1.0</td>\n",
       "      <td>171</td>\n",
       "      <td>124736.0</td>\n",
       "      <td>211.0</td>\n",
       "      <td>182</td>\n",
       "      <td>16299</td>\n",
       "      <td>1.0</td>\n",
       "      <td>117.0</td>\n",
       "      <td>585.0</td>\n",
       "      <td>189538.0</td>\n",
       "      <td>4.0</td>\n",
       "      <td>3394.0</td>\n",
       "      <td>476940.0</td>\n",
       "      <td>461506.0</td>\n",
       "      <td>2048.0</td>\n",
       "      <td>15.5</td>\n",
       "      <td>1366.0</td>\n",
       "      <td>768.0</td>\n",
       "      <td>16299</td>\n",
       "      <td>371</td>\n",
       "      <td>CoreSingleLanguage</td>\n",
       "      <td>CORE_SINGLELANGUAGE</td>\n",
       "      <td>Update</td>\n",
       "      <td>125</td>\n",
       "      <td>556.0</td>\n",
       "      <td>63269.0</td>\n",
       "      <td>1</td>\n",
       "      <td>1.0</td>\n",
       "      <td>3.0</td>\n",
       "    </tr>\n",
       "  </tbody>\n",
       "</table>\n",
       "</div>"
      ],
      "text/plain": [
       "   RtpStateBitfield          ...            Wdft_RegionIdentifier\n",
       "0               7.0          ...                              7.0\n",
       "1               7.0          ...                             12.0\n",
       "2               7.0          ...                             11.0\n",
       "3               7.0          ...                             10.0\n",
       "4               7.0          ...                              3.0\n",
       "\n",
       "[5 rows x 32 columns]"
      ]
     },
     "execution_count": 113,
     "metadata": {},
     "output_type": "execute_result"
    }
   ],
   "source": [
    "test_data.head()"
   ]
  },
  {
   "cell_type": "code",
   "execution_count": 114,
   "metadata": {
    "_uuid": "687279880021a8e79df220b132575cbdc382a908"
   },
   "outputs": [
    {
     "data": {
      "text/plain": [
       "PROFESSIONAL                    40259\n",
       "CORE                            35301\n",
       "CORE_SINGLELANGUAGE             20355\n",
       "CORE_COUNTRYSPECIFIC             2244\n",
       "ENTERPRISE                        445\n",
       "EDUCATION                         443\n",
       "PROFESSIONAL_N                    414\n",
       "ENTERPRISE_S                      239\n",
       "STANDARD_SERVER                   110\n",
       "CORE_N                             61\n",
       "CLOUD                              56\n",
       "STANDARD_EVALUATION_SERVER         26\n",
       "EDUCATION_N                        12\n",
       "SB_SOLUTION_SERVER                 12\n",
       "ENTERPRISE_S_N                     11\n",
       "ENTERPRISE_N                        6\n",
       "DATACENTER_EVALUATION_SERVER        5\n",
       "PRO_WORKSTATION                     1\n",
       "Name: Census_OSSkuName, dtype: int64"
      ]
     },
     "execution_count": 114,
     "metadata": {},
     "output_type": "execute_result"
    }
   ],
   "source": [
    "test_data.Census_OSSkuName.value_counts()"
   ]
  },
  {
   "cell_type": "code",
   "execution_count": 115,
   "metadata": {
    "_uuid": "0a3f8a98e13975ab66311b08c327a8af71cb1368"
   },
   "outputs": [],
   "source": [
    "test_data.Census_OSSkuName=test_data.Census_OSSkuName.map({\"PROFESSIONAL\":0,\"CORE\":1,\"CORE_SINGLELANGUAGE\":2,\"CORE_COUNTRYSPECIFIC\":3,\"ENTERPRISE\":4,\"EDUCATION\":5,\"PROFESSIONAL_N\":6,\"ENTERPRISE_S\":7,\"STANDARD_SERVER\":8,\"CORE_N\":9,\"CLOUD\":10,\"STANDARD_EVALUATION_SERVER\":11,\"SB_SOLUTION_SERVER\":13,\"ENTERPRISE_S_N\":14,\"ENTERPRISE_N\":15,\"DATACENTER_EVALUATION_SERVER\":16,\"PRO_WORKSTATION\":17})     "
   ]
  },
  {
   "cell_type": "code",
   "execution_count": 116,
   "metadata": {
    "_uuid": "aab298483c73590552e5e1a11654039448d2d18b"
   },
   "outputs": [
    {
     "data": {
      "text/plain": [
       "Professional               39520\n",
       "Core                       35301\n",
       "CoreSingleLanguage         20359\n",
       "CoreCountrySpecific         2245\n",
       "ProfessionalEducation        730\n",
       "Enterprise                   448\n",
       "Education                    442\n",
       "ProfessionalN                412\n",
       "EnterpriseS                  239\n",
       "ServerStandard               110\n",
       "CoreN                         61\n",
       "Cloud                         59\n",
       "ServerStandardEval            26\n",
       "ServerSolution                12\n",
       "EducationN                    12\n",
       "EnterpriseSN                  11\n",
       "ServerDatacenterEval           5\n",
       "EnterpriseN                    5\n",
       "ProfessionalEducationN         2\n",
       "ProfessionalWorkstation        1\n",
       "Name: Census_OSEdition, dtype: int64"
      ]
     },
     "execution_count": 116,
     "metadata": {},
     "output_type": "execute_result"
    }
   ],
   "source": [
    "test_data.Census_OSEdition.value_counts()"
   ]
  },
  {
   "cell_type": "code",
   "execution_count": 117,
   "metadata": {
    "_uuid": "10b0954acfca6cef572113f62505605ed3c59475"
   },
   "outputs": [],
   "source": [
    "test_data[\"Census_OSEdition\"]=test_data[\"Census_OSEdition\"].map({\"Professional\":0,\"Core\":1,\"CoreSingleLanguage\":2,\"CoreCountrySpecific\":3,\"Enterprise\":4,\"Education\":5,\"ProfessionalN\":6,\"EnterpriseS \":7,\"ServerStandard\":8,\"CoreN\":9,\"ProfessionalEducation\":10,\"Cloud\":11,\"ServerStandardEval\":12,\"ServerSolution\":13,\"EducationN\":14,\"EnterpriseSN\":15,\"EnterpriseN\":16,\"ServerDatacenterEval\":17,\"ProfessionalEducationN\":18,\"ProfessionalWorkstation\":19})"
   ]
  },
  {
   "cell_type": "code",
   "execution_count": 118,
   "metadata": {
    "_uuid": "f4823bbcdc3d2162c8d2b5fb1d8aea83e8170601"
   },
   "outputs": [
    {
     "data": {
      "text/html": [
       "<div>\n",
       "<style scoped>\n",
       "    .dataframe tbody tr th:only-of-type {\n",
       "        vertical-align: middle;\n",
       "    }\n",
       "\n",
       "    .dataframe tbody tr th {\n",
       "        vertical-align: top;\n",
       "    }\n",
       "\n",
       "    .dataframe thead th {\n",
       "        text-align: right;\n",
       "    }\n",
       "</style>\n",
       "<table border=\"1\" class=\"dataframe\">\n",
       "  <thead>\n",
       "    <tr style=\"text-align: right;\">\n",
       "      <th></th>\n",
       "      <th>RtpStateBitfield</th>\n",
       "      <th>AVProductStatesIdentifier</th>\n",
       "      <th>AVProductsInstalled</th>\n",
       "      <th>AVProductsEnabled</th>\n",
       "      <th>CountryIdentifier</th>\n",
       "      <th>CityIdentifier</th>\n",
       "      <th>GeoNameIdentifier</th>\n",
       "      <th>LocaleEnglishNameIdentifier</th>\n",
       "      <th>OsBuild</th>\n",
       "      <th>IsProtected</th>\n",
       "      <th>IeVerIdentifier</th>\n",
       "      <th>Census_OEMNameIdentifier</th>\n",
       "      <th>Census_OEMModelIdentifier</th>\n",
       "      <th>Census_ProcessorCoreCount</th>\n",
       "      <th>Census_ProcessorModelIdentifier</th>\n",
       "      <th>Census_PrimaryDiskTotalCapacity</th>\n",
       "      <th>Census_SystemVolumeTotalCapacity</th>\n",
       "      <th>Census_TotalPhysicalRAM</th>\n",
       "      <th>Census_InternalPrimaryDiagonalDisplaySizeInInches</th>\n",
       "      <th>Census_InternalPrimaryDisplayResolutionHorizontal</th>\n",
       "      <th>Census_InternalPrimaryDisplayResolutionVertical</th>\n",
       "      <th>Census_OSBuildNumber</th>\n",
       "      <th>Census_OSBuildRevision</th>\n",
       "      <th>Census_OSEdition</th>\n",
       "      <th>Census_OSSkuName</th>\n",
       "      <th>Census_OSInstallTypeName</th>\n",
       "      <th>Census_OSUILocaleIdentifier</th>\n",
       "      <th>Census_FirmwareManufacturerIdentifier</th>\n",
       "      <th>Census_FirmwareVersionIdentifier</th>\n",
       "      <th>Census_IsSecureBootEnabled</th>\n",
       "      <th>Wdft_IsGamer</th>\n",
       "      <th>Wdft_RegionIdentifier</th>\n",
       "    </tr>\n",
       "  </thead>\n",
       "  <tbody>\n",
       "    <tr>\n",
       "      <th>0</th>\n",
       "      <td>7.0</td>\n",
       "      <td>53447.0</td>\n",
       "      <td>1.0</td>\n",
       "      <td>1.0</td>\n",
       "      <td>43</td>\n",
       "      <td>58552.0</td>\n",
       "      <td>53.0</td>\n",
       "      <td>42</td>\n",
       "      <td>15063</td>\n",
       "      <td>1.0</td>\n",
       "      <td>108.0</td>\n",
       "      <td>2689.0</td>\n",
       "      <td>30661.0</td>\n",
       "      <td>4.0</td>\n",
       "      <td>3063.0</td>\n",
       "      <td>488386.0</td>\n",
       "      <td>123179.0</td>\n",
       "      <td>8192.0</td>\n",
       "      <td>15.5</td>\n",
       "      <td>1920.0</td>\n",
       "      <td>1080.0</td>\n",
       "      <td>15063</td>\n",
       "      <td>1387</td>\n",
       "      <td>1.0</td>\n",
       "      <td>1.0</td>\n",
       "      <td>Reset</td>\n",
       "      <td>158</td>\n",
       "      <td>807.0</td>\n",
       "      <td>8554.0</td>\n",
       "      <td>1</td>\n",
       "      <td>0.0</td>\n",
       "      <td>7.0</td>\n",
       "    </tr>\n",
       "    <tr>\n",
       "      <th>1</th>\n",
       "      <td>7.0</td>\n",
       "      <td>53447.0</td>\n",
       "      <td>1.0</td>\n",
       "      <td>1.0</td>\n",
       "      <td>68</td>\n",
       "      <td>71395.0</td>\n",
       "      <td>276.0</td>\n",
       "      <td>74</td>\n",
       "      <td>16299</td>\n",
       "      <td>1.0</td>\n",
       "      <td>117.0</td>\n",
       "      <td>2206.0</td>\n",
       "      <td>242491.0</td>\n",
       "      <td>4.0</td>\n",
       "      <td>3410.0</td>\n",
       "      <td>1907729.0</td>\n",
       "      <td>1882352.0</td>\n",
       "      <td>8192.0</td>\n",
       "      <td>15.5</td>\n",
       "      <td>1366.0</td>\n",
       "      <td>768.0</td>\n",
       "      <td>16299</td>\n",
       "      <td>611</td>\n",
       "      <td>1.0</td>\n",
       "      <td>1.0</td>\n",
       "      <td>UUPUpgrade</td>\n",
       "      <td>30</td>\n",
       "      <td>554.0</td>\n",
       "      <td>33105.0</td>\n",
       "      <td>1</td>\n",
       "      <td>1.0</td>\n",
       "      <td>12.0</td>\n",
       "    </tr>\n",
       "    <tr>\n",
       "      <th>2</th>\n",
       "      <td>7.0</td>\n",
       "      <td>49480.0</td>\n",
       "      <td>2.0</td>\n",
       "      <td>1.0</td>\n",
       "      <td>201</td>\n",
       "      <td>66202.0</td>\n",
       "      <td>267.0</td>\n",
       "      <td>251</td>\n",
       "      <td>14393</td>\n",
       "      <td>1.0</td>\n",
       "      <td>98.0</td>\n",
       "      <td>585.0</td>\n",
       "      <td>189533.0</td>\n",
       "      <td>2.0</td>\n",
       "      <td>2097.0</td>\n",
       "      <td>29820.0</td>\n",
       "      <td>28678.0</td>\n",
       "      <td>4096.0</td>\n",
       "      <td>13.9</td>\n",
       "      <td>1280.0</td>\n",
       "      <td>720.0</td>\n",
       "      <td>14393</td>\n",
       "      <td>2189</td>\n",
       "      <td>2.0</td>\n",
       "      <td>2.0</td>\n",
       "      <td>Other</td>\n",
       "      <td>148</td>\n",
       "      <td>556.0</td>\n",
       "      <td>63396.0</td>\n",
       "      <td>1</td>\n",
       "      <td>1.0</td>\n",
       "      <td>11.0</td>\n",
       "    </tr>\n",
       "    <tr>\n",
       "      <th>3</th>\n",
       "      <td>7.0</td>\n",
       "      <td>42160.0</td>\n",
       "      <td>2.0</td>\n",
       "      <td>1.0</td>\n",
       "      <td>29</td>\n",
       "      <td>120917.0</td>\n",
       "      <td>35.0</td>\n",
       "      <td>171</td>\n",
       "      <td>16299</td>\n",
       "      <td>1.0</td>\n",
       "      <td>117.0</td>\n",
       "      <td>2668.0</td>\n",
       "      <td>171228.0</td>\n",
       "      <td>2.0</td>\n",
       "      <td>1985.0</td>\n",
       "      <td>476940.0</td>\n",
       "      <td>439345.0</td>\n",
       "      <td>4096.0</td>\n",
       "      <td>14.0</td>\n",
       "      <td>1366.0</td>\n",
       "      <td>768.0</td>\n",
       "      <td>16299</td>\n",
       "      <td>371</td>\n",
       "      <td>2.0</td>\n",
       "      <td>2.0</td>\n",
       "      <td>Upgrade</td>\n",
       "      <td>119</td>\n",
       "      <td>628.0</td>\n",
       "      <td>26320.0</td>\n",
       "      <td>1</td>\n",
       "      <td>0.0</td>\n",
       "      <td>10.0</td>\n",
       "    </tr>\n",
       "    <tr>\n",
       "      <th>4</th>\n",
       "      <td>7.0</td>\n",
       "      <td>53447.0</td>\n",
       "      <td>1.0</td>\n",
       "      <td>1.0</td>\n",
       "      <td>171</td>\n",
       "      <td>124736.0</td>\n",
       "      <td>211.0</td>\n",
       "      <td>182</td>\n",
       "      <td>16299</td>\n",
       "      <td>1.0</td>\n",
       "      <td>117.0</td>\n",
       "      <td>585.0</td>\n",
       "      <td>189538.0</td>\n",
       "      <td>4.0</td>\n",
       "      <td>3394.0</td>\n",
       "      <td>476940.0</td>\n",
       "      <td>461506.0</td>\n",
       "      <td>2048.0</td>\n",
       "      <td>15.5</td>\n",
       "      <td>1366.0</td>\n",
       "      <td>768.0</td>\n",
       "      <td>16299</td>\n",
       "      <td>371</td>\n",
       "      <td>2.0</td>\n",
       "      <td>2.0</td>\n",
       "      <td>Update</td>\n",
       "      <td>125</td>\n",
       "      <td>556.0</td>\n",
       "      <td>63269.0</td>\n",
       "      <td>1</td>\n",
       "      <td>1.0</td>\n",
       "      <td>3.0</td>\n",
       "    </tr>\n",
       "  </tbody>\n",
       "</table>\n",
       "</div>"
      ],
      "text/plain": [
       "   RtpStateBitfield          ...            Wdft_RegionIdentifier\n",
       "0               7.0          ...                              7.0\n",
       "1               7.0          ...                             12.0\n",
       "2               7.0          ...                             11.0\n",
       "3               7.0          ...                             10.0\n",
       "4               7.0          ...                              3.0\n",
       "\n",
       "[5 rows x 32 columns]"
      ]
     },
     "execution_count": 118,
     "metadata": {},
     "output_type": "execute_result"
    }
   ],
   "source": [
    "test_data.head()"
   ]
  },
  {
   "cell_type": "code",
   "execution_count": 119,
   "metadata": {
    "_uuid": "667d2aeead368c8a4c14256ce762c2361f682af3"
   },
   "outputs": [
    {
     "data": {
      "text/plain": [
       "IBSClean          27015\n",
       "UUPUpgrade        23405\n",
       "Update            14148\n",
       "Upgrade           12047\n",
       "Other             10374\n",
       "Reset              7856\n",
       "Refresh            3263\n",
       "Clean               979\n",
       "CleanPCRefresh      913\n",
       "Name: Census_OSInstallTypeName, dtype: int64"
      ]
     },
     "execution_count": 119,
     "metadata": {},
     "output_type": "execute_result"
    }
   ],
   "source": [
    "test_data[\"Census_OSInstallTypeName\"].value_counts()"
   ]
  },
  {
   "cell_type": "code",
   "execution_count": 120,
   "metadata": {
    "_uuid": "6e3505fcabcefa6e0b0582646864cdc95486b398"
   },
   "outputs": [],
   "source": [
    "test_data[\"Census_OSInstallTypeName\"]=test_data[\"Census_OSInstallTypeName\"].map({\"IBSClean\":27015,\"UUPUpgrade\":23405,\"Update\":14148,\"Upgrade\":12047,\"Other\":10374,\"Reset\":7856,\"Refresh\":3263,\"Clean\":979,\"CleanPCRefresh\":913})"
   ]
  },
  {
   "cell_type": "code",
   "execution_count": 121,
   "metadata": {
    "_uuid": "8c7626292cf4c83f4effbdb7a2995db1af9d1f40"
   },
   "outputs": [],
   "source": [
    "test_data.head()\n",
    "test_data=test_data.fillna(method=\"ffill\")"
   ]
  },
  {
   "cell_type": "code",
   "execution_count": 122,
   "metadata": {
    "_uuid": "5f2502bf3ed85bdf2cf8ee9c1cadfc65a78b8945"
   },
   "outputs": [
    {
     "name": "stdout",
     "output_type": "stream",
     "text": [
      "(100000, 31)\n",
      "(100000,)\n"
     ]
    },
    {
     "name": "stderr",
     "output_type": "stream",
     "text": [
      "/opt/conda/lib/python3.6/site-packages/sklearn/preprocessing/data.py:625: DataConversionWarning: Data with input dtype int64, float64 were all converted to float64 by StandardScaler.\n",
      "  return self.partial_fit(X, y)\n",
      "/opt/conda/lib/python3.6/site-packages/sklearn/base.py:462: DataConversionWarning: Data with input dtype int64, float64 were all converted to float64 by StandardScaler.\n",
      "  return self.fit(X, **fit_params).transform(X)\n"
     ]
    }
   ],
   "source": [
    "x_testdata=test_data.drop([\"IsProtected\"],axis=1)\n",
    "y_testdata=test_data[\"IsProtected\"]\n",
    "print(x_testdata.shape)\n",
    "print(y_testdata.shape)\n",
    "x_testdata.fillna(method=\"ffill\")\n",
    "x_testdata=sc.fit_transform(x_testdata)\n",
    "#x_testdata.fillna(method=\"ffill\")\n",
    "x_testdata=pc.fit_transform(x_testdata)"
   ]
  },
  {
   "cell_type": "code",
   "execution_count": 123,
   "metadata": {
    "_uuid": "3ab9aabce00d2f6e02d4d7e097579dbeb98d325d"
   },
   "outputs": [
    {
     "data": {
      "text/plain": [
       "(100000, 3)"
      ]
     },
     "execution_count": 123,
     "metadata": {},
     "output_type": "execute_result"
    }
   ],
   "source": [
    "x_testdata.shape"
   ]
  },
  {
   "cell_type": "markdown",
   "metadata": {
    "_uuid": "efb4440cf4650589b1dc92fcf1c750cde4cf28d8"
   },
   "source": [
    "* 1. 1. *MODEL-1 :**lightgbm***"
   ]
  },
  {
   "cell_type": "markdown",
   "metadata": {
    "_uuid": "07ae8fd324320044816932e665221332966d4937"
   },
   "source": []
  },
  {
   "cell_type": "code",
   "execution_count": 124,
   "metadata": {
    "_uuid": "66834fdb177e413f264f8f85117fe9c1c691b46b"
   },
   "outputs": [],
   "source": []
  },
  {
   "cell_type": "code",
   "execution_count": 124,
   "metadata": {
    "_uuid": "fd5dc2d06e7dc1aa357e10c814de1081fde56fff"
   },
   "outputs": [],
   "source": [
    "x_pre_train=x_train_pro[:150000]\n",
    "y_pre_train=y_train[:150000]"
   ]
  },
  {
   "cell_type": "code",
   "execution_count": 125,
   "metadata": {
    "_uuid": "34a1c7f83f4d56fc924d999a87913cc659c4bdda"
   },
   "outputs": [
    {
     "name": "stdout",
     "output_type": "stream",
     "text": [
      "(189088, 3)\n",
      "(189088,)\n",
      "(100000, 3) (100000,)\n"
     ]
    }
   ],
   "source": [
    "print(x_train_pro.shape)\n",
    "print(y_train.shape)\n",
    "print(x_testdata.shape,y_testdata.shape)"
   ]
  },
  {
   "cell_type": "code",
   "execution_count": 126,
   "metadata": {
    "_uuid": "bb1871403876c72d7ad6e7675c05a505ea8ee6aa"
   },
   "outputs": [
    {
     "data": {
      "text/plain": [
       "\"Index(['RtpStateBitfield', 'AVProductStatesIdentifier', 'AVProductsInstalled',\\n       'AVProductsEnabled', 'HasTpm', 'CountryIdentifier', 'CityIdentifier',\\n       'GeoNameIdentifier', 'LocaleEnglishNameIdentifier', 'OsBuild',\\n       'IsProtected', 'IeVerIdentifier', 'Firewall',\\n       'Census_OEMNameIdentifier', 'Census_OEMModelIdentifier',\\n       'Census_ProcessorCoreCount', 'Census_ProcessorModelIdentifier',\\n       'Census_PrimaryDiskTotalCapacity', 'Census_SystemVolumeTotalCapacity',\\n       'Census_TotalPhysicalRAM',\\n       'Census_InternalPrimaryDiagonalDisplaySizeInInches',\\n       'Census_InternalPrimaryDisplayResolutionHorizontal',\\n       'Census_InternalPrimaryDisplayResolutionVertical',\\n       'Census_OSBuildNumber', 'Census_OSBuildRevision', 'Census_OSEdition',\\n       'Census_OSSkuName', 'Census_OSInstallTypeName',\\n       'Census_OSUILocaleIdentifier', 'Census_IsPortableOperatingSystem',]\""
      ]
     },
     "execution_count": 126,
     "metadata": {},
     "output_type": "execute_result"
    }
   ],
   "source": [
    "\"\"\"Index(['RtpStateBitfield', 'AVProductStatesIdentifier', 'AVProductsInstalled',\n",
    "       'AVProductsEnabled', 'HasTpm', 'CountryIdentifier', 'CityIdentifier',\n",
    "       'GeoNameIdentifier', 'LocaleEnglishNameIdentifier', 'OsBuild',\n",
    "       'IsProtected', 'IeVerIdentifier', 'Firewall',\n",
    "       'Census_OEMNameIdentifier', 'Census_OEMModelIdentifier',\n",
    "       'Census_ProcessorCoreCount', 'Census_ProcessorModelIdentifier',\n",
    "       'Census_PrimaryDiskTotalCapacity', 'Census_SystemVolumeTotalCapacity',\n",
    "       'Census_TotalPhysicalRAM',\n",
    "       'Census_InternalPrimaryDiagonalDisplaySizeInInches',\n",
    "       'Census_InternalPrimaryDisplayResolutionHorizontal',\n",
    "       'Census_InternalPrimaryDisplayResolutionVertical',\n",
    "       'Census_OSBuildNumber', 'Census_OSBuildRevision', 'Census_OSEdition',\n",
    "       'Census_OSSkuName', 'Census_OSInstallTypeName',\n",
    "       'Census_OSUILocaleIdentifier', 'Census_IsPortableOperatingSystem',]\"\"\""
   ]
  },
  {
   "cell_type": "code",
   "execution_count": 127,
   "metadata": {
    "_uuid": "f182576e791170f5caf971557e5b856192fb17d7"
   },
   "outputs": [],
   "source": [
    "import lightgbm as lgb"
   ]
  },
  {
   "cell_type": "code",
   "execution_count": 128,
   "metadata": {
    "_uuid": "3d726148bf333a814edc9a2462b278bd65896bb8"
   },
   "outputs": [
    {
     "name": "stdout",
     "output_type": "stream",
     "text": [
      "(150000, 3) (150000,)\n"
     ]
    }
   ],
   "source": [
    "print(x_pre_train.shape,y_pre_train.shape)\n",
    "#print(x_train_pro[150000:].shape,y_pp.shape)"
   ]
  },
  {
   "cell_type": "code",
   "execution_count": 129,
   "metadata": {
    "_uuid": "e070c634229a4c09bb63e21ec638514660a81ac6"
   },
   "outputs": [],
   "source": [
    "model = lgb.LGBMClassifier(n_estimators=3000, colsample_bytree=0.2, objective='binary', num_leaves=16,max_depth=-1, learning_rate=0.1)"
   ]
  },
  {
   "cell_type": "code",
   "execution_count": 130,
   "metadata": {
    "_uuid": "68820008c3ea6daca92795c96933277097dc0a10"
   },
   "outputs": [
    {
     "name": "stdout",
     "output_type": "stream",
     "text": [
      "Training until validation scores don't improve for 500 rounds.\n",
      "[250]\tvalid_0's binary_logloss: 0.736295\tvalid_0's auc: 0.652125\n",
      "[500]\tvalid_0's binary_logloss: 0.73967\tvalid_0's auc: 0.649733\n",
      "Early stopping, best iteration is:\n",
      "[5]\tvalid_0's binary_logloss: 0.689781\tvalid_0's auc: 0.653044\n"
     ]
    }
   ],
   "source": [
    "h=model.fit(x_train_pro,y_train, eval_metric='auc',\n",
    "          eval_set=[(x_testdata,y_testdata)], verbose=250,\n",
    "          early_stopping_rounds=500)"
   ]
  },
  {
   "cell_type": "code",
   "execution_count": 131,
   "metadata": {
    "_uuid": "7ddccf47d7ae41f79e9aedeb191640f6f3c2fb66"
   },
   "outputs": [],
   "source": [
    "yyy=model.predict(x_testdata)"
   ]
  },
  {
   "cell_type": "code",
   "execution_count": 132,
   "metadata": {
    "_uuid": "2285dddd935c318197a1092abe1a90e57f2d266d"
   },
   "outputs": [],
   "source": [
    "x11=sub_data[\"MachineIdentifier\"]"
   ]
  },
  {
   "cell_type": "code",
   "execution_count": 133,
   "metadata": {
    "_uuid": "ab9ededa97c75495a695d5ef9f5d617709af41ce"
   },
   "outputs": [],
   "source": [
    "submission = pd.DataFrame({\"MachineIdentifier\":x11,\"HasDetections\":yyy})\n",
    "submission.to_csv('submission.csv', index=False)\n",
    "#submission.to_csv('lgb_submission.csv', index=False)"
   ]
  },
  {
   "cell_type": "code",
   "execution_count": 134,
   "metadata": {
    "_uuid": "3f2bfd2cad70cde60a0c7c0c6d2e769cc79c7512"
   },
   "outputs": [],
   "source": []
  },
  {
   "cell_type": "code",
   "execution_count": 134,
   "metadata": {
    "_uuid": "c9b80bd0244c2847a3cda4fa741eea4f5af10e0d"
   },
   "outputs": [],
   "source": [
    "sub_data[\"HasDetections\"]=yyy"
   ]
  },
  {
   "cell_type": "code",
   "execution_count": 135,
   "metadata": {
    "_uuid": "74bd116d3165248965bbb922195c5f53d9ea4eee"
   },
   "outputs": [
    {
     "data": {
      "text/html": [
       "<div>\n",
       "<style scoped>\n",
       "    .dataframe tbody tr th:only-of-type {\n",
       "        vertical-align: middle;\n",
       "    }\n",
       "\n",
       "    .dataframe tbody tr th {\n",
       "        vertical-align: top;\n",
       "    }\n",
       "\n",
       "    .dataframe thead th {\n",
       "        text-align: right;\n",
       "    }\n",
       "</style>\n",
       "<table border=\"1\" class=\"dataframe\">\n",
       "  <thead>\n",
       "    <tr style=\"text-align: right;\">\n",
       "      <th></th>\n",
       "      <th>MachineIdentifier</th>\n",
       "      <th>HasDetections</th>\n",
       "    </tr>\n",
       "  </thead>\n",
       "  <tbody>\n",
       "    <tr>\n",
       "      <th>0</th>\n",
       "      <td>0000010489e3af074adeac69c53e555e</td>\n",
       "      <td>0.0</td>\n",
       "    </tr>\n",
       "    <tr>\n",
       "      <th>1</th>\n",
       "      <td>00000176ac758d54827acd545b6315a5</td>\n",
       "      <td>1.0</td>\n",
       "    </tr>\n",
       "    <tr>\n",
       "      <th>2</th>\n",
       "      <td>0000019dcefc128c2d4387c1273dae1d</td>\n",
       "      <td>0.0</td>\n",
       "    </tr>\n",
       "    <tr>\n",
       "      <th>3</th>\n",
       "      <td>0000055553dc51b1295785415f1a224d</td>\n",
       "      <td>0.0</td>\n",
       "    </tr>\n",
       "    <tr>\n",
       "      <th>4</th>\n",
       "      <td>00000574cefffeca83ec8adf9285b2bf</td>\n",
       "      <td>0.0</td>\n",
       "    </tr>\n",
       "  </tbody>\n",
       "</table>\n",
       "</div>"
      ],
      "text/plain": [
       "                  MachineIdentifier  HasDetections\n",
       "0  0000010489e3af074adeac69c53e555e            0.0\n",
       "1  00000176ac758d54827acd545b6315a5            1.0\n",
       "2  0000019dcefc128c2d4387c1273dae1d            0.0\n",
       "3  0000055553dc51b1295785415f1a224d            0.0\n",
       "4  00000574cefffeca83ec8adf9285b2bf            0.0"
      ]
     },
     "execution_count": 135,
     "metadata": {},
     "output_type": "execute_result"
    }
   ],
   "source": [
    "sub_data.head()"
   ]
  },
  {
   "cell_type": "code",
   "execution_count": 136,
   "metadata": {
    "_uuid": "a0b3323d47d8a91472ed9e06ffb91a72fb4f5ec2"
   },
   "outputs": [],
   "source": []
  },
  {
   "cell_type": "code",
   "execution_count": 136,
   "metadata": {
    "_uuid": "f3c84495608d1bcd6aa30b907a3971f2cb795ccb"
   },
   "outputs": [],
   "source": []
  },
  {
   "cell_type": "code",
   "execution_count": 136,
   "metadata": {
    "_uuid": "b3dd5f71ba1d9e8a6b9c5796053abbf45dc2008b"
   },
   "outputs": [],
   "source": []
  },
  {
   "cell_type": "code",
   "execution_count": 136,
   "metadata": {
    "_uuid": "dac98c8776275883d3e31afc213751b9e0a84582"
   },
   "outputs": [],
   "source": []
  },
  {
   "cell_type": "code",
   "execution_count": 136,
   "metadata": {
    "_uuid": "2aaa9e987d5378e69b0054052b9ae91ab01a133e"
   },
   "outputs": [],
   "source": []
  },
  {
   "cell_type": "code",
   "execution_count": 136,
   "metadata": {
    "_uuid": "cfa4ae3846c610ccf69a0d54f2cb40c971c00c1f"
   },
   "outputs": [],
   "source": []
  },
  {
   "cell_type": "code",
   "execution_count": 136,
   "metadata": {
    "_uuid": "936c70238eb3d534d4548a03d97c4727cada005e"
   },
   "outputs": [],
   "source": []
  },
  {
   "cell_type": "code",
   "execution_count": 136,
   "metadata": {
    "_uuid": "60d24f4085494814b3f70af9ee1ad8d24c00e06d"
   },
   "outputs": [],
   "source": []
  },
  {
   "cell_type": "code",
   "execution_count": 136,
   "metadata": {
    "_uuid": "3744a95badeeb2c9f749c74b3738e3967ba26f27"
   },
   "outputs": [],
   "source": []
  }
 ],
 "metadata": {
  "kernelspec": {
   "display_name": "Python 3",
   "language": "python",
   "name": "python3"
  },
  "language_info": {
   "codemirror_mode": {
    "name": "ipython",
    "version": 3
   },
   "file_extension": ".py",
   "mimetype": "text/x-python",
   "name": "python",
   "nbconvert_exporter": "python",
   "pygments_lexer": "ipython3",
   "version": "3.6.6"
  }
 },
 "nbformat": 4,
 "nbformat_minor": 1
}
