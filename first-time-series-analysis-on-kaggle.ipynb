{
 "cells": [
  {
   "cell_type": "code",
   "execution_count": 1,
   "metadata": {
    "_cell_guid": "b1076dfc-b9ad-4769-8c92-a6c4dae69d19",
    "_uuid": "8f2839f25d086af736a60e9eeb907d3b93b6e0e5"
   },
   "outputs": [
    {
     "name": "stdout",
     "output_type": "stream",
     "text": [
      "['AABA_2006-01-01_to_2018-01-01.csv', 'GE_2006-01-01_to_2018-01-01.csv', 'MSFT_2006-01-01_to_2018-01-01.csv', 'CAT_2006-01-01_to_2018-01-01.csv', 'MCD_2006-01-01_to_2018-01-01.csv', 'GOOGL_2006-01-01_to_2018-01-01.csv', 'MMM_2006-01-01_to_2018-01-01.csv', 'JPM_2006-01-01_to_2018-01-01.csv', 'MRK_2006-01-01_to_2018-01-01.csv', 'AAPL_2006-01-01_to_2018-01-01.csv', 'BA_2006-01-01_to_2018-01-01.csv', 'VZ_2006-01-01_to_2018-01-01.csv', 'all_stocks_2017-01-01_to_2018-01-01.csv', 'DIS_2006-01-01_to_2018-01-01.csv', 'GS_2006-01-01_to_2018-01-01.csv', 'CSCO_2006-01-01_to_2018-01-01.csv', 'PFE_2006-01-01_to_2018-01-01.csv', 'AMZN_2006-01-01_to_2018-01-01.csv', 'KO_2006-01-01_to_2018-01-01.csv', 'PG_2006-01-01_to_2018-01-01.csv', 'UTX_2006-01-01_to_2018-01-01.csv', 'HD_2006-01-01_to_2018-01-01.csv', 'CVX_2006-01-01_to_2018-01-01.csv', 'UNH_2006-01-01_to_2018-01-01.csv', 'AXP_2006-01-01_to_2018-01-01.csv', 'WMT_2006-01-01_to_2018-01-01.csv', 'INTC_2006-01-01_to_2018-01-01.csv', 'XOM_2006-01-01_to_2018-01-01.csv', 'NKE_2006-01-01_to_2018-01-01.csv', 'IBM_2006-01-01_to_2018-01-01.csv', 'JNJ_2006-01-01_to_2018-01-01.csv', 'TRV_2006-01-01_to_2018-01-01.csv', 'all_stocks_2006-01-01_to_2018-01-01.csv']\n"
     ]
    }
   ],
   "source": [
    "# This Python 3 environment comes with many helpful analytics libraries installed\n",
    "# It is defined by the kaggle/python docker image: https://github.com/kaggle/docker-python\n",
    "# For example, here's several helpful packages to load in \n",
    "\n",
    "import numpy as np # linear algebra\n",
    "import pandas as pd # data processing, CSV file I/O (e.g. pd.read_csv)\n",
    "\n",
    "# Input data files are available in the \"../input/\" directory.\n",
    "# For example, running this (by clicking run or pressing Shift+Enter) will list the files in the input directory\n",
    "\n",
    "import os\n",
    "print(os.listdir(\"../input\"))\n",
    "\n",
    "# Any results you write to the current directory are saved as output."
   ]
  },
  {
   "cell_type": "code",
   "execution_count": 2,
   "metadata": {
    "_cell_guid": "79c7e3d0-c299-4dcb-8224-4455121ee9b0",
    "_uuid": "d629ff2d2480ee46fbb7e2d37f6b5fab8052498a"
   },
   "outputs": [],
   "source": [
    "import pandas as pd\n",
    "import numpy as np\n",
    "import matplotlib.pyplot as plt\n",
    "import seaborn as sns\n",
    "plt.style.use(\"fivethirtyeight\")\n",
    "%matplotlib inline\n",
    "from statsmodels.tsa.stattools import adfuller\n",
    "from statsmodels.tsa.arima_model import ARIMA\n",
    "import math\n",
    "from sklearn.metrics import mean_squared_error\n",
    "import warnings\n",
    "warnings.filterwarnings(\"ignore\")"
   ]
  },
  {
   "cell_type": "code",
   "execution_count": 3,
   "metadata": {},
   "outputs": [
    {
     "data": {
      "text/html": [
       "<div>\n",
       "<style scoped>\n",
       "    .dataframe tbody tr th:only-of-type {\n",
       "        vertical-align: middle;\n",
       "    }\n",
       "\n",
       "    .dataframe tbody tr th {\n",
       "        vertical-align: top;\n",
       "    }\n",
       "\n",
       "    .dataframe thead th {\n",
       "        text-align: right;\n",
       "    }\n",
       "</style>\n",
       "<table border=\"1\" class=\"dataframe\">\n",
       "  <thead>\n",
       "    <tr style=\"text-align: right;\">\n",
       "      <th></th>\n",
       "      <th>Open</th>\n",
       "      <th>High</th>\n",
       "      <th>Low</th>\n",
       "      <th>Close</th>\n",
       "      <th>Volume</th>\n",
       "      <th>Name</th>\n",
       "    </tr>\n",
       "    <tr>\n",
       "      <th>Date</th>\n",
       "      <th></th>\n",
       "      <th></th>\n",
       "      <th></th>\n",
       "      <th></th>\n",
       "      <th></th>\n",
       "      <th></th>\n",
       "    </tr>\n",
       "  </thead>\n",
       "  <tbody>\n",
       "    <tr>\n",
       "      <th>2006-01-03</th>\n",
       "      <td>211.47</td>\n",
       "      <td>218.05</td>\n",
       "      <td>209.32</td>\n",
       "      <td>217.83</td>\n",
       "      <td>13137450</td>\n",
       "      <td>GOOGL</td>\n",
       "    </tr>\n",
       "    <tr>\n",
       "      <th>2006-01-04</th>\n",
       "      <td>222.17</td>\n",
       "      <td>224.70</td>\n",
       "      <td>220.09</td>\n",
       "      <td>222.84</td>\n",
       "      <td>15292353</td>\n",
       "      <td>GOOGL</td>\n",
       "    </tr>\n",
       "    <tr>\n",
       "      <th>2006-01-05</th>\n",
       "      <td>223.22</td>\n",
       "      <td>226.00</td>\n",
       "      <td>220.97</td>\n",
       "      <td>225.85</td>\n",
       "      <td>10815661</td>\n",
       "      <td>GOOGL</td>\n",
       "    </tr>\n",
       "    <tr>\n",
       "      <th>2006-01-06</th>\n",
       "      <td>228.66</td>\n",
       "      <td>235.49</td>\n",
       "      <td>226.85</td>\n",
       "      <td>233.06</td>\n",
       "      <td>17759521</td>\n",
       "      <td>GOOGL</td>\n",
       "    </tr>\n",
       "    <tr>\n",
       "      <th>2006-01-09</th>\n",
       "      <td>233.44</td>\n",
       "      <td>236.94</td>\n",
       "      <td>230.70</td>\n",
       "      <td>233.68</td>\n",
       "      <td>12795837</td>\n",
       "      <td>GOOGL</td>\n",
       "    </tr>\n",
       "  </tbody>\n",
       "</table>\n",
       "</div>"
      ],
      "text/plain": [
       "              Open    High     Low   Close    Volume   Name\n",
       "Date                                                       \n",
       "2006-01-03  211.47  218.05  209.32  217.83  13137450  GOOGL\n",
       "2006-01-04  222.17  224.70  220.09  222.84  15292353  GOOGL\n",
       "2006-01-05  223.22  226.00  220.97  225.85  10815661  GOOGL\n",
       "2006-01-06  228.66  235.49  226.85  233.06  17759521  GOOGL\n",
       "2006-01-09  233.44  236.94  230.70  233.68  12795837  GOOGL"
      ]
     },
     "execution_count": 3,
     "metadata": {},
     "output_type": "execute_result"
    }
   ],
   "source": [
    "google = pd.read_csv('../input/GOOGL_2006-01-01_to_2018-01-01.csv', index_col='Date', parse_dates=['Date'])\n",
    "google.head()"
   ]
  },
  {
   "cell_type": "code",
   "execution_count": 4,
   "metadata": {},
   "outputs": [
    {
     "data": {
      "text/plain": [
       "<matplotlib.axes._subplots.AxesSubplot at 0x7f64eea810b8>"
      ]
     },
     "execution_count": 4,
     "metadata": {},
     "output_type": "execute_result"
    },
    {
     "data": {
      "image/png": "[encoded data removed]",
      "text/plain": [
       "<Figure size 432x288 with 1 Axes>"
      ]
     },
     "metadata": {},
     "output_type": "display_data"
    }
   ],
   "source": [
    "google[\"Close\"].asfreq(\"M\").plot()"
   ]
  },
  {
   "cell_type": "code",
   "execution_count": 5,
   "metadata": {},
   "outputs": [
    {
     "data": {
      "text/plain": [
       "array([<matplotlib.axes._subplots.AxesSubplot object at 0x7f64ee9ccba8>,\n",
       "       <matplotlib.axes._subplots.AxesSubplot object at 0x7f64ee97c9e8>,\n",
       "       <matplotlib.axes._subplots.AxesSubplot object at 0x7f64ee9ab278>,\n",
       "       <matplotlib.axes._subplots.AxesSubplot object at 0x7f64ee951ac8>,\n",
       "       <matplotlib.axes._subplots.AxesSubplot object at 0x7f64ee901358>],\n",
       "      dtype=object)"
      ]
     },
     "execution_count": 5,
     "metadata": {},
     "output_type": "execute_result"
    },
    {
     "data": {
      "image/png": "[encoded data removed]",
      "text/plain": [
       "<Figure size 432x1296 with 5 Axes>"
      ]
     },
     "metadata": {},
     "output_type": "display_data"
    }
   ],
   "source": [
    "google[\"2008\":\"2010\"].plot(subplots=True,figsize=(6,18))"
   ]
  },
  {
   "cell_type": "code",
   "execution_count": 6,
   "metadata": {},
   "outputs": [],
   "source": [
    "timestamp=pd.Timestamp(2017,1,1,12)"
   ]
  },
  {
   "cell_type": "code",
   "execution_count": 7,
   "metadata": {},
   "outputs": [
    {
     "data": {
      "text/plain": [
       "Period('2017-01-01', 'D')"
      ]
     },
     "execution_count": 7,
     "metadata": {},
     "output_type": "execute_result"
    }
   ],
   "source": [
    "periods=pd.Period(\"2017-01-01\")\n",
    "periods"
   ]
  },
  {
   "cell_type": "code",
   "execution_count": 8,
   "metadata": {},
   "outputs": [
    {
     "data": {
      "text/plain": [
       "Period('2017-01-01 12:00', 'H')"
      ]
     },
     "execution_count": 8,
     "metadata": {},
     "output_type": "execute_result"
    }
   ],
   "source": [
    "new_periods= timestamp.to_period(freq=\"H\")\n",
    "new_periods"
   ]
  },
  {
   "cell_type": "code",
   "execution_count": 9,
   "metadata": {},
   "outputs": [
    {
     "data": {
      "text/plain": [
       "DatetimeIndex(['1998-11-30', '1998-12-31', '1999-01-31', '1999-02-28',\n",
       "               '1999-03-31', '1999-04-30', '1999-05-31', '1999-06-30',\n",
       "               '1999-07-31', '1999-08-31',\n",
       "               ...\n",
       "               '2018-06-30', '2018-07-31', '2018-08-31', '2018-09-30',\n",
       "               '2018-10-31', '2018-11-30', '2018-12-31', '2019-01-31',\n",
       "               '2019-02-28', '2019-03-31'],\n",
       "              dtype='datetime64[ns]', length=245, freq='M')"
      ]
     },
     "execution_count": 9,
     "metadata": {},
     "output_type": "execute_result"
    }
   ],
   "source": [
    "time=pd.date_range(start=\"18/11/1998\",end=\"13/4/2019\", freq=\"M\")\n",
    "time"
   ]
  },
  {
   "cell_type": "code",
   "execution_count": 10,
   "metadata": {},
   "outputs": [],
   "source": [
    "time=pd.date_range(start=\"18/11/1998\",end=\"13/4/2019\",periods=3)"
   ]
  },
  {
   "cell_type": "code",
   "execution_count": 11,
   "metadata": {},
   "outputs": [
    {
     "data": {
      "text/plain": [
       "DatetimeIndex(['1998-11-18 00:00:00', '2009-01-29 12:00:00',\n",
       "               '2019-04-13 00:00:00'],\n",
       "              dtype='datetime64[ns]', freq=None)"
      ]
     },
     "execution_count": 11,
     "metadata": {},
     "output_type": "execute_result"
    }
   ],
   "source": [
    "time"
   ]
  },
  {
   "cell_type": "code",
   "execution_count": 12,
   "metadata": {},
   "outputs": [],
   "source": [
    "dataf=pd.DataFrame({\"Year\":[2015,2019],\"month\":[12,11],\"day\":[12,30]})"
   ]
  },
  {
   "cell_type": "code",
   "execution_count": 13,
   "metadata": {},
   "outputs": [
    {
     "data": {
      "text/html": [
       "<div>\n",
       "<style scoped>\n",
       "    .dataframe tbody tr th:only-of-type {\n",
       "        vertical-align: middle;\n",
       "    }\n",
       "\n",
       "    .dataframe tbody tr th {\n",
       "        vertical-align: top;\n",
       "    }\n",
       "\n",
       "    .dataframe thead th {\n",
       "        text-align: right;\n",
       "    }\n",
       "</style>\n",
       "<table border=\"1\" class=\"dataframe\">\n",
       "  <thead>\n",
       "    <tr style=\"text-align: right;\">\n",
       "      <th></th>\n",
       "      <th>Year</th>\n",
       "      <th>month</th>\n",
       "      <th>day</th>\n",
       "    </tr>\n",
       "  </thead>\n",
       "  <tbody>\n",
       "    <tr>\n",
       "      <th>0</th>\n",
       "      <td>2015</td>\n",
       "      <td>12</td>\n",
       "      <td>12</td>\n",
       "    </tr>\n",
       "    <tr>\n",
       "      <th>1</th>\n",
       "      <td>2019</td>\n",
       "      <td>11</td>\n",
       "      <td>30</td>\n",
       "    </tr>\n",
       "  </tbody>\n",
       "</table>\n",
       "</div>"
      ],
      "text/plain": [
       "   Year  month  day\n",
       "0  2015     12   12\n",
       "1  2019     11   30"
      ]
     },
     "execution_count": 13,
     "metadata": {},
     "output_type": "execute_result"
    }
   ],
   "source": [
    "dataf"
   ]
  },
  {
   "cell_type": "code",
   "execution_count": 14,
   "metadata": {},
   "outputs": [
    {
     "data": {
      "text/plain": [
       "0   2015-12-12\n",
       "1   2019-11-30\n",
       "dtype: datetime64[ns]"
      ]
     },
     "execution_count": 14,
     "metadata": {},
     "output_type": "execute_result"
    }
   ],
   "source": [
    "pd.to_datetime(dataf)"
   ]
  },
  {
   "cell_type": "code",
   "execution_count": 15,
   "metadata": {},
   "outputs": [
    {
     "data": {
      "text/plain": [
       "<matplotlib.axes._subplots.AxesSubplot at 0x7f64ee78d748>"
      ]
     },
     "execution_count": 15,
     "metadata": {},
     "output_type": "execute_result"
    },
    {
     "data": {
      "image/png": "[encoded data removed]",
      "text/plain": [
       "<Figure size 432x288 with 1 Axes>"
      ]
     },
     "metadata": {},
     "output_type": "display_data"
    }
   ],
   "source": [
    "google[\"High\"].plot(legend=True,color=\"r\")\n",
    "google[\"High\"].shift(500).plot(legend=True,color=\"b\")"
   ]
  },
  {
   "cell_type": "code",
   "execution_count": 16,
   "metadata": {},
   "outputs": [
    {
     "data": {
      "text/plain": [
       "Date\n",
       "2006-01-03    218.05\n",
       "2006-01-04    224.70\n",
       "2006-01-05    226.00\n",
       "2006-01-06    235.49\n",
       "2006-01-09    236.94\n",
       "2006-01-10    235.36\n",
       "2006-01-11    237.79\n",
       "2006-01-12    237.73\n",
       "2006-01-13    233.68\n",
       "2006-01-17    235.18\n",
       "Name: High, dtype: float64"
      ]
     },
     "execution_count": 16,
     "metadata": {},
     "output_type": "execute_result"
    }
   ],
   "source": [
    "google[\"High\"][0:10]"
   ]
  },
  {
   "cell_type": "code",
   "execution_count": 17,
   "metadata": {},
   "outputs": [
    {
     "data": {
      "text/plain": [
       "Date\n",
       "2006-01-03       NaN\n",
       "2006-01-04       NaN\n",
       "2006-01-05    218.05\n",
       "2006-01-06    224.70\n",
       "2006-01-09    226.00\n",
       "2006-01-10    235.49\n",
       "2006-01-11    236.94\n",
       "2006-01-12    235.36\n",
       "2006-01-13    237.79\n",
       "2006-01-17    237.73\n",
       "Name: High, dtype: float64"
      ]
     },
     "execution_count": 17,
     "metadata": {},
     "output_type": "execute_result"
    }
   ],
   "source": [
    "google[\"High\"].shift(2)[0:10]"
   ]
  },
  {
   "cell_type": "code",
   "execution_count": 18,
   "metadata": {},
   "outputs": [
    {
     "ename": "SyntaxError",
     "evalue": "invalid syntax (<ipython-input-18-e92f29c524b7>, line 1)",
     "output_type": "error",
     "traceback": [
      "\u001b[0;36m  File \u001b[0;32m\"<ipython-input-18-e92f29c524b7>\"\u001b[0;36m, line \u001b[0;32m1\u001b[0m\n\u001b[0;31m    google.resample(\"3D\").max().\u001b[0m\n\u001b[0m                                ^\u001b[0m\n\u001b[0;31mSyntaxError\u001b[0m\u001b[0;31m:\u001b[0m invalid syntax\n"
     ]
    }
   ],
   "source": [
    "google.resample(\"3D\").max()."
   ]
  },
  {
   "cell_type": "code",
   "execution_count": 19,
   "metadata": {},
   "outputs": [
    {
     "data": {
      "text/html": [
       "<div>\n",
       "<style scoped>\n",
       "    .dataframe tbody tr th:only-of-type {\n",
       "        vertical-align: middle;\n",
       "    }\n",
       "\n",
       "    .dataframe tbody tr th {\n",
       "        vertical-align: top;\n",
       "    }\n",
       "\n",
       "    .dataframe thead th {\n",
       "        text-align: right;\n",
       "    }\n",
       "</style>\n",
       "<table border=\"1\" class=\"dataframe\">\n",
       "  <thead>\n",
       "    <tr style=\"text-align: right;\">\n",
       "      <th></th>\n",
       "      <th>Open</th>\n",
       "      <th>High</th>\n",
       "      <th>Low</th>\n",
       "      <th>Close</th>\n",
       "      <th>Volume</th>\n",
       "      <th>Name</th>\n",
       "    </tr>\n",
       "    <tr>\n",
       "      <th>Date</th>\n",
       "      <th></th>\n",
       "      <th></th>\n",
       "      <th></th>\n",
       "      <th></th>\n",
       "      <th></th>\n",
       "      <th></th>\n",
       "    </tr>\n",
       "  </thead>\n",
       "  <tbody>\n",
       "    <tr>\n",
       "      <th>2006-01-03</th>\n",
       "      <td>211.47</td>\n",
       "      <td>218.05</td>\n",
       "      <td>209.32</td>\n",
       "      <td>217.83</td>\n",
       "      <td>13137450</td>\n",
       "      <td>GOOGL</td>\n",
       "    </tr>\n",
       "    <tr>\n",
       "      <th>2006-01-04</th>\n",
       "      <td>222.17</td>\n",
       "      <td>224.70</td>\n",
       "      <td>220.09</td>\n",
       "      <td>222.84</td>\n",
       "      <td>15292353</td>\n",
       "      <td>GOOGL</td>\n",
       "    </tr>\n",
       "    <tr>\n",
       "      <th>2006-01-05</th>\n",
       "      <td>223.22</td>\n",
       "      <td>226.00</td>\n",
       "      <td>220.97</td>\n",
       "      <td>225.85</td>\n",
       "      <td>10815661</td>\n",
       "      <td>GOOGL</td>\n",
       "    </tr>\n",
       "    <tr>\n",
       "      <th>2006-01-06</th>\n",
       "      <td>228.66</td>\n",
       "      <td>235.49</td>\n",
       "      <td>226.85</td>\n",
       "      <td>233.06</td>\n",
       "      <td>17759521</td>\n",
       "      <td>GOOGL</td>\n",
       "    </tr>\n",
       "    <tr>\n",
       "      <th>2006-01-07</th>\n",
       "      <td>228.66</td>\n",
       "      <td>235.49</td>\n",
       "      <td>226.85</td>\n",
       "      <td>233.06</td>\n",
       "      <td>17759521</td>\n",
       "      <td>GOOGL</td>\n",
       "    </tr>\n",
       "    <tr>\n",
       "      <th>2006-01-08</th>\n",
       "      <td>228.66</td>\n",
       "      <td>235.49</td>\n",
       "      <td>226.85</td>\n",
       "      <td>233.06</td>\n",
       "      <td>17759521</td>\n",
       "      <td>GOOGL</td>\n",
       "    </tr>\n",
       "    <tr>\n",
       "      <th>2006-01-09</th>\n",
       "      <td>233.44</td>\n",
       "      <td>236.94</td>\n",
       "      <td>230.70</td>\n",
       "      <td>233.68</td>\n",
       "      <td>12795837</td>\n",
       "      <td>GOOGL</td>\n",
       "    </tr>\n",
       "    <tr>\n",
       "      <th>2006-01-10</th>\n",
       "      <td>232.44</td>\n",
       "      <td>235.36</td>\n",
       "      <td>231.25</td>\n",
       "      <td>235.11</td>\n",
       "      <td>9104719</td>\n",
       "      <td>GOOGL</td>\n",
       "    </tr>\n",
       "    <tr>\n",
       "      <th>2006-01-11</th>\n",
       "      <td>235.87</td>\n",
       "      <td>237.79</td>\n",
       "      <td>234.82</td>\n",
       "      <td>236.05</td>\n",
       "      <td>9008664</td>\n",
       "      <td>GOOGL</td>\n",
       "    </tr>\n",
       "    <tr>\n",
       "      <th>2006-01-12</th>\n",
       "      <td>237.10</td>\n",
       "      <td>237.73</td>\n",
       "      <td>230.98</td>\n",
       "      <td>232.05</td>\n",
       "      <td>10125212</td>\n",
       "      <td>GOOGL</td>\n",
       "    </tr>\n",
       "    <tr>\n",
       "      <th>2006-01-13</th>\n",
       "      <td>232.39</td>\n",
       "      <td>233.68</td>\n",
       "      <td>231.04</td>\n",
       "      <td>233.36</td>\n",
       "      <td>7660220</td>\n",
       "      <td>GOOGL</td>\n",
       "    </tr>\n",
       "    <tr>\n",
       "      <th>2006-01-14</th>\n",
       "      <td>232.39</td>\n",
       "      <td>233.68</td>\n",
       "      <td>231.04</td>\n",
       "      <td>233.36</td>\n",
       "      <td>7660220</td>\n",
       "      <td>GOOGL</td>\n",
       "    </tr>\n",
       "    <tr>\n",
       "      <th>2006-01-15</th>\n",
       "      <td>232.39</td>\n",
       "      <td>233.68</td>\n",
       "      <td>231.04</td>\n",
       "      <td>233.36</td>\n",
       "      <td>7660220</td>\n",
       "      <td>GOOGL</td>\n",
       "    </tr>\n",
       "    <tr>\n",
       "      <th>2006-01-16</th>\n",
       "      <td>232.39</td>\n",
       "      <td>233.68</td>\n",
       "      <td>231.04</td>\n",
       "      <td>233.36</td>\n",
       "      <td>7660220</td>\n",
       "      <td>GOOGL</td>\n",
       "    </tr>\n",
       "    <tr>\n",
       "      <th>2006-01-17</th>\n",
       "      <td>231.76</td>\n",
       "      <td>235.18</td>\n",
       "      <td>231.50</td>\n",
       "      <td>233.79</td>\n",
       "      <td>8335300</td>\n",
       "      <td>GOOGL</td>\n",
       "    </tr>\n",
       "    <tr>\n",
       "      <th>2006-01-18</th>\n",
       "      <td>223.87</td>\n",
       "      <td>228.91</td>\n",
       "      <td>221.85</td>\n",
       "      <td>222.68</td>\n",
       "      <td>20511176</td>\n",
       "      <td>GOOGL</td>\n",
       "    </tr>\n",
       "    <tr>\n",
       "      <th>2006-01-19</th>\n",
       "      <td>225.81</td>\n",
       "      <td>226.97</td>\n",
       "      <td>216.72</td>\n",
       "      <td>218.44</td>\n",
       "      <td>14539830</td>\n",
       "      <td>GOOGL</td>\n",
       "    </tr>\n",
       "    <tr>\n",
       "      <th>2006-01-20</th>\n",
       "      <td>219.57</td>\n",
       "      <td>220.24</td>\n",
       "      <td>197.57</td>\n",
       "      <td>199.93</td>\n",
       "      <td>41182889</td>\n",
       "      <td>GOOGL</td>\n",
       "    </tr>\n",
       "    <tr>\n",
       "      <th>2006-01-21</th>\n",
       "      <td>219.57</td>\n",
       "      <td>220.24</td>\n",
       "      <td>197.57</td>\n",
       "      <td>199.93</td>\n",
       "      <td>41182889</td>\n",
       "      <td>GOOGL</td>\n",
       "    </tr>\n",
       "    <tr>\n",
       "      <th>2006-01-22</th>\n",
       "      <td>219.57</td>\n",
       "      <td>220.24</td>\n",
       "      <td>197.57</td>\n",
       "      <td>199.93</td>\n",
       "      <td>41182889</td>\n",
       "      <td>GOOGL</td>\n",
       "    </tr>\n",
       "    <tr>\n",
       "      <th>2006-01-23</th>\n",
       "      <td>203.89</td>\n",
       "      <td>214.41</td>\n",
       "      <td>203.07</td>\n",
       "      <td>213.96</td>\n",
       "      <td>22768073</td>\n",
       "      <td>GOOGL</td>\n",
       "    </tr>\n",
       "    <tr>\n",
       "      <th>2006-01-24</th>\n",
       "      <td>218.23</td>\n",
       "      <td>222.70</td>\n",
       "      <td>217.46</td>\n",
       "      <td>221.74</td>\n",
       "      <td>15468453</td>\n",
       "      <td>GOOGL</td>\n",
       "    </tr>\n",
       "    <tr>\n",
       "      <th>2006-01-25</th>\n",
       "      <td>225.86</td>\n",
       "      <td>227.34</td>\n",
       "      <td>214.82</td>\n",
       "      <td>216.72</td>\n",
       "      <td>18746567</td>\n",
       "      <td>GOOGL</td>\n",
       "    </tr>\n",
       "    <tr>\n",
       "      <th>2006-01-26</th>\n",
       "      <td>219.99</td>\n",
       "      <td>220.22</td>\n",
       "      <td>211.99</td>\n",
       "      <td>217.35</td>\n",
       "      <td>12931382</td>\n",
       "      <td>GOOGL</td>\n",
       "    </tr>\n",
       "    <tr>\n",
       "      <th>2006-01-27</th>\n",
       "      <td>217.72</td>\n",
       "      <td>219.33</td>\n",
       "      <td>214.70</td>\n",
       "      <td>216.96</td>\n",
       "      <td>8459747</td>\n",
       "      <td>GOOGL</td>\n",
       "    </tr>\n",
       "    <tr>\n",
       "      <th>2006-01-28</th>\n",
       "      <td>217.72</td>\n",
       "      <td>219.33</td>\n",
       "      <td>214.70</td>\n",
       "      <td>216.96</td>\n",
       "      <td>8459747</td>\n",
       "      <td>GOOGL</td>\n",
       "    </tr>\n",
       "    <tr>\n",
       "      <th>2006-01-29</th>\n",
       "      <td>217.72</td>\n",
       "      <td>219.33</td>\n",
       "      <td>214.70</td>\n",
       "      <td>216.96</td>\n",
       "      <td>8459747</td>\n",
       "      <td>GOOGL</td>\n",
       "    </tr>\n",
       "    <tr>\n",
       "      <th>2006-01-30</th>\n",
       "      <td>214.83</td>\n",
       "      <td>216.86</td>\n",
       "      <td>212.71</td>\n",
       "      <td>213.62</td>\n",
       "      <td>8596167</td>\n",
       "      <td>GOOGL</td>\n",
       "    </tr>\n",
       "    <tr>\n",
       "      <th>2006-01-31</th>\n",
       "      <td>215.50</td>\n",
       "      <td>220.02</td>\n",
       "      <td>212.20</td>\n",
       "      <td>216.55</td>\n",
       "      <td>22449604</td>\n",
       "      <td>GOOGL</td>\n",
       "    </tr>\n",
       "    <tr>\n",
       "      <th>2006-02-01</th>\n",
       "      <td>194.71</td>\n",
       "      <td>201.20</td>\n",
       "      <td>193.95</td>\n",
       "      <td>201.09</td>\n",
       "      <td>27132792</td>\n",
       "      <td>GOOGL</td>\n",
       "    </tr>\n",
       "    <tr>\n",
       "      <th>...</th>\n",
       "      <td>...</td>\n",
       "      <td>...</td>\n",
       "      <td>...</td>\n",
       "      <td>...</td>\n",
       "      <td>...</td>\n",
       "      <td>...</td>\n",
       "    </tr>\n",
       "    <tr>\n",
       "      <th>2017-11-30</th>\n",
       "      <td>1039.94</td>\n",
       "      <td>1044.14</td>\n",
       "      <td>1030.07</td>\n",
       "      <td>1036.17</td>\n",
       "      <td>2254590</td>\n",
       "      <td>GOOGL</td>\n",
       "    </tr>\n",
       "    <tr>\n",
       "      <th>2017-12-01</th>\n",
       "      <td>1030.41</td>\n",
       "      <td>1037.24</td>\n",
       "      <td>1016.90</td>\n",
       "      <td>1025.07</td>\n",
       "      <td>1888081</td>\n",
       "      <td>GOOGL</td>\n",
       "    </tr>\n",
       "    <tr>\n",
       "      <th>2017-12-02</th>\n",
       "      <td>1030.41</td>\n",
       "      <td>1037.24</td>\n",
       "      <td>1016.90</td>\n",
       "      <td>1025.07</td>\n",
       "      <td>1888081</td>\n",
       "      <td>GOOGL</td>\n",
       "    </tr>\n",
       "    <tr>\n",
       "      <th>2017-12-03</th>\n",
       "      <td>1030.41</td>\n",
       "      <td>1037.24</td>\n",
       "      <td>1016.90</td>\n",
       "      <td>1025.07</td>\n",
       "      <td>1888081</td>\n",
       "      <td>GOOGL</td>\n",
       "    </tr>\n",
       "    <tr>\n",
       "      <th>2017-12-04</th>\n",
       "      <td>1027.80</td>\n",
       "      <td>1031.34</td>\n",
       "      <td>1009.22</td>\n",
       "      <td>1011.87</td>\n",
       "      <td>1938861</td>\n",
       "      <td>GOOGL</td>\n",
       "    </tr>\n",
       "    <tr>\n",
       "      <th>2017-12-05</th>\n",
       "      <td>1010.99</td>\n",
       "      <td>1036.68</td>\n",
       "      <td>1002.32</td>\n",
       "      <td>1019.60</td>\n",
       "      <td>1949865</td>\n",
       "      <td>GOOGL</td>\n",
       "    </tr>\n",
       "    <tr>\n",
       "      <th>2017-12-06</th>\n",
       "      <td>1016.52</td>\n",
       "      <td>1039.58</td>\n",
       "      <td>1015.31</td>\n",
       "      <td>1032.72</td>\n",
       "      <td>1435549</td>\n",
       "      <td>GOOGL</td>\n",
       "    </tr>\n",
       "    <tr>\n",
       "      <th>2017-12-07</th>\n",
       "      <td>1036.07</td>\n",
       "      <td>1048.92</td>\n",
       "      <td>1035.36</td>\n",
       "      <td>1044.57</td>\n",
       "      <td>1543285</td>\n",
       "      <td>GOOGL</td>\n",
       "    </tr>\n",
       "    <tr>\n",
       "      <th>2017-12-08</th>\n",
       "      <td>1051.81</td>\n",
       "      <td>1056.42</td>\n",
       "      <td>1045.86</td>\n",
       "      <td>1049.38</td>\n",
       "      <td>1558472</td>\n",
       "      <td>GOOGL</td>\n",
       "    </tr>\n",
       "    <tr>\n",
       "      <th>2017-12-09</th>\n",
       "      <td>1051.81</td>\n",
       "      <td>1056.42</td>\n",
       "      <td>1045.86</td>\n",
       "      <td>1049.38</td>\n",
       "      <td>1558472</td>\n",
       "      <td>GOOGL</td>\n",
       "    </tr>\n",
       "    <tr>\n",
       "      <th>2017-12-10</th>\n",
       "      <td>1051.81</td>\n",
       "      <td>1056.42</td>\n",
       "      <td>1045.86</td>\n",
       "      <td>1049.38</td>\n",
       "      <td>1558472</td>\n",
       "      <td>GOOGL</td>\n",
       "    </tr>\n",
       "    <tr>\n",
       "      <th>2017-12-11</th>\n",
       "      <td>1051.11</td>\n",
       "      <td>1056.00</td>\n",
       "      <td>1044.12</td>\n",
       "      <td>1051.97</td>\n",
       "      <td>1162694</td>\n",
       "      <td>GOOGL</td>\n",
       "    </tr>\n",
       "    <tr>\n",
       "      <th>2017-12-12</th>\n",
       "      <td>1050.00</td>\n",
       "      <td>1062.50</td>\n",
       "      <td>1044.87</td>\n",
       "      <td>1048.77</td>\n",
       "      <td>1694061</td>\n",
       "      <td>GOOGL</td>\n",
       "    </tr>\n",
       "    <tr>\n",
       "      <th>2017-12-13</th>\n",
       "      <td>1052.08</td>\n",
       "      <td>1055.48</td>\n",
       "      <td>1046.58</td>\n",
       "      <td>1051.39</td>\n",
       "      <td>1384038</td>\n",
       "      <td>GOOGL</td>\n",
       "    </tr>\n",
       "    <tr>\n",
       "      <th>2017-12-14</th>\n",
       "      <td>1055.49</td>\n",
       "      <td>1067.08</td>\n",
       "      <td>1053.60</td>\n",
       "      <td>1057.47</td>\n",
       "      <td>1548139</td>\n",
       "      <td>GOOGL</td>\n",
       "    </tr>\n",
       "    <tr>\n",
       "      <th>2017-12-15</th>\n",
       "      <td>1063.78</td>\n",
       "      <td>1075.25</td>\n",
       "      <td>1060.09</td>\n",
       "      <td>1072.00</td>\n",
       "      <td>3187985</td>\n",
       "      <td>GOOGL</td>\n",
       "    </tr>\n",
       "    <tr>\n",
       "      <th>2017-12-16</th>\n",
       "      <td>1063.78</td>\n",
       "      <td>1075.25</td>\n",
       "      <td>1060.09</td>\n",
       "      <td>1072.00</td>\n",
       "      <td>3187985</td>\n",
       "      <td>GOOGL</td>\n",
       "    </tr>\n",
       "    <tr>\n",
       "      <th>2017-12-17</th>\n",
       "      <td>1063.78</td>\n",
       "      <td>1075.25</td>\n",
       "      <td>1060.09</td>\n",
       "      <td>1072.00</td>\n",
       "      <td>3187985</td>\n",
       "      <td>GOOGL</td>\n",
       "    </tr>\n",
       "    <tr>\n",
       "      <th>2017-12-18</th>\n",
       "      <td>1076.45</td>\n",
       "      <td>1086.49</td>\n",
       "      <td>1070.37</td>\n",
       "      <td>1085.09</td>\n",
       "      <td>1514601</td>\n",
       "      <td>GOOGL</td>\n",
       "    </tr>\n",
       "    <tr>\n",
       "      <th>2017-12-19</th>\n",
       "      <td>1083.02</td>\n",
       "      <td>1084.98</td>\n",
       "      <td>1072.27</td>\n",
       "      <td>1079.78</td>\n",
       "      <td>1317519</td>\n",
       "      <td>GOOGL</td>\n",
       "    </tr>\n",
       "    <tr>\n",
       "      <th>2017-12-20</th>\n",
       "      <td>1080.92</td>\n",
       "      <td>1081.24</td>\n",
       "      <td>1068.60</td>\n",
       "      <td>1073.56</td>\n",
       "      <td>1436391</td>\n",
       "      <td>GOOGL</td>\n",
       "    </tr>\n",
       "    <tr>\n",
       "      <th>2017-12-21</th>\n",
       "      <td>1075.39</td>\n",
       "      <td>1077.52</td>\n",
       "      <td>1069.00</td>\n",
       "      <td>1070.85</td>\n",
       "      <td>1282025</td>\n",
       "      <td>GOOGL</td>\n",
       "    </tr>\n",
       "    <tr>\n",
       "      <th>2017-12-22</th>\n",
       "      <td>1070.00</td>\n",
       "      <td>1071.72</td>\n",
       "      <td>1067.64</td>\n",
       "      <td>1068.86</td>\n",
       "      <td>889446</td>\n",
       "      <td>GOOGL</td>\n",
       "    </tr>\n",
       "    <tr>\n",
       "      <th>2017-12-23</th>\n",
       "      <td>1070.00</td>\n",
       "      <td>1071.72</td>\n",
       "      <td>1067.64</td>\n",
       "      <td>1068.86</td>\n",
       "      <td>889446</td>\n",
       "      <td>GOOGL</td>\n",
       "    </tr>\n",
       "    <tr>\n",
       "      <th>2017-12-24</th>\n",
       "      <td>1070.00</td>\n",
       "      <td>1071.72</td>\n",
       "      <td>1067.64</td>\n",
       "      <td>1068.86</td>\n",
       "      <td>889446</td>\n",
       "      <td>GOOGL</td>\n",
       "    </tr>\n",
       "    <tr>\n",
       "      <th>2017-12-25</th>\n",
       "      <td>1070.00</td>\n",
       "      <td>1071.72</td>\n",
       "      <td>1067.64</td>\n",
       "      <td>1068.86</td>\n",
       "      <td>889446</td>\n",
       "      <td>GOOGL</td>\n",
       "    </tr>\n",
       "    <tr>\n",
       "      <th>2017-12-26</th>\n",
       "      <td>1068.64</td>\n",
       "      <td>1068.86</td>\n",
       "      <td>1058.64</td>\n",
       "      <td>1065.85</td>\n",
       "      <td>918767</td>\n",
       "      <td>GOOGL</td>\n",
       "    </tr>\n",
       "    <tr>\n",
       "      <th>2017-12-27</th>\n",
       "      <td>1066.60</td>\n",
       "      <td>1068.27</td>\n",
       "      <td>1058.38</td>\n",
       "      <td>1060.20</td>\n",
       "      <td>1116203</td>\n",
       "      <td>GOOGL</td>\n",
       "    </tr>\n",
       "    <tr>\n",
       "      <th>2017-12-28</th>\n",
       "      <td>1062.25</td>\n",
       "      <td>1064.84</td>\n",
       "      <td>1053.38</td>\n",
       "      <td>1055.95</td>\n",
       "      <td>994249</td>\n",
       "      <td>GOOGL</td>\n",
       "    </tr>\n",
       "    <tr>\n",
       "      <th>2017-12-29</th>\n",
       "      <td>1055.49</td>\n",
       "      <td>1058.05</td>\n",
       "      <td>1052.70</td>\n",
       "      <td>1053.40</td>\n",
       "      <td>1180340</td>\n",
       "      <td>GOOGL</td>\n",
       "    </tr>\n",
       "  </tbody>\n",
       "</table>\n",
       "<p>4379 rows × 6 columns</p>\n",
       "</div>"
      ],
      "text/plain": [
       "               Open     High      Low    Close    Volume   Name\n",
       "Date                                                           \n",
       "2006-01-03   211.47   218.05   209.32   217.83  13137450  GOOGL\n",
       "2006-01-04   222.17   224.70   220.09   222.84  15292353  GOOGL\n",
       "2006-01-05   223.22   226.00   220.97   225.85  10815661  GOOGL\n",
       "2006-01-06   228.66   235.49   226.85   233.06  17759521  GOOGL\n",
       "2006-01-07   228.66   235.49   226.85   233.06  17759521  GOOGL\n",
       "2006-01-08   228.66   235.49   226.85   233.06  17759521  GOOGL\n",
       "2006-01-09   233.44   236.94   230.70   233.68  12795837  GOOGL\n",
       "2006-01-10   232.44   235.36   231.25   235.11   9104719  GOOGL\n",
       "2006-01-11   235.87   237.79   234.82   236.05   9008664  GOOGL\n",
       "2006-01-12   237.10   237.73   230.98   232.05  10125212  GOOGL\n",
       "2006-01-13   232.39   233.68   231.04   233.36   7660220  GOOGL\n",
       "2006-01-14   232.39   233.68   231.04   233.36   7660220  GOOGL\n",
       "2006-01-15   232.39   233.68   231.04   233.36   7660220  GOOGL\n",
       "2006-01-16   232.39   233.68   231.04   233.36   7660220  GOOGL\n",
       "2006-01-17   231.76   235.18   231.50   233.79   8335300  GOOGL\n",
       "2006-01-18   223.87   228.91   221.85   222.68  20511176  GOOGL\n",
       "2006-01-19   225.81   226.97   216.72   218.44  14539830  GOOGL\n",
       "2006-01-20   219.57   220.24   197.57   199.93  41182889  GOOGL\n",
       "2006-01-21   219.57   220.24   197.57   199.93  41182889  GOOGL\n",
       "2006-01-22   219.57   220.24   197.57   199.93  41182889  GOOGL\n",
       "2006-01-23   203.89   214.41   203.07   213.96  22768073  GOOGL\n",
       "2006-01-24   218.23   222.70   217.46   221.74  15468453  GOOGL\n",
       "2006-01-25   225.86   227.34   214.82   216.72  18746567  GOOGL\n",
       "2006-01-26   219.99   220.22   211.99   217.35  12931382  GOOGL\n",
       "2006-01-27   217.72   219.33   214.70   216.96   8459747  GOOGL\n",
       "2006-01-28   217.72   219.33   214.70   216.96   8459747  GOOGL\n",
       "2006-01-29   217.72   219.33   214.70   216.96   8459747  GOOGL\n",
       "2006-01-30   214.83   216.86   212.71   213.62   8596167  GOOGL\n",
       "2006-01-31   215.50   220.02   212.20   216.55  22449604  GOOGL\n",
       "2006-02-01   194.71   201.20   193.95   201.09  27132792  GOOGL\n",
       "...             ...      ...      ...      ...       ...    ...\n",
       "2017-11-30  1039.94  1044.14  1030.07  1036.17   2254590  GOOGL\n",
       "2017-12-01  1030.41  1037.24  1016.90  1025.07   1888081  GOOGL\n",
       "2017-12-02  1030.41  1037.24  1016.90  1025.07   1888081  GOOGL\n",
       "2017-12-03  1030.41  1037.24  1016.90  1025.07   1888081  GOOGL\n",
       "2017-12-04  1027.80  1031.34  1009.22  1011.87   1938861  GOOGL\n",
       "2017-12-05  1010.99  1036.68  1002.32  1019.60   1949865  GOOGL\n",
       "2017-12-06  1016.52  1039.58  1015.31  1032.72   1435549  GOOGL\n",
       "2017-12-07  1036.07  1048.92  1035.36  1044.57   1543285  GOOGL\n",
       "2017-12-08  1051.81  1056.42  1045.86  1049.38   1558472  GOOGL\n",
       "2017-12-09  1051.81  1056.42  1045.86  1049.38   1558472  GOOGL\n",
       "2017-12-10  1051.81  1056.42  1045.86  1049.38   1558472  GOOGL\n",
       "2017-12-11  1051.11  1056.00  1044.12  1051.97   1162694  GOOGL\n",
       "2017-12-12  1050.00  1062.50  1044.87  1048.77   1694061  GOOGL\n",
       "2017-12-13  1052.08  1055.48  1046.58  1051.39   1384038  GOOGL\n",
       "2017-12-14  1055.49  1067.08  1053.60  1057.47   1548139  GOOGL\n",
       "2017-12-15  1063.78  1075.25  1060.09  1072.00   3187985  GOOGL\n",
       "2017-12-16  1063.78  1075.25  1060.09  1072.00   3187985  GOOGL\n",
       "2017-12-17  1063.78  1075.25  1060.09  1072.00   3187985  GOOGL\n",
       "2017-12-18  1076.45  1086.49  1070.37  1085.09   1514601  GOOGL\n",
       "2017-12-19  1083.02  1084.98  1072.27  1079.78   1317519  GOOGL\n",
       "2017-12-20  1080.92  1081.24  1068.60  1073.56   1436391  GOOGL\n",
       "2017-12-21  1075.39  1077.52  1069.00  1070.85   1282025  GOOGL\n",
       "2017-12-22  1070.00  1071.72  1067.64  1068.86    889446  GOOGL\n",
       "2017-12-23  1070.00  1071.72  1067.64  1068.86    889446  GOOGL\n",
       "2017-12-24  1070.00  1071.72  1067.64  1068.86    889446  GOOGL\n",
       "2017-12-25  1070.00  1071.72  1067.64  1068.86    889446  GOOGL\n",
       "2017-12-26  1068.64  1068.86  1058.64  1065.85    918767  GOOGL\n",
       "2017-12-27  1066.60  1068.27  1058.38  1060.20   1116203  GOOGL\n",
       "2017-12-28  1062.25  1064.84  1053.38  1055.95    994249  GOOGL\n",
       "2017-12-29  1055.49  1058.05  1052.70  1053.40   1180340  GOOGL\n",
       "\n",
       "[4379 rows x 6 columns]"
      ]
     },
     "execution_count": 19,
     "metadata": {},
     "output_type": "execute_result"
    }
   ],
   "source": [
    "google.resample(\"D\").pad()"
   ]
  },
  {
   "cell_type": "code",
   "execution_count": 20,
   "metadata": {},
   "outputs": [],
   "source": []
  },
  {
   "cell_type": "code",
   "execution_count": 20,
   "metadata": {},
   "outputs": [
    {
     "data": {
      "text/html": [
       "<div>\n",
       "<style scoped>\n",
       "    .dataframe tbody tr th:only-of-type {\n",
       "        vertical-align: middle;\n",
       "    }\n",
       "\n",
       "    .dataframe tbody tr th {\n",
       "        vertical-align: top;\n",
       "    }\n",
       "\n",
       "    .dataframe thead th {\n",
       "        text-align: right;\n",
       "    }\n",
       "</style>\n",
       "<table border=\"1\" class=\"dataframe\">\n",
       "  <thead>\n",
       "    <tr style=\"text-align: right;\">\n",
       "      <th></th>\n",
       "      <th>Open</th>\n",
       "      <th>High</th>\n",
       "      <th>Low</th>\n",
       "      <th>Close</th>\n",
       "      <th>Volume</th>\n",
       "      <th>Name</th>\n",
       "    </tr>\n",
       "    <tr>\n",
       "      <th>Date</th>\n",
       "      <th></th>\n",
       "      <th></th>\n",
       "      <th></th>\n",
       "      <th></th>\n",
       "      <th></th>\n",
       "      <th></th>\n",
       "    </tr>\n",
       "  </thead>\n",
       "  <tbody>\n",
       "    <tr>\n",
       "      <th>2006-01-03</th>\n",
       "      <td>211.47</td>\n",
       "      <td>218.05</td>\n",
       "      <td>209.32</td>\n",
       "      <td>217.83</td>\n",
       "      <td>13137450</td>\n",
       "      <td>GOOGL</td>\n",
       "    </tr>\n",
       "    <tr>\n",
       "      <th>2006-01-04</th>\n",
       "      <td>222.17</td>\n",
       "      <td>224.70</td>\n",
       "      <td>220.09</td>\n",
       "      <td>222.84</td>\n",
       "      <td>15292353</td>\n",
       "      <td>GOOGL</td>\n",
       "    </tr>\n",
       "    <tr>\n",
       "      <th>2006-01-05</th>\n",
       "      <td>223.22</td>\n",
       "      <td>226.00</td>\n",
       "      <td>220.97</td>\n",
       "      <td>225.85</td>\n",
       "      <td>10815661</td>\n",
       "      <td>GOOGL</td>\n",
       "    </tr>\n",
       "    <tr>\n",
       "      <th>2006-01-06</th>\n",
       "      <td>228.66</td>\n",
       "      <td>235.49</td>\n",
       "      <td>226.85</td>\n",
       "      <td>233.06</td>\n",
       "      <td>17759521</td>\n",
       "      <td>GOOGL</td>\n",
       "    </tr>\n",
       "    <tr>\n",
       "      <th>2006-01-09</th>\n",
       "      <td>233.44</td>\n",
       "      <td>236.94</td>\n",
       "      <td>230.70</td>\n",
       "      <td>233.68</td>\n",
       "      <td>12795837</td>\n",
       "      <td>GOOGL</td>\n",
       "    </tr>\n",
       "    <tr>\n",
       "      <th>2006-01-10</th>\n",
       "      <td>232.44</td>\n",
       "      <td>235.36</td>\n",
       "      <td>231.25</td>\n",
       "      <td>235.11</td>\n",
       "      <td>9104719</td>\n",
       "      <td>GOOGL</td>\n",
       "    </tr>\n",
       "    <tr>\n",
       "      <th>2006-01-11</th>\n",
       "      <td>235.87</td>\n",
       "      <td>237.79</td>\n",
       "      <td>234.82</td>\n",
       "      <td>236.05</td>\n",
       "      <td>9008664</td>\n",
       "      <td>GOOGL</td>\n",
       "    </tr>\n",
       "    <tr>\n",
       "      <th>2006-01-12</th>\n",
       "      <td>237.10</td>\n",
       "      <td>237.73</td>\n",
       "      <td>230.98</td>\n",
       "      <td>232.05</td>\n",
       "      <td>10125212</td>\n",
       "      <td>GOOGL</td>\n",
       "    </tr>\n",
       "    <tr>\n",
       "      <th>2006-01-13</th>\n",
       "      <td>232.39</td>\n",
       "      <td>233.68</td>\n",
       "      <td>231.04</td>\n",
       "      <td>233.36</td>\n",
       "      <td>7660220</td>\n",
       "      <td>GOOGL</td>\n",
       "    </tr>\n",
       "    <tr>\n",
       "      <th>2006-01-17</th>\n",
       "      <td>231.76</td>\n",
       "      <td>235.18</td>\n",
       "      <td>231.50</td>\n",
       "      <td>233.79</td>\n",
       "      <td>8335300</td>\n",
       "      <td>GOOGL</td>\n",
       "    </tr>\n",
       "  </tbody>\n",
       "</table>\n",
       "</div>"
      ],
      "text/plain": [
       "              Open    High     Low   Close    Volume   Name\n",
       "Date                                                       \n",
       "2006-01-03  211.47  218.05  209.32  217.83  13137450  GOOGL\n",
       "2006-01-04  222.17  224.70  220.09  222.84  15292353  GOOGL\n",
       "2006-01-05  223.22  226.00  220.97  225.85  10815661  GOOGL\n",
       "2006-01-06  228.66  235.49  226.85  233.06  17759521  GOOGL\n",
       "2006-01-09  233.44  236.94  230.70  233.68  12795837  GOOGL\n",
       "2006-01-10  232.44  235.36  231.25  235.11   9104719  GOOGL\n",
       "2006-01-11  235.87  237.79  234.82  236.05   9008664  GOOGL\n",
       "2006-01-12  237.10  237.73  230.98  232.05  10125212  GOOGL\n",
       "2006-01-13  232.39  233.68  231.04  233.36   7660220  GOOGL\n",
       "2006-01-17  231.76  235.18  231.50  233.79   8335300  GOOGL"
      ]
     },
     "execution_count": 20,
     "metadata": {},
     "output_type": "execute_result"
    }
   ],
   "source": [
    "google.head(10)"
   ]
  },
  {
   "cell_type": "code",
   "execution_count": 21,
   "metadata": {},
   "outputs": [],
   "source": [
    "from statsmodels.graphics.tsaplots import plot_acf, plot_pacf"
   ]
  },
  {
   "cell_type": "code",
   "execution_count": 22,
   "metadata": {},
   "outputs": [
    {
     "data": {
      "image/png": "[encoded data removed]",
      "text/plain": [
       "<Figure size 432x288 with 1 Axes>"
      ]
     },
     "metadata": {},
     "output_type": "display_data"
    }
   ],
   "source": [
    "plot_acf(google[\"Close\"], lags=20,title=\"Google\")\n",
    "plt.show()"
   ]
  },
  {
   "cell_type": "code",
   "execution_count": 23,
   "metadata": {},
   "outputs": [],
   "source": [
    "from statsmodels.tsa.stattools import acf, pacf"
   ]
  },
  {
   "cell_type": "code",
   "execution_count": 24,
   "metadata": {},
   "outputs": [
    {
     "data": {
      "image/png": "[encoded data removed]",
      "text/plain": [
       "<Figure size 432x288 with 1 Axes>"
      ]
     },
     "metadata": {},
     "output_type": "display_data"
    }
   ],
   "source": [
    "plot_pacf(google[\"High\"], lags=10,title=\"Google\")\n",
    "plt.show()"
   ]
  },
  {
   "cell_type": "code",
   "execution_count": 25,
   "metadata": {},
   "outputs": [],
   "source": [
    "acf1=np.log(google[\"High\"])-np.log(google[\"High\"]).shift()"
   ]
  },
  {
   "cell_type": "code",
   "execution_count": 26,
   "metadata": {},
   "outputs": [],
   "source": [
    "acf1=acf1[1:]"
   ]
  },
  {
   "cell_type": "code",
   "execution_count": 27,
   "metadata": {},
   "outputs": [],
   "source": [
    "lag_acf= acf(acf1,nlags=15)"
   ]
  },
  {
   "cell_type": "code",
   "execution_count": 28,
   "metadata": {},
   "outputs": [],
   "source": [
    "lag_pacf= pacf(acf1,nlags=15)"
   ]
  },
  {
   "cell_type": "code",
   "execution_count": 29,
   "metadata": {},
   "outputs": [
    {
     "data": {
      "text/plain": [
       "[<matplotlib.lines.Line2D at 0x7f64ee5d2748>]"
      ]
     },
     "execution_count": 29,
     "metadata": {},
     "output_type": "execute_result"
    },
    {
     "data": {
      "image/png": "[encoded data removed]",
      "text/plain": [
       "<Figure size 432x288 with 1 Axes>"
      ]
     },
     "metadata": {},
     "output_type": "display_data"
    }
   ],
   "source": [
    "plt.subplot(121) \n",
    "plt.plot(lag_acf)\n"
   ]
  },
  {
   "cell_type": "code",
   "execution_count": 30,
   "metadata": {},
   "outputs": [
    {
     "data": {
      "text/plain": [
       "[<matplotlib.lines.Line2D at 0x7f64ee5062e8>]"
      ]
     },
     "execution_count": 30,
     "metadata": {},
     "output_type": "execute_result"
    },
    {
     "data": {
      "image/png": "[encoded data removed]",
      "text/plain": [
       "<Figure size 432x288 with 1 Axes>"
      ]
     },
     "metadata": {},
     "output_type": "display_data"
    }
   ],
   "source": [
    "plt.subplot(122)\n",
    "plt.plot(lag_pacf)\n"
   ]
  },
  {
   "cell_type": "code",
   "execution_count": 31,
   "metadata": {},
   "outputs": [
    {
     "data": {
      "text/plain": [
       "array([ 1.00000000e+00,  1.06361746e-01, -2.22826072e-02,  1.37621856e-02,\n",
       "        7.99862333e-03, -1.51581692e-02, -1.29972661e-02,  1.42099618e-02,\n",
       "        6.74929508e-03, -7.55912525e-04,  1.16159399e-02, -2.87210664e-02,\n",
       "        4.92226156e-02, -2.68822801e-03, -2.18009617e-02, -6.04833865e-03])"
      ]
     },
     "execution_count": 31,
     "metadata": {},
     "output_type": "execute_result"
    }
   ],
   "source": [
    "lag_pacf"
   ]
  },
  {
   "cell_type": "code",
   "execution_count": 32,
   "metadata": {},
   "outputs": [],
   "source": [
    "model= ARIMA(np.log(google[\"High\"]),order=(2,1,2))\n",
    "result=model.fit(disp=-1)"
   ]
  },
  {
   "cell_type": "code",
   "execution_count": 33,
   "metadata": {},
   "outputs": [
    {
     "data": {
      "text/plain": [
       "<statsmodels.tsa.arima_model.ARIMAResultsWrapper at 0x7f64e8572a90>"
      ]
     },
     "execution_count": 33,
     "metadata": {},
     "output_type": "execute_result"
    }
   ],
   "source": [
    "result"
   ]
  },
  {
   "cell_type": "code",
   "execution_count": 34,
   "metadata": {},
   "outputs": [
    {
     "data": {
      "text/plain": [
       "[<matplotlib.lines.Line2D at 0x7f64e81090f0>]"
      ]
     },
     "execution_count": 34,
     "metadata": {},
     "output_type": "execute_result"
    },
    {
     "data": {
      "image/png": "[encoded data removed]",
      "text/plain": [
       "<Figure size 432x288 with 1 Axes>"
      ]
     },
     "metadata": {},
     "output_type": "display_data"
    }
   ],
   "source": [
    "plt.plot(figsize=(6,24))\n",
    "plt.plot(acf1)\n",
    "plt.plot(result.fittedvalues, color='red')"
   ]
  },
  {
   "cell_type": "code",
   "execution_count": 35,
   "metadata": {},
   "outputs": [],
   "source": [
    "data= google.High"
   ]
  },
  {
   "cell_type": "code",
   "execution_count": 36,
   "metadata": {},
   "outputs": [],
   "source": [
    "from pandas.tools.plotting import autocorrelation_plot"
   ]
  },
  {
   "cell_type": "code",
   "execution_count": 37,
   "metadata": {},
   "outputs": [
    {
     "data": {
      "text/plain": [
       "<matplotlib.axes._subplots.AxesSubplot at 0x7f64ee5e44e0>"
      ]
     },
     "execution_count": 37,
     "metadata": {},
     "output_type": "execute_result"
    },
    {
     "data": {
      "image/png": "[encoded data removed]",
      "text/plain": [
       "<Figure size 432x288 with 1 Axes>"
      ]
     },
     "metadata": {},
     "output_type": "display_data"
    }
   ],
   "source": [
    "autocorrelation_plot(data)"
   ]
  },
  {
   "cell_type": "code",
   "execution_count": 38,
   "metadata": {},
   "outputs": [
    {
     "data": {
      "text/plain": [
       "[<matplotlib.lines.Line2D at 0x7f64e806d128>]"
      ]
     },
     "execution_count": 38,
     "metadata": {},
     "output_type": "execute_result"
    },
    {
     "data": {
      "image/png": "[encoded data removed]",
      "text/plain": [
       "<Figure size 432x288 with 1 Axes>"
      ]
     },
     "metadata": {},
     "output_type": "display_data"
    }
   ],
   "source": [
    "lag_acf = acf(data, nlags=400)\n",
    "plt.plot(lag_acf)"
   ]
  },
  {
   "cell_type": "code",
   "execution_count": 39,
   "metadata": {},
   "outputs": [],
   "source": [
    "model = ARIMA(data, order=(20,1,0))"
   ]
  },
  {
   "cell_type": "code",
   "execution_count": 40,
   "metadata": {},
   "outputs": [],
   "source": [
    "model_fit = model.fit(disp=0)\n"
   ]
  },
  {
   "cell_type": "code",
   "execution_count": 41,
   "metadata": {},
   "outputs": [
    {
     "name": "stdout",
     "output_type": "stream",
     "text": [
      "                             ARIMA Model Results                              \n",
      "==============================================================================\n",
      "Dep. Variable:                 D.High   No. Observations:                 3018\n",
      "Model:                ARIMA(20, 1, 0)   Log Likelihood               -9839.595\n",
      "Method:                       css-mle   S.D. of innovations              6.305\n",
      "Date:                Sat, 13 Apr 2019   AIC                          19723.189\n",
      "Time:                        13:33:11   BIC                          19855.461\n",
      "Sample:                             1   HQIC                         19770.753\n",
      "                                                                              \n",
      "=================================================================================\n",
      "                    coef    std err          z      P>|z|      [0.025      0.975]\n",
      "---------------------------------------------------------------------------------\n",
      "const             0.2784      0.129      2.158      0.031       0.026       0.531\n",
      "ar.L1.D.High      0.1122      0.018      6.171      0.000       0.077       0.148\n",
      "ar.L2.D.High     -0.0360      0.018     -1.968      0.049      -0.072      -0.000\n",
      "ar.L3.D.High      0.0053      0.018      0.289      0.773      -0.031       0.041\n",
      "ar.L4.D.High     -0.0186      0.018     -1.019      0.308      -0.054       0.017\n",
      "ar.L5.D.High     -0.0221      0.018     -1.207      0.228      -0.058       0.014\n",
      "ar.L6.D.High     -0.0005      0.018     -0.025      0.980      -0.036       0.035\n",
      "ar.L7.D.High     -0.0021      0.018     -0.114      0.910      -0.038       0.034\n",
      "ar.L8.D.High     -0.0140      0.018     -0.769      0.442      -0.050       0.022\n",
      "ar.L9.D.High     -0.0075      0.018     -0.413      0.680      -0.043       0.028\n",
      "ar.L10.D.High    -0.0214      0.018     -1.170      0.242      -0.057       0.014\n",
      "ar.L11.D.High    -0.0087      0.018     -0.475      0.635      -0.045       0.027\n",
      "ar.L12.D.High    -0.0028      0.018     -0.154      0.878      -0.039       0.033\n",
      "ar.L13.D.High     0.0250      0.018      1.364      0.173      -0.011       0.061\n",
      "ar.L14.D.High     0.0100      0.018      0.546      0.585      -0.026       0.046\n",
      "ar.L15.D.High    -0.0232      0.018     -1.268      0.205      -0.059       0.013\n",
      "ar.L16.D.High    -0.0019      0.018     -0.102      0.919      -0.038       0.034\n",
      "ar.L17.D.High     0.0431      0.018      2.356      0.019       0.007       0.079\n",
      "ar.L18.D.High    -0.0082      0.018     -0.450      0.653      -0.044       0.028\n",
      "ar.L19.D.High     0.0387      0.018      2.110      0.035       0.003       0.075\n",
      "ar.L20.D.High     0.0439      0.018      2.403      0.016       0.008       0.080\n",
      "                                    Roots                                     \n",
      "==============================================================================\n",
      "                   Real          Imaginary           Modulus         Frequency\n",
      "------------------------------------------------------------------------------\n",
      "AR.1             1.1287           -0.0000j            1.1287           -0.0000\n",
      "AR.2             1.0541           -0.3675j            1.1163           -0.0534\n",
      "AR.3             1.0541           +0.3675j            1.1163            0.0534\n",
      "AR.4             0.9085           -0.6876j            1.1394           -0.1031\n",
      "AR.5             0.9085           +0.6876j            1.1394            0.1031\n",
      "AR.6             0.6401           -0.9368j            1.1346           -0.1546\n",
      "AR.7             0.6401           +0.9368j            1.1346            0.1546\n",
      "AR.8             0.3384           -1.1494j            1.1982           -0.2044\n",
      "AR.9             0.3384           +1.1494j            1.1982            0.2044\n",
      "AR.10            0.0229           -1.1663j            1.1666           -0.2469\n",
      "AR.11            0.0229           +1.1663j            1.1666            0.2469\n",
      "AR.12           -0.3569           -1.0707j            1.1286           -0.3012\n",
      "AR.13           -0.3569           +1.0707j            1.1286            0.3012\n",
      "AR.14           -0.7048           -0.8984j            1.1419           -0.3559\n",
      "AR.15           -0.7048           +0.8984j            1.1419            0.3559\n",
      "AR.16           -0.9983           -0.6314j            1.1812           -0.4102\n",
      "AR.17           -0.9983           +0.6314j            1.1812            0.4102\n",
      "AR.18           -1.1879           -0.2734j            1.2190           -0.4640\n",
      "AR.19           -1.1879           +0.2734j            1.2190            0.4640\n",
      "AR.20           -1.4424           -0.0000j            1.4424           -0.5000\n",
      "------------------------------------------------------------------------------\n"
     ]
    }
   ],
   "source": [
    "print(model_fit.summary())"
   ]
  },
  {
   "cell_type": "code",
   "execution_count": 42,
   "metadata": {},
   "outputs": [
    {
     "data": {
      "image/png": "[encoded data removed]",
      "text/plain": [
       "<Figure size 432x288 with 1 Axes>"
      ]
     },
     "metadata": {},
     "output_type": "display_data"
    }
   ],
   "source": [
    "model_fit.plot_predict(start=200, end=2000)\n",
    "plt.show()"
   ]
  },
  {
   "cell_type": "code",
   "execution_count": 43,
   "metadata": {},
   "outputs": [
    {
     "data": {
      "text/plain": [
       "DatetimeIndex(['2006-01-03', '2006-01-04', '2006-01-05', '2006-01-06',\n",
       "               '2006-01-09', '2006-01-10', '2006-01-11', '2006-01-12',\n",
       "               '2006-01-13', '2006-01-17',\n",
       "               ...\n",
       "               '2017-12-15', '2017-12-18', '2017-12-19', '2017-12-20',\n",
       "               '2017-12-21', '2017-12-22', '2017-12-26', '2017-12-27',\n",
       "               '2017-12-28', '2017-12-29'],\n",
       "              dtype='datetime64[ns]', name='Date', length=3019, freq=None)"
      ]
     },
     "execution_count": 43,
     "metadata": {},
     "output_type": "execute_result"
    }
   ],
   "source": [
    "data.index"
   ]
  },
  {
   "cell_type": "code",
   "execution_count": 44,
   "metadata": {},
   "outputs": [
    {
     "data": {
      "text/plain": [
       "[<matplotlib.lines.Line2D at 0x7f64daead390>]"
      ]
     },
     "execution_count": 44,
     "metadata": {},
     "output_type": "execute_result"
    },
    {
     "data": {
      "image/png": "[encoded data removed]",
      "text/plain": [
       "<Figure size 432x288 with 1 Axes>"
      ]
     },
     "metadata": {},
     "output_type": "display_data"
    }
   ],
   "source": [
    "plt.plot(data)\n",
    "plt.plot(model_fit.fittedvalues, color='red')"
   ]
  },
  {
   "cell_type": "code",
   "execution_count": 45,
   "metadata": {},
   "outputs": [],
   "source": [
    "pred = pd.Series(model_fit.fittedvalues, copy=True)"
   ]
  },
  {
   "cell_type": "code",
   "execution_count": 46,
   "metadata": {},
   "outputs": [],
   "source": [
    "predictions_A =pred.cumsum()"
   ]
  },
  {
   "cell_type": "code",
   "execution_count": 47,
   "metadata": {},
   "outputs": [
    {
     "data": {
      "text/plain": [
       "Date\n",
       "2006-01-04    0.278437\n",
       "2006-01-05    1.262485\n",
       "2006-01-06    1.436009\n",
       "2006-01-09    2.775038\n",
       "2006-01-10    2.728188\n",
       "2006-01-11    2.663901\n",
       "2006-01-12    3.081732\n",
       "2006-01-13    2.984999\n",
       "2006-01-17    2.713275\n",
       "2006-01-18    3.178566\n",
       "dtype: float64"
      ]
     },
     "execution_count": 47,
     "metadata": {},
     "output_type": "execute_result"
    }
   ],
   "source": [
    "predictions_A.head(10)"
   ]
  },
  {
   "cell_type": "code",
   "execution_count": 48,
   "metadata": {},
   "outputs": [
    {
     "data": {
      "text/plain": [
       "Date\n",
       "2006-01-03    218.050000\n",
       "2006-01-04    218.328437\n",
       "2006-01-05    219.312485\n",
       "2006-01-06    219.486009\n",
       "2006-01-09    220.825038\n",
       "2006-01-10    220.778188\n",
       "2006-01-11    220.713901\n",
       "2006-01-12    221.131732\n",
       "2006-01-13    221.034999\n",
       "2006-01-17    220.763275\n",
       "2006-01-18    221.228566\n",
       "2006-01-19    220.336963\n",
       "2006-01-20    220.505820\n",
       "2006-01-23    219.884158\n",
       "2006-01-24    219.834077\n",
       "dtype: float64"
      ]
     },
     "execution_count": 48,
     "metadata": {},
     "output_type": "execute_result"
    }
   ],
   "source": [
    "predictions_ARIMA_log1 = pd.Series(data.ix[0], index=data.index)\n",
    "predictions_ARIMA_log = predictions_ARIMA_log1.add(predictions_A,fill_value=0)\n",
    "predictions_ARIMA_log.head(15)"
   ]
  },
  {
   "cell_type": "code",
   "execution_count": 49,
   "metadata": {},
   "outputs": [
    {
     "data": {
      "text/plain": [
       "Date\n",
       "2006-01-03    218.05\n",
       "2006-01-04    224.70\n",
       "2006-01-05    226.00\n",
       "2006-01-06    235.49\n",
       "2006-01-09    236.94\n",
       "2006-01-10    235.36\n",
       "2006-01-11    237.79\n",
       "2006-01-12    237.73\n",
       "2006-01-13    233.68\n",
       "2006-01-17    235.18\n",
       "2006-01-18    228.91\n",
       "2006-01-19    226.97\n",
       "2006-01-20    220.24\n",
       "2006-01-23    214.41\n",
       "2006-01-24    222.70\n",
       "Name: High, dtype: float64"
      ]
     },
     "execution_count": 49,
     "metadata": {},
     "output_type": "execute_result"
    }
   ],
   "source": [
    "data.head(15)"
   ]
  },
  {
   "cell_type": "code",
   "execution_count": 50,
   "metadata": {},
   "outputs": [
    {
     "data": {
      "text/plain": [
       "Date\n",
       "2006-01-03    218.05\n",
       "2006-01-04    218.05\n",
       "2006-01-05    218.05\n",
       "2006-01-06    218.05\n",
       "2006-01-09    218.05\n",
       "2006-01-10    218.05\n",
       "2006-01-11    218.05\n",
       "2006-01-12    218.05\n",
       "2006-01-13    218.05\n",
       "2006-01-17    218.05\n",
       "dtype: float64"
      ]
     },
     "execution_count": 50,
     "metadata": {},
     "output_type": "execute_result"
    }
   ],
   "source": [
    "predictions_ARIMA_log1.head(10)"
   ]
  },
  {
   "cell_type": "code",
   "execution_count": 51,
   "metadata": {},
   "outputs": [],
   "source": []
  },
  {
   "cell_type": "code",
   "execution_count": 51,
   "metadata": {},
   "outputs": [],
   "source": []
  },
  {
   "cell_type": "code",
   "execution_count": 51,
   "metadata": {},
   "outputs": [],
   "source": []
  },
  {
   "cell_type": "code",
   "execution_count": 51,
   "metadata": {},
   "outputs": [],
   "source": []
  }
 ],
 "metadata": {
  "kernelspec": {
   "display_name": "Python 3",
   "language": "python",
   "name": "python3"
  },
  "language_info": {
   "codemirror_mode": {
    "name": "ipython",
    "version": 3
   },
   "file_extension": ".py",
   "mimetype": "text/x-python",
   "name": "python",
   "nbconvert_exporter": "python",
   "pygments_lexer": "ipython3",
   "version": "3.6.4"
  }
 },
 "nbformat": 4,
 "nbformat_minor": 1
}
